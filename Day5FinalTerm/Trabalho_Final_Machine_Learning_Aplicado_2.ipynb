{
  "nbformat": 4,
  "nbformat_minor": 0,
  "metadata": {
    "colab": {
      "name": "Trabalho Final - Machine Learning Aplicado 2.ipynb",
      "provenance": [],
      "collapsed_sections": []
    },
    "kernelspec": {
      "name": "python3",
      "display_name": "Python 3"
    },
    "language_info": {
      "name": "python"
    }
  },
  "cells": [
    {
      "cell_type": "markdown",
      "metadata": {
        "id": "ZxBzhw9_y_xt"
      },
      "source": [
        "#Trabalho Final - Machine Learning Aplicado 2"
      ]
    },
    {
      "cell_type": "markdown",
      "metadata": {
        "id": "Ef2jlfpkzAoz"
      },
      "source": [
        "##Descrição do Dataset"
      ]
    },
    {
      "cell_type": "markdown",
      "metadata": {
        "id": "4t1d8n0bzMko"
      },
      "source": [
        "O dataset escolhido para o trabalho foi adquirido na plataforma Kaggle. Lá, o dataset atende pelo título [Android Malware Dataset for Machine Learning](https://www.kaggle.com/shashwatwork/android-malware-dataset-for-machine-learning), mantido por by Shashwat Tiwari.\n",
        "\n",
        "O dataset possui 215 atributos extraídos de 15.036 softwares (5.560 softwares de malware do projeto Drebin e 9.476 softwares benignos). Um atributo a mais foi criado, contendo a classificação do software em *B* (benigno) ou *S* (malware). Ainda possui um arquivo de suporte contendo a descrição dos atributos, obtidos através da análise de código estático de aplicativos Android.\n",
        "\n",
        "Este dataset foi desenvolvido para um artigo científico publicado em 2019 na IEEE TRANSACTIONS ON CYBERNETICS (VOL. 49, NO. 2), entitulado de \"DroidFusion: A Novel Multilevel Classifier Fusion Approach for Android Malware Detection\"."
      ]
    },
    {
      "cell_type": "markdown",
      "metadata": {
        "id": "Q4kRc1fkzNtC"
      },
      "source": [
        "##Bibliotecas Utilizadas"
      ]
    },
    {
      "cell_type": "code",
      "metadata": {
        "id": "bHyYDqM55loU",
        "colab": {
          "base_uri": "https://localhost:8080/"
        },
        "outputId": "83c5461e-3c0c-4ff6-d496-9a8809f97011"
      },
      "source": [
        "import numpy as np\n",
        "import pandas as pd\n",
        "from google.colab import drive\n",
        "from tabulate import tabulate\n",
        "import matplotlib.pyplot as plt\n",
        "import seaborn as sns\n",
        "from sklearn.model_selection import train_test_split\n",
        "from sklearn.metrics import plot_confusion_matrix, classification_report\n",
        "from sklearn.metrics import roc_auc_score\n",
        "from imblearn.over_sampling import RandomOverSampler\n",
        "from imblearn.under_sampling import RandomUnderSampler\n",
        "from sklearn.naive_bayes import CategoricalNB, BernoulliNB\n",
        "from sklearn.feature_selection import *\n",
        "from sklearn.model_selection import KFold, cross_val_score\n",
        "from sklearn.cluster import KMeans\n",
        "from sklearn.svm import SVC\n",
        "from sklearn.pipeline import make_pipeline\n",
        "from sklearn.decomposition import PCA\n",
        "from sklearn.discriminant_analysis import LinearDiscriminantAnalysis\n",
        "from sklearn.feature_selection import RFE\n",
        "from sklearn.linear_model import LogisticRegression\n",
        "from sklearn.model_selection import GridSearchCV"
      ],
      "execution_count": null,
      "outputs": [
        {
          "output_type": "stream",
          "text": [
            "/usr/local/lib/python3.7/dist-packages/sklearn/externals/six.py:31: FutureWarning: The module is deprecated in version 0.21 and will be removed in version 0.23 since we've dropped support for Python 2.7. Please rely on the official version of six (https://pypi.org/project/six/).\n",
            "  \"(https://pypi.org/project/six/).\", FutureWarning)\n",
            "/usr/local/lib/python3.7/dist-packages/sklearn/utils/deprecation.py:144: FutureWarning: The sklearn.neighbors.base module is  deprecated in version 0.22 and will be removed in version 0.24. The corresponding classes / functions should instead be imported from sklearn.neighbors. Anything that cannot be imported from sklearn.neighbors is now part of the private API.\n",
            "  warnings.warn(message, FutureWarning)\n"
          ],
          "name": "stderr"
        }
      ]
    },
    {
      "cell_type": "markdown",
      "metadata": {
        "id": "u3Em4BGIzR33"
      },
      "source": [
        "##Carregando o Dataset"
      ]
    },
    {
      "cell_type": "code",
      "metadata": {
        "colab": {
          "base_uri": "https://localhost:8080/",
          "height": 495
        },
        "id": "jUX95Cr_5y44",
        "outputId": "acb2124f-fae7-412b-8792-f9da3938a532"
      },
      "source": [
        "drive.mount('/content/drive/')\n",
        "url1= '/content/drive/MyDrive/Colab Notebooks/ml_aplicado_2/FinalTerm/drebin-215-dataset-5560malware-9476-benign.csv'\n",
        "\n",
        "df_original = pd.read_csv(url1)\n",
        "df_original"
      ],
      "execution_count": null,
      "outputs": [
        {
          "output_type": "stream",
          "text": [
            "Mounted at /content/drive/\n"
          ],
          "name": "stdout"
        },
        {
          "output_type": "stream",
          "text": [
            "/usr/local/lib/python3.7/dist-packages/IPython/core/interactiveshell.py:2718: DtypeWarning: Columns (92) have mixed types.Specify dtype option on import or set low_memory=False.\n",
            "  interactivity=interactivity, compiler=compiler, result=result)\n"
          ],
          "name": "stderr"
        },
        {
          "output_type": "execute_result",
          "data": {
            "text/html": [
              "<div>\n",
              "<style scoped>\n",
              "    .dataframe tbody tr th:only-of-type {\n",
              "        vertical-align: middle;\n",
              "    }\n",
              "\n",
              "    .dataframe tbody tr th {\n",
              "        vertical-align: top;\n",
              "    }\n",
              "\n",
              "    .dataframe thead th {\n",
              "        text-align: right;\n",
              "    }\n",
              "</style>\n",
              "<table border=\"1\" class=\"dataframe\">\n",
              "  <thead>\n",
              "    <tr style=\"text-align: right;\">\n",
              "      <th></th>\n",
              "      <th>transact</th>\n",
              "      <th>onServiceConnected</th>\n",
              "      <th>bindService</th>\n",
              "      <th>attachInterface</th>\n",
              "      <th>ServiceConnection</th>\n",
              "      <th>android.os.Binder</th>\n",
              "      <th>SEND_SMS</th>\n",
              "      <th>Ljava.lang.Class.getCanonicalName</th>\n",
              "      <th>Ljava.lang.Class.getMethods</th>\n",
              "      <th>Ljava.lang.Class.cast</th>\n",
              "      <th>Ljava.net.URLDecoder</th>\n",
              "      <th>android.content.pm.Signature</th>\n",
              "      <th>android.telephony.SmsManager</th>\n",
              "      <th>READ_PHONE_STATE</th>\n",
              "      <th>getBinder</th>\n",
              "      <th>ClassLoader</th>\n",
              "      <th>Landroid.content.Context.registerReceiver</th>\n",
              "      <th>Ljava.lang.Class.getField</th>\n",
              "      <th>Landroid.content.Context.unregisterReceiver</th>\n",
              "      <th>GET_ACCOUNTS</th>\n",
              "      <th>RECEIVE_SMS</th>\n",
              "      <th>Ljava.lang.Class.getDeclaredField</th>\n",
              "      <th>READ_SMS</th>\n",
              "      <th>getCallingUid</th>\n",
              "      <th>Ljavax.crypto.spec.SecretKeySpec</th>\n",
              "      <th>android.intent.action.BOOT_COMPLETED</th>\n",
              "      <th>USE_CREDENTIALS</th>\n",
              "      <th>MANAGE_ACCOUNTS</th>\n",
              "      <th>android.content.pm.PackageInfo</th>\n",
              "      <th>KeySpec</th>\n",
              "      <th>TelephonyManager.getLine1Number</th>\n",
              "      <th>DexClassLoader</th>\n",
              "      <th>HttpGet.init</th>\n",
              "      <th>SecretKey</th>\n",
              "      <th>Ljava.lang.Class.getMethod</th>\n",
              "      <th>System.loadLibrary</th>\n",
              "      <th>android.intent.action.SEND</th>\n",
              "      <th>Ljavax.crypto.Cipher</th>\n",
              "      <th>WRITE_SMS</th>\n",
              "      <th>READ_SYNC_SETTINGS</th>\n",
              "      <th>...</th>\n",
              "      <th>BIND_TEXT_SERVICE</th>\n",
              "      <th>INSTALL_LOCATION_PROVIDER</th>\n",
              "      <th>android.intent.action.CALL_BUTTON</th>\n",
              "      <th>android.intent.action.SCREEN_OFF</th>\n",
              "      <th>findClass</th>\n",
              "      <th>SYSTEM_ALERT_WINDOW</th>\n",
              "      <th>MOUNT_FORMAT_FILESYSTEMS</th>\n",
              "      <th>CHANGE_CONFIGURATION</th>\n",
              "      <th>CLEAR_APP_USER_DATA</th>\n",
              "      <th>intent.action.RUN</th>\n",
              "      <th>android.intent.action.SET_WALLPAPER</th>\n",
              "      <th>CHANGE_WIFI_STATE</th>\n",
              "      <th>READ_FRAME_BUFFER</th>\n",
              "      <th>ACCESS_SURFACE_FLINGER</th>\n",
              "      <th>Runtime.loadLibrary</th>\n",
              "      <th>BROADCAST_SMS</th>\n",
              "      <th>EXPAND_STATUS_BAR</th>\n",
              "      <th>INTERNAL_SYSTEM_WINDOW</th>\n",
              "      <th>android.intent.action.BATTERY_LOW</th>\n",
              "      <th>SET_ACTIVITY_WATCHER</th>\n",
              "      <th>WRITE_CONTACTS</th>\n",
              "      <th>android.intent.action.ACTION_POWER_CONNECTED</th>\n",
              "      <th>BIND_VPN_SERVICE</th>\n",
              "      <th>DISABLE_KEYGUARD</th>\n",
              "      <th>ACCESS_MOCK_LOCATION</th>\n",
              "      <th>GET_PACKAGE_SIZE</th>\n",
              "      <th>MODIFY_PHONE_STATE</th>\n",
              "      <th>CHANGE_COMPONENT_ENABLED_STATE</th>\n",
              "      <th>CLEAR_APP_CACHE</th>\n",
              "      <th>SET_ORIENTATION</th>\n",
              "      <th>READ_CONTACTS</th>\n",
              "      <th>DEVICE_POWER</th>\n",
              "      <th>HARDWARE_TEST</th>\n",
              "      <th>ACCESS_WIFI_STATE</th>\n",
              "      <th>WRITE_EXTERNAL_STORAGE</th>\n",
              "      <th>ACCESS_FINE_LOCATION</th>\n",
              "      <th>SET_WALLPAPER_HINTS</th>\n",
              "      <th>SET_PREFERRED_APPLICATIONS</th>\n",
              "      <th>WRITE_SECURE_SETTINGS</th>\n",
              "      <th>class</th>\n",
              "    </tr>\n",
              "  </thead>\n",
              "  <tbody>\n",
              "    <tr>\n",
              "      <th>0</th>\n",
              "      <td>0</td>\n",
              "      <td>0</td>\n",
              "      <td>0</td>\n",
              "      <td>0</td>\n",
              "      <td>0</td>\n",
              "      <td>0</td>\n",
              "      <td>1</td>\n",
              "      <td>0</td>\n",
              "      <td>0</td>\n",
              "      <td>0</td>\n",
              "      <td>0</td>\n",
              "      <td>0</td>\n",
              "      <td>1</td>\n",
              "      <td>1</td>\n",
              "      <td>0</td>\n",
              "      <td>0</td>\n",
              "      <td>1</td>\n",
              "      <td>0</td>\n",
              "      <td>1</td>\n",
              "      <td>0</td>\n",
              "      <td>0</td>\n",
              "      <td>0</td>\n",
              "      <td>0</td>\n",
              "      <td>0</td>\n",
              "      <td>0</td>\n",
              "      <td>1</td>\n",
              "      <td>0</td>\n",
              "      <td>0</td>\n",
              "      <td>0</td>\n",
              "      <td>0</td>\n",
              "      <td>0</td>\n",
              "      <td>0</td>\n",
              "      <td>0</td>\n",
              "      <td>0</td>\n",
              "      <td>0</td>\n",
              "      <td>0</td>\n",
              "      <td>0</td>\n",
              "      <td>0</td>\n",
              "      <td>0</td>\n",
              "      <td>0</td>\n",
              "      <td>...</td>\n",
              "      <td>0</td>\n",
              "      <td>0</td>\n",
              "      <td>0</td>\n",
              "      <td>0</td>\n",
              "      <td>0</td>\n",
              "      <td>0</td>\n",
              "      <td>0</td>\n",
              "      <td>0</td>\n",
              "      <td>0</td>\n",
              "      <td>0</td>\n",
              "      <td>0</td>\n",
              "      <td>0</td>\n",
              "      <td>0</td>\n",
              "      <td>0</td>\n",
              "      <td>0</td>\n",
              "      <td>0</td>\n",
              "      <td>0</td>\n",
              "      <td>0</td>\n",
              "      <td>0</td>\n",
              "      <td>0</td>\n",
              "      <td>0</td>\n",
              "      <td>0</td>\n",
              "      <td>0</td>\n",
              "      <td>0</td>\n",
              "      <td>0</td>\n",
              "      <td>0</td>\n",
              "      <td>0</td>\n",
              "      <td>0</td>\n",
              "      <td>0</td>\n",
              "      <td>0</td>\n",
              "      <td>0</td>\n",
              "      <td>0</td>\n",
              "      <td>0</td>\n",
              "      <td>0</td>\n",
              "      <td>1</td>\n",
              "      <td>0</td>\n",
              "      <td>0</td>\n",
              "      <td>0</td>\n",
              "      <td>0</td>\n",
              "      <td>S</td>\n",
              "    </tr>\n",
              "    <tr>\n",
              "      <th>1</th>\n",
              "      <td>0</td>\n",
              "      <td>0</td>\n",
              "      <td>0</td>\n",
              "      <td>0</td>\n",
              "      <td>0</td>\n",
              "      <td>0</td>\n",
              "      <td>1</td>\n",
              "      <td>0</td>\n",
              "      <td>0</td>\n",
              "      <td>0</td>\n",
              "      <td>0</td>\n",
              "      <td>0</td>\n",
              "      <td>1</td>\n",
              "      <td>1</td>\n",
              "      <td>0</td>\n",
              "      <td>0</td>\n",
              "      <td>1</td>\n",
              "      <td>0</td>\n",
              "      <td>1</td>\n",
              "      <td>0</td>\n",
              "      <td>1</td>\n",
              "      <td>0</td>\n",
              "      <td>1</td>\n",
              "      <td>0</td>\n",
              "      <td>0</td>\n",
              "      <td>1</td>\n",
              "      <td>0</td>\n",
              "      <td>0</td>\n",
              "      <td>0</td>\n",
              "      <td>0</td>\n",
              "      <td>0</td>\n",
              "      <td>0</td>\n",
              "      <td>0</td>\n",
              "      <td>0</td>\n",
              "      <td>0</td>\n",
              "      <td>0</td>\n",
              "      <td>0</td>\n",
              "      <td>0</td>\n",
              "      <td>0</td>\n",
              "      <td>0</td>\n",
              "      <td>...</td>\n",
              "      <td>0</td>\n",
              "      <td>0</td>\n",
              "      <td>0</td>\n",
              "      <td>0</td>\n",
              "      <td>0</td>\n",
              "      <td>0</td>\n",
              "      <td>0</td>\n",
              "      <td>0</td>\n",
              "      <td>0</td>\n",
              "      <td>0</td>\n",
              "      <td>0</td>\n",
              "      <td>0</td>\n",
              "      <td>0</td>\n",
              "      <td>0</td>\n",
              "      <td>0</td>\n",
              "      <td>0</td>\n",
              "      <td>0</td>\n",
              "      <td>0</td>\n",
              "      <td>0</td>\n",
              "      <td>0</td>\n",
              "      <td>0</td>\n",
              "      <td>0</td>\n",
              "      <td>0</td>\n",
              "      <td>0</td>\n",
              "      <td>0</td>\n",
              "      <td>0</td>\n",
              "      <td>0</td>\n",
              "      <td>0</td>\n",
              "      <td>0</td>\n",
              "      <td>0</td>\n",
              "      <td>0</td>\n",
              "      <td>0</td>\n",
              "      <td>0</td>\n",
              "      <td>0</td>\n",
              "      <td>1</td>\n",
              "      <td>0</td>\n",
              "      <td>0</td>\n",
              "      <td>0</td>\n",
              "      <td>0</td>\n",
              "      <td>S</td>\n",
              "    </tr>\n",
              "    <tr>\n",
              "      <th>2</th>\n",
              "      <td>0</td>\n",
              "      <td>0</td>\n",
              "      <td>0</td>\n",
              "      <td>0</td>\n",
              "      <td>0</td>\n",
              "      <td>0</td>\n",
              "      <td>1</td>\n",
              "      <td>0</td>\n",
              "      <td>0</td>\n",
              "      <td>0</td>\n",
              "      <td>0</td>\n",
              "      <td>0</td>\n",
              "      <td>1</td>\n",
              "      <td>1</td>\n",
              "      <td>0</td>\n",
              "      <td>0</td>\n",
              "      <td>0</td>\n",
              "      <td>1</td>\n",
              "      <td>0</td>\n",
              "      <td>0</td>\n",
              "      <td>0</td>\n",
              "      <td>0</td>\n",
              "      <td>0</td>\n",
              "      <td>0</td>\n",
              "      <td>0</td>\n",
              "      <td>0</td>\n",
              "      <td>0</td>\n",
              "      <td>0</td>\n",
              "      <td>0</td>\n",
              "      <td>0</td>\n",
              "      <td>0</td>\n",
              "      <td>0</td>\n",
              "      <td>0</td>\n",
              "      <td>0</td>\n",
              "      <td>1</td>\n",
              "      <td>0</td>\n",
              "      <td>0</td>\n",
              "      <td>0</td>\n",
              "      <td>0</td>\n",
              "      <td>0</td>\n",
              "      <td>...</td>\n",
              "      <td>0</td>\n",
              "      <td>0</td>\n",
              "      <td>0</td>\n",
              "      <td>0</td>\n",
              "      <td>0</td>\n",
              "      <td>0</td>\n",
              "      <td>0</td>\n",
              "      <td>0</td>\n",
              "      <td>0</td>\n",
              "      <td>0</td>\n",
              "      <td>0</td>\n",
              "      <td>0</td>\n",
              "      <td>0</td>\n",
              "      <td>0</td>\n",
              "      <td>0</td>\n",
              "      <td>0</td>\n",
              "      <td>0</td>\n",
              "      <td>0</td>\n",
              "      <td>0</td>\n",
              "      <td>0</td>\n",
              "      <td>0</td>\n",
              "      <td>0</td>\n",
              "      <td>0</td>\n",
              "      <td>0</td>\n",
              "      <td>0</td>\n",
              "      <td>0</td>\n",
              "      <td>0</td>\n",
              "      <td>0</td>\n",
              "      <td>0</td>\n",
              "      <td>0</td>\n",
              "      <td>0</td>\n",
              "      <td>0</td>\n",
              "      <td>0</td>\n",
              "      <td>0</td>\n",
              "      <td>0</td>\n",
              "      <td>0</td>\n",
              "      <td>0</td>\n",
              "      <td>0</td>\n",
              "      <td>0</td>\n",
              "      <td>S</td>\n",
              "    </tr>\n",
              "    <tr>\n",
              "      <th>3</th>\n",
              "      <td>0</td>\n",
              "      <td>0</td>\n",
              "      <td>0</td>\n",
              "      <td>0</td>\n",
              "      <td>0</td>\n",
              "      <td>0</td>\n",
              "      <td>0</td>\n",
              "      <td>0</td>\n",
              "      <td>0</td>\n",
              "      <td>1</td>\n",
              "      <td>1</td>\n",
              "      <td>0</td>\n",
              "      <td>0</td>\n",
              "      <td>1</td>\n",
              "      <td>0</td>\n",
              "      <td>0</td>\n",
              "      <td>1</td>\n",
              "      <td>0</td>\n",
              "      <td>0</td>\n",
              "      <td>0</td>\n",
              "      <td>0</td>\n",
              "      <td>1</td>\n",
              "      <td>1</td>\n",
              "      <td>0</td>\n",
              "      <td>1</td>\n",
              "      <td>1</td>\n",
              "      <td>0</td>\n",
              "      <td>0</td>\n",
              "      <td>1</td>\n",
              "      <td>1</td>\n",
              "      <td>1</td>\n",
              "      <td>0</td>\n",
              "      <td>1</td>\n",
              "      <td>1</td>\n",
              "      <td>0</td>\n",
              "      <td>1</td>\n",
              "      <td>0</td>\n",
              "      <td>1</td>\n",
              "      <td>1</td>\n",
              "      <td>0</td>\n",
              "      <td>...</td>\n",
              "      <td>0</td>\n",
              "      <td>0</td>\n",
              "      <td>0</td>\n",
              "      <td>0</td>\n",
              "      <td>0</td>\n",
              "      <td>0</td>\n",
              "      <td>0</td>\n",
              "      <td>1</td>\n",
              "      <td>0</td>\n",
              "      <td>0</td>\n",
              "      <td>0</td>\n",
              "      <td>1</td>\n",
              "      <td>0</td>\n",
              "      <td>0</td>\n",
              "      <td>0</td>\n",
              "      <td>0</td>\n",
              "      <td>0</td>\n",
              "      <td>0</td>\n",
              "      <td>0</td>\n",
              "      <td>0</td>\n",
              "      <td>0</td>\n",
              "      <td>0</td>\n",
              "      <td>0</td>\n",
              "      <td>0</td>\n",
              "      <td>0</td>\n",
              "      <td>0</td>\n",
              "      <td>0</td>\n",
              "      <td>0</td>\n",
              "      <td>0</td>\n",
              "      <td>0</td>\n",
              "      <td>0</td>\n",
              "      <td>0</td>\n",
              "      <td>0</td>\n",
              "      <td>1</td>\n",
              "      <td>1</td>\n",
              "      <td>1</td>\n",
              "      <td>0</td>\n",
              "      <td>0</td>\n",
              "      <td>0</td>\n",
              "      <td>S</td>\n",
              "    </tr>\n",
              "    <tr>\n",
              "      <th>4</th>\n",
              "      <td>0</td>\n",
              "      <td>0</td>\n",
              "      <td>0</td>\n",
              "      <td>0</td>\n",
              "      <td>0</td>\n",
              "      <td>0</td>\n",
              "      <td>0</td>\n",
              "      <td>0</td>\n",
              "      <td>0</td>\n",
              "      <td>0</td>\n",
              "      <td>1</td>\n",
              "      <td>0</td>\n",
              "      <td>0</td>\n",
              "      <td>1</td>\n",
              "      <td>0</td>\n",
              "      <td>1</td>\n",
              "      <td>0</td>\n",
              "      <td>0</td>\n",
              "      <td>0</td>\n",
              "      <td>0</td>\n",
              "      <td>0</td>\n",
              "      <td>1</td>\n",
              "      <td>0</td>\n",
              "      <td>0</td>\n",
              "      <td>0</td>\n",
              "      <td>1</td>\n",
              "      <td>0</td>\n",
              "      <td>0</td>\n",
              "      <td>0</td>\n",
              "      <td>0</td>\n",
              "      <td>0</td>\n",
              "      <td>0</td>\n",
              "      <td>1</td>\n",
              "      <td>0</td>\n",
              "      <td>1</td>\n",
              "      <td>0</td>\n",
              "      <td>0</td>\n",
              "      <td>0</td>\n",
              "      <td>0</td>\n",
              "      <td>0</td>\n",
              "      <td>...</td>\n",
              "      <td>0</td>\n",
              "      <td>0</td>\n",
              "      <td>0</td>\n",
              "      <td>0</td>\n",
              "      <td>1</td>\n",
              "      <td>0</td>\n",
              "      <td>0</td>\n",
              "      <td>0</td>\n",
              "      <td>0</td>\n",
              "      <td>0</td>\n",
              "      <td>0</td>\n",
              "      <td>0</td>\n",
              "      <td>0</td>\n",
              "      <td>0</td>\n",
              "      <td>0</td>\n",
              "      <td>0</td>\n",
              "      <td>0</td>\n",
              "      <td>0</td>\n",
              "      <td>0</td>\n",
              "      <td>0</td>\n",
              "      <td>0</td>\n",
              "      <td>0</td>\n",
              "      <td>0</td>\n",
              "      <td>0</td>\n",
              "      <td>0</td>\n",
              "      <td>0</td>\n",
              "      <td>0</td>\n",
              "      <td>0</td>\n",
              "      <td>0</td>\n",
              "      <td>0</td>\n",
              "      <td>0</td>\n",
              "      <td>0</td>\n",
              "      <td>0</td>\n",
              "      <td>1</td>\n",
              "      <td>0</td>\n",
              "      <td>1</td>\n",
              "      <td>0</td>\n",
              "      <td>0</td>\n",
              "      <td>0</td>\n",
              "      <td>S</td>\n",
              "    </tr>\n",
              "    <tr>\n",
              "      <th>...</th>\n",
              "      <td>...</td>\n",
              "      <td>...</td>\n",
              "      <td>...</td>\n",
              "      <td>...</td>\n",
              "      <td>...</td>\n",
              "      <td>...</td>\n",
              "      <td>...</td>\n",
              "      <td>...</td>\n",
              "      <td>...</td>\n",
              "      <td>...</td>\n",
              "      <td>...</td>\n",
              "      <td>...</td>\n",
              "      <td>...</td>\n",
              "      <td>...</td>\n",
              "      <td>...</td>\n",
              "      <td>...</td>\n",
              "      <td>...</td>\n",
              "      <td>...</td>\n",
              "      <td>...</td>\n",
              "      <td>...</td>\n",
              "      <td>...</td>\n",
              "      <td>...</td>\n",
              "      <td>...</td>\n",
              "      <td>...</td>\n",
              "      <td>...</td>\n",
              "      <td>...</td>\n",
              "      <td>...</td>\n",
              "      <td>...</td>\n",
              "      <td>...</td>\n",
              "      <td>...</td>\n",
              "      <td>...</td>\n",
              "      <td>...</td>\n",
              "      <td>...</td>\n",
              "      <td>...</td>\n",
              "      <td>...</td>\n",
              "      <td>...</td>\n",
              "      <td>...</td>\n",
              "      <td>...</td>\n",
              "      <td>...</td>\n",
              "      <td>...</td>\n",
              "      <td>...</td>\n",
              "      <td>...</td>\n",
              "      <td>...</td>\n",
              "      <td>...</td>\n",
              "      <td>...</td>\n",
              "      <td>...</td>\n",
              "      <td>...</td>\n",
              "      <td>...</td>\n",
              "      <td>...</td>\n",
              "      <td>...</td>\n",
              "      <td>...</td>\n",
              "      <td>...</td>\n",
              "      <td>...</td>\n",
              "      <td>...</td>\n",
              "      <td>...</td>\n",
              "      <td>...</td>\n",
              "      <td>...</td>\n",
              "      <td>...</td>\n",
              "      <td>...</td>\n",
              "      <td>...</td>\n",
              "      <td>...</td>\n",
              "      <td>...</td>\n",
              "      <td>...</td>\n",
              "      <td>...</td>\n",
              "      <td>...</td>\n",
              "      <td>...</td>\n",
              "      <td>...</td>\n",
              "      <td>...</td>\n",
              "      <td>...</td>\n",
              "      <td>...</td>\n",
              "      <td>...</td>\n",
              "      <td>...</td>\n",
              "      <td>...</td>\n",
              "      <td>...</td>\n",
              "      <td>...</td>\n",
              "      <td>...</td>\n",
              "      <td>...</td>\n",
              "      <td>...</td>\n",
              "      <td>...</td>\n",
              "      <td>...</td>\n",
              "      <td>...</td>\n",
              "    </tr>\n",
              "    <tr>\n",
              "      <th>15031</th>\n",
              "      <td>1</td>\n",
              "      <td>1</td>\n",
              "      <td>1</td>\n",
              "      <td>1</td>\n",
              "      <td>1</td>\n",
              "      <td>1</td>\n",
              "      <td>0</td>\n",
              "      <td>1</td>\n",
              "      <td>1</td>\n",
              "      <td>1</td>\n",
              "      <td>1</td>\n",
              "      <td>1</td>\n",
              "      <td>0</td>\n",
              "      <td>1</td>\n",
              "      <td>1</td>\n",
              "      <td>1</td>\n",
              "      <td>1</td>\n",
              "      <td>1</td>\n",
              "      <td>1</td>\n",
              "      <td>0</td>\n",
              "      <td>0</td>\n",
              "      <td>1</td>\n",
              "      <td>0</td>\n",
              "      <td>1</td>\n",
              "      <td>1</td>\n",
              "      <td>0</td>\n",
              "      <td>0</td>\n",
              "      <td>0</td>\n",
              "      <td>1</td>\n",
              "      <td>1</td>\n",
              "      <td>0</td>\n",
              "      <td>1</td>\n",
              "      <td>1</td>\n",
              "      <td>1</td>\n",
              "      <td>1</td>\n",
              "      <td>1</td>\n",
              "      <td>0</td>\n",
              "      <td>1</td>\n",
              "      <td>0</td>\n",
              "      <td>0</td>\n",
              "      <td>...</td>\n",
              "      <td>0</td>\n",
              "      <td>0</td>\n",
              "      <td>0</td>\n",
              "      <td>0</td>\n",
              "      <td>0</td>\n",
              "      <td>0</td>\n",
              "      <td>0</td>\n",
              "      <td>0</td>\n",
              "      <td>0</td>\n",
              "      <td>0</td>\n",
              "      <td>0</td>\n",
              "      <td>0</td>\n",
              "      <td>0</td>\n",
              "      <td>0</td>\n",
              "      <td>0</td>\n",
              "      <td>0</td>\n",
              "      <td>0</td>\n",
              "      <td>0</td>\n",
              "      <td>0</td>\n",
              "      <td>0</td>\n",
              "      <td>0</td>\n",
              "      <td>0</td>\n",
              "      <td>0</td>\n",
              "      <td>0</td>\n",
              "      <td>0</td>\n",
              "      <td>0</td>\n",
              "      <td>0</td>\n",
              "      <td>0</td>\n",
              "      <td>0</td>\n",
              "      <td>0</td>\n",
              "      <td>0</td>\n",
              "      <td>0</td>\n",
              "      <td>0</td>\n",
              "      <td>1</td>\n",
              "      <td>1</td>\n",
              "      <td>0</td>\n",
              "      <td>0</td>\n",
              "      <td>0</td>\n",
              "      <td>0</td>\n",
              "      <td>B</td>\n",
              "    </tr>\n",
              "    <tr>\n",
              "      <th>15032</th>\n",
              "      <td>0</td>\n",
              "      <td>0</td>\n",
              "      <td>0</td>\n",
              "      <td>0</td>\n",
              "      <td>0</td>\n",
              "      <td>0</td>\n",
              "      <td>0</td>\n",
              "      <td>0</td>\n",
              "      <td>0</td>\n",
              "      <td>1</td>\n",
              "      <td>1</td>\n",
              "      <td>0</td>\n",
              "      <td>0</td>\n",
              "      <td>0</td>\n",
              "      <td>0</td>\n",
              "      <td>1</td>\n",
              "      <td>1</td>\n",
              "      <td>1</td>\n",
              "      <td>1</td>\n",
              "      <td>0</td>\n",
              "      <td>0</td>\n",
              "      <td>1</td>\n",
              "      <td>0</td>\n",
              "      <td>0</td>\n",
              "      <td>1</td>\n",
              "      <td>0</td>\n",
              "      <td>0</td>\n",
              "      <td>0</td>\n",
              "      <td>1</td>\n",
              "      <td>1</td>\n",
              "      <td>0</td>\n",
              "      <td>0</td>\n",
              "      <td>0</td>\n",
              "      <td>1</td>\n",
              "      <td>1</td>\n",
              "      <td>1</td>\n",
              "      <td>0</td>\n",
              "      <td>1</td>\n",
              "      <td>0</td>\n",
              "      <td>0</td>\n",
              "      <td>...</td>\n",
              "      <td>0</td>\n",
              "      <td>0</td>\n",
              "      <td>0</td>\n",
              "      <td>0</td>\n",
              "      <td>0</td>\n",
              "      <td>0</td>\n",
              "      <td>0</td>\n",
              "      <td>0</td>\n",
              "      <td>0</td>\n",
              "      <td>0</td>\n",
              "      <td>0</td>\n",
              "      <td>0</td>\n",
              "      <td>0</td>\n",
              "      <td>0</td>\n",
              "      <td>0</td>\n",
              "      <td>0</td>\n",
              "      <td>0</td>\n",
              "      <td>0</td>\n",
              "      <td>0</td>\n",
              "      <td>0</td>\n",
              "      <td>0</td>\n",
              "      <td>0</td>\n",
              "      <td>0</td>\n",
              "      <td>0</td>\n",
              "      <td>0</td>\n",
              "      <td>0</td>\n",
              "      <td>0</td>\n",
              "      <td>0</td>\n",
              "      <td>0</td>\n",
              "      <td>0</td>\n",
              "      <td>0</td>\n",
              "      <td>0</td>\n",
              "      <td>0</td>\n",
              "      <td>1</td>\n",
              "      <td>1</td>\n",
              "      <td>0</td>\n",
              "      <td>0</td>\n",
              "      <td>0</td>\n",
              "      <td>0</td>\n",
              "      <td>B</td>\n",
              "    </tr>\n",
              "    <tr>\n",
              "      <th>15033</th>\n",
              "      <td>0</td>\n",
              "      <td>0</td>\n",
              "      <td>0</td>\n",
              "      <td>0</td>\n",
              "      <td>0</td>\n",
              "      <td>0</td>\n",
              "      <td>0</td>\n",
              "      <td>0</td>\n",
              "      <td>0</td>\n",
              "      <td>0</td>\n",
              "      <td>0</td>\n",
              "      <td>0</td>\n",
              "      <td>0</td>\n",
              "      <td>1</td>\n",
              "      <td>0</td>\n",
              "      <td>0</td>\n",
              "      <td>0</td>\n",
              "      <td>0</td>\n",
              "      <td>0</td>\n",
              "      <td>0</td>\n",
              "      <td>0</td>\n",
              "      <td>0</td>\n",
              "      <td>0</td>\n",
              "      <td>0</td>\n",
              "      <td>0</td>\n",
              "      <td>0</td>\n",
              "      <td>0</td>\n",
              "      <td>0</td>\n",
              "      <td>0</td>\n",
              "      <td>0</td>\n",
              "      <td>0</td>\n",
              "      <td>0</td>\n",
              "      <td>1</td>\n",
              "      <td>0</td>\n",
              "      <td>0</td>\n",
              "      <td>0</td>\n",
              "      <td>0</td>\n",
              "      <td>0</td>\n",
              "      <td>0</td>\n",
              "      <td>0</td>\n",
              "      <td>...</td>\n",
              "      <td>0</td>\n",
              "      <td>0</td>\n",
              "      <td>0</td>\n",
              "      <td>0</td>\n",
              "      <td>0</td>\n",
              "      <td>0</td>\n",
              "      <td>0</td>\n",
              "      <td>0</td>\n",
              "      <td>0</td>\n",
              "      <td>0</td>\n",
              "      <td>0</td>\n",
              "      <td>0</td>\n",
              "      <td>0</td>\n",
              "      <td>0</td>\n",
              "      <td>0</td>\n",
              "      <td>0</td>\n",
              "      <td>0</td>\n",
              "      <td>0</td>\n",
              "      <td>0</td>\n",
              "      <td>0</td>\n",
              "      <td>0</td>\n",
              "      <td>0</td>\n",
              "      <td>0</td>\n",
              "      <td>0</td>\n",
              "      <td>0</td>\n",
              "      <td>0</td>\n",
              "      <td>0</td>\n",
              "      <td>0</td>\n",
              "      <td>0</td>\n",
              "      <td>0</td>\n",
              "      <td>0</td>\n",
              "      <td>0</td>\n",
              "      <td>0</td>\n",
              "      <td>1</td>\n",
              "      <td>1</td>\n",
              "      <td>0</td>\n",
              "      <td>0</td>\n",
              "      <td>0</td>\n",
              "      <td>0</td>\n",
              "      <td>B</td>\n",
              "    </tr>\n",
              "    <tr>\n",
              "      <th>15034</th>\n",
              "      <td>1</td>\n",
              "      <td>1</td>\n",
              "      <td>1</td>\n",
              "      <td>1</td>\n",
              "      <td>1</td>\n",
              "      <td>1</td>\n",
              "      <td>0</td>\n",
              "      <td>1</td>\n",
              "      <td>1</td>\n",
              "      <td>1</td>\n",
              "      <td>1</td>\n",
              "      <td>1</td>\n",
              "      <td>0</td>\n",
              "      <td>0</td>\n",
              "      <td>0</td>\n",
              "      <td>1</td>\n",
              "      <td>1</td>\n",
              "      <td>1</td>\n",
              "      <td>1</td>\n",
              "      <td>1</td>\n",
              "      <td>0</td>\n",
              "      <td>1</td>\n",
              "      <td>0</td>\n",
              "      <td>0</td>\n",
              "      <td>0</td>\n",
              "      <td>0</td>\n",
              "      <td>1</td>\n",
              "      <td>0</td>\n",
              "      <td>1</td>\n",
              "      <td>0</td>\n",
              "      <td>0</td>\n",
              "      <td>0</td>\n",
              "      <td>0</td>\n",
              "      <td>0</td>\n",
              "      <td>1</td>\n",
              "      <td>1</td>\n",
              "      <td>1</td>\n",
              "      <td>0</td>\n",
              "      <td>0</td>\n",
              "      <td>1</td>\n",
              "      <td>...</td>\n",
              "      <td>0</td>\n",
              "      <td>0</td>\n",
              "      <td>0</td>\n",
              "      <td>0</td>\n",
              "      <td>1</td>\n",
              "      <td>0</td>\n",
              "      <td>0</td>\n",
              "      <td>0</td>\n",
              "      <td>0</td>\n",
              "      <td>0</td>\n",
              "      <td>0</td>\n",
              "      <td>0</td>\n",
              "      <td>0</td>\n",
              "      <td>0</td>\n",
              "      <td>0</td>\n",
              "      <td>0</td>\n",
              "      <td>0</td>\n",
              "      <td>0</td>\n",
              "      <td>0</td>\n",
              "      <td>0</td>\n",
              "      <td>0</td>\n",
              "      <td>0</td>\n",
              "      <td>0</td>\n",
              "      <td>0</td>\n",
              "      <td>0</td>\n",
              "      <td>0</td>\n",
              "      <td>0</td>\n",
              "      <td>0</td>\n",
              "      <td>0</td>\n",
              "      <td>0</td>\n",
              "      <td>1</td>\n",
              "      <td>0</td>\n",
              "      <td>0</td>\n",
              "      <td>1</td>\n",
              "      <td>1</td>\n",
              "      <td>1</td>\n",
              "      <td>0</td>\n",
              "      <td>0</td>\n",
              "      <td>0</td>\n",
              "      <td>B</td>\n",
              "    </tr>\n",
              "    <tr>\n",
              "      <th>15035</th>\n",
              "      <td>1</td>\n",
              "      <td>1</td>\n",
              "      <td>1</td>\n",
              "      <td>1</td>\n",
              "      <td>1</td>\n",
              "      <td>1</td>\n",
              "      <td>0</td>\n",
              "      <td>1</td>\n",
              "      <td>1</td>\n",
              "      <td>1</td>\n",
              "      <td>1</td>\n",
              "      <td>1</td>\n",
              "      <td>0</td>\n",
              "      <td>0</td>\n",
              "      <td>1</td>\n",
              "      <td>1</td>\n",
              "      <td>1</td>\n",
              "      <td>1</td>\n",
              "      <td>0</td>\n",
              "      <td>0</td>\n",
              "      <td>0</td>\n",
              "      <td>1</td>\n",
              "      <td>0</td>\n",
              "      <td>0</td>\n",
              "      <td>1</td>\n",
              "      <td>0</td>\n",
              "      <td>0</td>\n",
              "      <td>0</td>\n",
              "      <td>1</td>\n",
              "      <td>1</td>\n",
              "      <td>0</td>\n",
              "      <td>1</td>\n",
              "      <td>1</td>\n",
              "      <td>1</td>\n",
              "      <td>1</td>\n",
              "      <td>0</td>\n",
              "      <td>0</td>\n",
              "      <td>1</td>\n",
              "      <td>0</td>\n",
              "      <td>0</td>\n",
              "      <td>...</td>\n",
              "      <td>0</td>\n",
              "      <td>0</td>\n",
              "      <td>0</td>\n",
              "      <td>0</td>\n",
              "      <td>0</td>\n",
              "      <td>0</td>\n",
              "      <td>0</td>\n",
              "      <td>0</td>\n",
              "      <td>0</td>\n",
              "      <td>0</td>\n",
              "      <td>0</td>\n",
              "      <td>0</td>\n",
              "      <td>0</td>\n",
              "      <td>0</td>\n",
              "      <td>0</td>\n",
              "      <td>0</td>\n",
              "      <td>0</td>\n",
              "      <td>0</td>\n",
              "      <td>0</td>\n",
              "      <td>0</td>\n",
              "      <td>0</td>\n",
              "      <td>0</td>\n",
              "      <td>0</td>\n",
              "      <td>0</td>\n",
              "      <td>0</td>\n",
              "      <td>0</td>\n",
              "      <td>0</td>\n",
              "      <td>0</td>\n",
              "      <td>0</td>\n",
              "      <td>0</td>\n",
              "      <td>0</td>\n",
              "      <td>0</td>\n",
              "      <td>0</td>\n",
              "      <td>0</td>\n",
              "      <td>1</td>\n",
              "      <td>1</td>\n",
              "      <td>0</td>\n",
              "      <td>0</td>\n",
              "      <td>0</td>\n",
              "      <td>B</td>\n",
              "    </tr>\n",
              "  </tbody>\n",
              "</table>\n",
              "<p>15036 rows × 216 columns</p>\n",
              "</div>"
            ],
            "text/plain": [
              "       transact  onServiceConnected  ...  WRITE_SECURE_SETTINGS  class\n",
              "0             0                   0  ...                      0      S\n",
              "1             0                   0  ...                      0      S\n",
              "2             0                   0  ...                      0      S\n",
              "3             0                   0  ...                      0      S\n",
              "4             0                   0  ...                      0      S\n",
              "...         ...                 ...  ...                    ...    ...\n",
              "15031         1                   1  ...                      0      B\n",
              "15032         0                   0  ...                      0      B\n",
              "15033         0                   0  ...                      0      B\n",
              "15034         1                   1  ...                      0      B\n",
              "15035         1                   1  ...                      0      B\n",
              "\n",
              "[15036 rows x 216 columns]"
            ]
          },
          "metadata": {
            "tags": []
          },
          "execution_count": 2
        }
      ]
    },
    {
      "cell_type": "code",
      "metadata": {
        "colab": {
          "base_uri": "https://localhost:8080/",
          "height": 423
        },
        "id": "I7GKOHxXj9Cl",
        "outputId": "d79c6cd7-0f72-4d0f-aa41-550f47837be5"
      },
      "source": [
        "#Carregando o dataset contendo a descrição dos atributos:\n",
        "url2= '/content/drive/MyDrive/Colab Notebooks/ml_aplicado_2/FinalTerm/dataset-features-categories.csv'\n",
        "\n",
        "df_desc = pd.read_csv(url2, names=['feature', 'description'])\n",
        "df_desc"
      ],
      "execution_count": null,
      "outputs": [
        {
          "output_type": "execute_result",
          "data": {
            "text/html": [
              "<div>\n",
              "<style scoped>\n",
              "    .dataframe tbody tr th:only-of-type {\n",
              "        vertical-align: middle;\n",
              "    }\n",
              "\n",
              "    .dataframe tbody tr th {\n",
              "        vertical-align: top;\n",
              "    }\n",
              "\n",
              "    .dataframe thead th {\n",
              "        text-align: right;\n",
              "    }\n",
              "</style>\n",
              "<table border=\"1\" class=\"dataframe\">\n",
              "  <thead>\n",
              "    <tr style=\"text-align: right;\">\n",
              "      <th></th>\n",
              "      <th>feature</th>\n",
              "      <th>description</th>\n",
              "    </tr>\n",
              "  </thead>\n",
              "  <tbody>\n",
              "    <tr>\n",
              "      <th>0</th>\n",
              "      <td>transact</td>\n",
              "      <td>API call signature</td>\n",
              "    </tr>\n",
              "    <tr>\n",
              "      <th>1</th>\n",
              "      <td>onServiceConnected</td>\n",
              "      <td>API call signature</td>\n",
              "    </tr>\n",
              "    <tr>\n",
              "      <th>2</th>\n",
              "      <td>bindService</td>\n",
              "      <td>API call signature</td>\n",
              "    </tr>\n",
              "    <tr>\n",
              "      <th>3</th>\n",
              "      <td>attachInterface</td>\n",
              "      <td>API call signature</td>\n",
              "    </tr>\n",
              "    <tr>\n",
              "      <th>4</th>\n",
              "      <td>ServiceConnection</td>\n",
              "      <td>API call signature</td>\n",
              "    </tr>\n",
              "    <tr>\n",
              "      <th>...</th>\n",
              "      <td>...</td>\n",
              "      <td>...</td>\n",
              "    </tr>\n",
              "    <tr>\n",
              "      <th>211</th>\n",
              "      <td>ACCESS_FINE_LOCATION</td>\n",
              "      <td>Manifest Permission</td>\n",
              "    </tr>\n",
              "    <tr>\n",
              "      <th>212</th>\n",
              "      <td>SET_WALLPAPER_HINTS</td>\n",
              "      <td>Manifest Permission</td>\n",
              "    </tr>\n",
              "    <tr>\n",
              "      <th>213</th>\n",
              "      <td>SET_PREFERRED_APPLICATIONS</td>\n",
              "      <td>Manifest Permission</td>\n",
              "    </tr>\n",
              "    <tr>\n",
              "      <th>214</th>\n",
              "      <td>WRITE_SECURE_SETTINGS</td>\n",
              "      <td>Manifest Permission</td>\n",
              "    </tr>\n",
              "    <tr>\n",
              "      <th>215</th>\n",
              "      <td>class</td>\n",
              "      <td>B=Benign; S=Malware</td>\n",
              "    </tr>\n",
              "  </tbody>\n",
              "</table>\n",
              "<p>216 rows × 2 columns</p>\n",
              "</div>"
            ],
            "text/plain": [
              "                        feature          description\n",
              "0                      transact   API call signature\n",
              "1            onServiceConnected   API call signature\n",
              "2                   bindService   API call signature\n",
              "3               attachInterface   API call signature\n",
              "4             ServiceConnection   API call signature\n",
              "..                          ...                  ...\n",
              "211        ACCESS_FINE_LOCATION  Manifest Permission\n",
              "212         SET_WALLPAPER_HINTS  Manifest Permission\n",
              "213  SET_PREFERRED_APPLICATIONS  Manifest Permission\n",
              "214       WRITE_SECURE_SETTINGS  Manifest Permission\n",
              "215                       class  B=Benign; S=Malware\n",
              "\n",
              "[216 rows x 2 columns]"
            ]
          },
          "metadata": {
            "tags": []
          },
          "execution_count": 3
        }
      ]
    },
    {
      "cell_type": "code",
      "metadata": {
        "colab": {
          "base_uri": "https://localhost:8080/"
        },
        "id": "_aJH6iyQuVeM",
        "outputId": "84fe7025-8cea-45a3-c65d-9cab681678e7"
      },
      "source": [
        "df_desc['description'].unique()"
      ],
      "execution_count": null,
      "outputs": [
        {
          "output_type": "execute_result",
          "data": {
            "text/plain": [
              "array(['API call signature', 'Manifest Permission', 'Intent',\n",
              "       'Commands signature', 'B=Benign; S=Malware'], dtype=object)"
            ]
          },
          "metadata": {
            "tags": []
          },
          "execution_count": 5
        }
      ]
    },
    {
      "cell_type": "markdown",
      "metadata": {
        "id": "mGhMUVe3cWpy"
      },
      "source": [
        "##Explorando o Dataset"
      ]
    },
    {
      "cell_type": "markdown",
      "metadata": {
        "id": "-PpUiK_UdG6x"
      },
      "source": [
        "Esta seção procura explorar o dataset de forma integral, afim de definir o tratamento de dados necessário. "
      ]
    },
    {
      "cell_type": "code",
      "metadata": {
        "id": "LaYQEaEXs72w"
      },
      "source": [
        "#Definindo variáveis auxiliares relativas aos nomes das colunas.\n",
        "\n",
        "colunas = df_original.columns.to_list()\n",
        "\n",
        "target = colunas[len(colunas)-1] #atributo target\n",
        "attrs = colunas[0:len(colunas)-1] #demais atributos"
      ],
      "execution_count": null,
      "outputs": []
    },
    {
      "cell_type": "markdown",
      "metadata": {
        "id": "Yh0ErecTepnT"
      },
      "source": [
        "###Linhas X Colunas"
      ]
    },
    {
      "cell_type": "code",
      "metadata": {
        "colab": {
          "base_uri": "https://localhost:8080/"
        },
        "id": "Xo7zPNuhejcM",
        "outputId": "fa0520a7-e650-4da4-a2f7-c599b968a641"
      },
      "source": [
        "print(\"Qntd. Linhas:\", df_original.shape[0])\n",
        "print(\"Qntd. Colunas:\", df_original.shape[1])"
      ],
      "execution_count": null,
      "outputs": [
        {
          "output_type": "stream",
          "text": [
            "Qntd. Linhas: 15036\n",
            "Qntd. Colunas: 216\n"
          ],
          "name": "stdout"
        }
      ]
    },
    {
      "cell_type": "markdown",
      "metadata": {
        "id": "k5lHt3r3VS4I"
      },
      "source": [
        "###Verificação de Registros Duplicados"
      ]
    },
    {
      "cell_type": "markdown",
      "metadata": {
        "id": "-jw3soi4XwfA"
      },
      "source": [
        "Na verificação de registros duplicados, consta que existem 6.865 linhas estão repetidas, onde 3.839 pertencem à classe `S` (malwares) e 3.026 pertencem à classe `B` (softwares benignos)."
      ]
    },
    {
      "cell_type": "code",
      "metadata": {
        "colab": {
          "base_uri": "https://localhost:8080/"
        },
        "id": "_KDVm2chVXHY",
        "outputId": "e90ae0ab-c6c9-4847-d258-3d525bfed318"
      },
      "source": [
        "duplicados= df_original[df_original.duplicated(keep='first')]\n",
        "print(\"Quantia de registros duplicados:\", duplicados.shape[0])"
      ],
      "execution_count": null,
      "outputs": [
        {
          "output_type": "stream",
          "text": [
            "Quantia de registros duplicados: 6865\n"
          ],
          "name": "stdout"
        }
      ]
    },
    {
      "cell_type": "code",
      "metadata": {
        "colab": {
          "base_uri": "https://localhost:8080/"
        },
        "id": "7vyJy6Y_Xjug",
        "outputId": "ec211aa6-d70b-47a5-91e1-4eb5db194b5f"
      },
      "source": [
        "#Checando quantos registros pertencem à cada classe do atributo target:\n",
        "duplicados['class'].value_counts()"
      ],
      "execution_count": null,
      "outputs": [
        {
          "output_type": "execute_result",
          "data": {
            "text/plain": [
              "S    3839\n",
              "B    3026\n",
              "Name: class, dtype: int64"
            ]
          },
          "metadata": {
            "tags": []
          },
          "execution_count": 113
        }
      ]
    },
    {
      "cell_type": "markdown",
      "metadata": {
        "id": "tQmvfqBcevMR"
      },
      "source": [
        "###Verificação dos Tipos de Dados"
      ]
    },
    {
      "cell_type": "markdown",
      "metadata": {
        "id": "6S4KDPFNd5BL"
      },
      "source": [
        "Abaixo podemos verificar os tipos de dados existentes no dataset, de acordo com cada coluna."
      ]
    },
    {
      "cell_type": "code",
      "metadata": {
        "colab": {
          "base_uri": "https://localhost:8080/"
        },
        "id": "kpbr92Bm_k8B",
        "outputId": "1dd48264-97a2-48aa-b57d-b12d9234d6a3"
      },
      "source": [
        "df_original.info(verbose=True)"
      ],
      "execution_count": null,
      "outputs": [
        {
          "output_type": "stream",
          "text": [
            "<class 'pandas.core.frame.DataFrame'>\n",
            "RangeIndex: 15036 entries, 0 to 15035\n",
            "Data columns (total 216 columns):\n",
            " #   Column                                           Dtype \n",
            "---  ------                                           ----- \n",
            " 0   transact                                         int64 \n",
            " 1   onServiceConnected                               int64 \n",
            " 2   bindService                                      int64 \n",
            " 3   attachInterface                                  int64 \n",
            " 4   ServiceConnection                                int64 \n",
            " 5   android.os.Binder                                int64 \n",
            " 6   SEND_SMS                                         int64 \n",
            " 7   Ljava.lang.Class.getCanonicalName                int64 \n",
            " 8   Ljava.lang.Class.getMethods                      int64 \n",
            " 9   Ljava.lang.Class.cast                            int64 \n",
            " 10  Ljava.net.URLDecoder                             int64 \n",
            " 11  android.content.pm.Signature                     int64 \n",
            " 12  android.telephony.SmsManager                     int64 \n",
            " 13  READ_PHONE_STATE                                 int64 \n",
            " 14  getBinder                                        int64 \n",
            " 15  ClassLoader                                      int64 \n",
            " 16  Landroid.content.Context.registerReceiver        int64 \n",
            " 17  Ljava.lang.Class.getField                        int64 \n",
            " 18  Landroid.content.Context.unregisterReceiver      int64 \n",
            " 19  GET_ACCOUNTS                                     int64 \n",
            " 20  RECEIVE_SMS                                      int64 \n",
            " 21  Ljava.lang.Class.getDeclaredField                int64 \n",
            " 22  READ_SMS                                         int64 \n",
            " 23  getCallingUid                                    int64 \n",
            " 24  Ljavax.crypto.spec.SecretKeySpec                 int64 \n",
            " 25  android.intent.action.BOOT_COMPLETED             int64 \n",
            " 26  USE_CREDENTIALS                                  int64 \n",
            " 27  MANAGE_ACCOUNTS                                  int64 \n",
            " 28  android.content.pm.PackageInfo                   int64 \n",
            " 29  KeySpec                                          int64 \n",
            " 30  TelephonyManager.getLine1Number                  int64 \n",
            " 31  DexClassLoader                                   int64 \n",
            " 32  HttpGet.init                                     int64 \n",
            " 33  SecretKey                                        int64 \n",
            " 34  Ljava.lang.Class.getMethod                       int64 \n",
            " 35  System.loadLibrary                               int64 \n",
            " 36  android.intent.action.SEND                       int64 \n",
            " 37  Ljavax.crypto.Cipher                             int64 \n",
            " 38  WRITE_SMS                                        int64 \n",
            " 39  READ_SYNC_SETTINGS                               int64 \n",
            " 40  AUTHENTICATE_ACCOUNTS                            int64 \n",
            " 41  android.telephony.gsm.SmsManager                 int64 \n",
            " 42  WRITE_HISTORY_BOOKMARKS                          int64 \n",
            " 43  TelephonyManager.getSubscriberId                 int64 \n",
            " 44  mount                                            int64 \n",
            " 45  INSTALL_PACKAGES                                 int64 \n",
            " 46  Runtime.getRuntime                               int64 \n",
            " 47  CAMERA                                           int64 \n",
            " 48  Ljava.lang.Object.getClass                       int64 \n",
            " 49  WRITE_SYNC_SETTINGS                              int64 \n",
            " 50  READ_HISTORY_BOOKMARKS                           int64 \n",
            " 51  Ljava.lang.Class.forName                         int64 \n",
            " 52  INTERNET                                         int64 \n",
            " 53  android.intent.action.PACKAGE_REPLACED           int64 \n",
            " 54  Binder                                           int64 \n",
            " 55  android.intent.action.SEND_MULTIPLE              int64 \n",
            " 56  RECORD_AUDIO                                     int64 \n",
            " 57  IBinder                                          int64 \n",
            " 58  android.os.IBinder                               int64 \n",
            " 59  createSubprocess                                 int64 \n",
            " 60  NFC                                              int64 \n",
            " 61  ACCESS_LOCATION_EXTRA_COMMANDS                   int64 \n",
            " 62  URLClassLoader                                   int64 \n",
            " 63  WRITE_APN_SETTINGS                               int64 \n",
            " 64  abortBroadcast                                   int64 \n",
            " 65  BIND_REMOTEVIEWS                                 int64 \n",
            " 66  android.intent.action.TIME_SET                   int64 \n",
            " 67  READ_PROFILE                                     int64 \n",
            " 68  TelephonyManager.getDeviceId                     int64 \n",
            " 69  MODIFY_AUDIO_SETTINGS                            int64 \n",
            " 70  getCallingPid                                    int64 \n",
            " 71  READ_SYNC_STATS                                  int64 \n",
            " 72  BROADCAST_STICKY                                 int64 \n",
            " 73  android.intent.action.PACKAGE_REMOVED            int64 \n",
            " 74  android.intent.action.TIMEZONE_CHANGED           int64 \n",
            " 75  WAKE_LOCK                                        int64 \n",
            " 76  RECEIVE_BOOT_COMPLETED                           int64 \n",
            " 77  RESTART_PACKAGES                                 int64 \n",
            " 78  Ljava.lang.Class.getPackage                      int64 \n",
            " 79  chmod                                            int64 \n",
            " 80  Ljava.lang.Class.getDeclaredClasses              int64 \n",
            " 81  android.intent.action.ACTION_POWER_DISCONNECTED  int64 \n",
            " 82  android.intent.action.PACKAGE_ADDED              int64 \n",
            " 83  PathClassLoader                                  int64 \n",
            " 84  TelephonyManager.getSimSerialNumber              int64 \n",
            " 85  Runtime.load                                     int64 \n",
            " 86  TelephonyManager.getCallState                    int64 \n",
            " 87  BLUETOOTH                                        int64 \n",
            " 88  READ_CALENDAR                                    int64 \n",
            " 89  READ_CALL_LOG                                    int64 \n",
            " 90  SUBSCRIBED_FEEDS_WRITE                           int64 \n",
            " 91  READ_EXTERNAL_STORAGE                            int64 \n",
            " 92  TelephonyManager.getSimCountryIso                object\n",
            " 93  sendMultipartTextMessage                         int64 \n",
            " 94  PackageInstaller                                 int64 \n",
            " 95  VIBRATE                                          int64 \n",
            " 96  remount                                          int64 \n",
            " 97  android.intent.action.ACTION_SHUTDOWN            int64 \n",
            " 98  sendDataMessage                                  int64 \n",
            " 99  ACCESS_NETWORK_STATE                             int64 \n",
            " 100 chown                                            int64 \n",
            " 101 HttpPost.init                                    int64 \n",
            " 102 Ljava.lang.Class.getClasses                      int64 \n",
            " 103 SUBSCRIBED_FEEDS_READ                            int64 \n",
            " 104 TelephonyManager.isNetworkRoaming                int64 \n",
            " 105 CHANGE_WIFI_MULTICAST_STATE                      int64 \n",
            " 106 WRITE_CALENDAR                                   int64 \n",
            " 107 android.intent.action.PACKAGE_DATA_CLEARED       int64 \n",
            " 108 MASTER_CLEAR                                     int64 \n",
            " 109 HttpUriRequest                                   int64 \n",
            " 110 UPDATE_DEVICE_STATS                              int64 \n",
            " 111 WRITE_CALL_LOG                                   int64 \n",
            " 112 DELETE_PACKAGES                                  int64 \n",
            " 113 GET_TASKS                                        int64 \n",
            " 114 GLOBAL_SEARCH                                    int64 \n",
            " 115 DELETE_CACHE_FILES                               int64 \n",
            " 116 WRITE_USER_DICTIONARY                            int64 \n",
            " 117 android.intent.action.PACKAGE_CHANGED            int64 \n",
            " 118 android.intent.action.NEW_OUTGOING_CALL          int64 \n",
            " 119 REORDER_TASKS                                    int64 \n",
            " 120 WRITE_PROFILE                                    int64 \n",
            " 121 SET_WALLPAPER                                    int64 \n",
            " 122 BIND_INPUT_METHOD                                int64 \n",
            " 123 divideMessage                                    int64 \n",
            " 124 READ_SOCIAL_STREAM                               int64 \n",
            " 125 READ_USER_DICTIONARY                             int64 \n",
            " 126 PROCESS_OUTGOING_CALLS                           int64 \n",
            " 127 CALL_PRIVILEGED                                  int64 \n",
            " 128 Runtime.exec                                     int64 \n",
            " 129 BIND_WALLPAPER                                   int64 \n",
            " 130 RECEIVE_WAP_PUSH                                 int64 \n",
            " 131 DUMP                                             int64 \n",
            " 132 BATTERY_STATS                                    int64 \n",
            " 133 ACCESS_COARSE_LOCATION                           int64 \n",
            " 134 SET_TIME                                         int64 \n",
            " 135 android.intent.action.SENDTO                     int64 \n",
            " 136 WRITE_SOCIAL_STREAM                              int64 \n",
            " 137 WRITE_SETTINGS                                   int64 \n",
            " 138 REBOOT                                           int64 \n",
            " 139 BLUETOOTH_ADMIN                                  int64 \n",
            " 140 TelephonyManager.getNetworkOperator              int64 \n",
            " 141 /system/bin                                      int64 \n",
            " 142 MessengerService                                 int64 \n",
            " 143 BIND_DEVICE_ADMIN                                int64 \n",
            " 144 WRITE_GSERVICES                                  int64 \n",
            " 145 IRemoteService                                   int64 \n",
            " 146 KILL_BACKGROUND_PROCESSES                        int64 \n",
            " 147 SET_ALARM                                        int64 \n",
            " 148 ACCOUNT_MANAGER                                  int64 \n",
            " 149 /system/app                                      int64 \n",
            " 150 android.intent.action.CALL                       int64 \n",
            " 151 STATUS_BAR                                       int64 \n",
            " 152 TelephonyManager.getSimOperator                  int64 \n",
            " 153 PERSISTENT_ACTIVITY                              int64 \n",
            " 154 CHANGE_NETWORK_STATE                             int64 \n",
            " 155 onBind                                           int64 \n",
            " 156 Process.start                                    int64 \n",
            " 157 android.intent.action.SCREEN_ON                  int64 \n",
            " 158 Context.bindService                              int64 \n",
            " 159 RECEIVE_MMS                                      int64 \n",
            " 160 SET_TIME_ZONE                                    int64 \n",
            " 161 android.intent.action.BATTERY_OKAY               int64 \n",
            " 162 CONTROL_LOCATION_UPDATES                         int64 \n",
            " 163 BROADCAST_WAP_PUSH                               int64 \n",
            " 164 BIND_ACCESSIBILITY_SERVICE                       int64 \n",
            " 165 ADD_VOICEMAIL                                    int64 \n",
            " 166 CALL_PHONE                                       int64 \n",
            " 167 ProcessBuilder                                   int64 \n",
            " 168 BIND_APPWIDGET                                   int64 \n",
            " 169 FLASHLIGHT                                       int64 \n",
            " 170 READ_LOGS                                        int64 \n",
            " 171 Ljava.lang.Class.getResource                     int64 \n",
            " 172 defineClass                                      int64 \n",
            " 173 SET_PROCESS_LIMIT                                int64 \n",
            " 174 android.intent.action.PACKAGE_RESTARTED          int64 \n",
            " 175 MOUNT_UNMOUNT_FILESYSTEMS                        int64 \n",
            " 176 BIND_TEXT_SERVICE                                int64 \n",
            " 177 INSTALL_LOCATION_PROVIDER                        int64 \n",
            " 178 android.intent.action.CALL_BUTTON                int64 \n",
            " 179 android.intent.action.SCREEN_OFF                 int64 \n",
            " 180 findClass                                        int64 \n",
            " 181 SYSTEM_ALERT_WINDOW                              int64 \n",
            " 182 MOUNT_FORMAT_FILESYSTEMS                         int64 \n",
            " 183 CHANGE_CONFIGURATION                             int64 \n",
            " 184 CLEAR_APP_USER_DATA                              int64 \n",
            " 185 intent.action.RUN                                int64 \n",
            " 186 android.intent.action.SET_WALLPAPER              int64 \n",
            " 187 CHANGE_WIFI_STATE                                int64 \n",
            " 188 READ_FRAME_BUFFER                                int64 \n",
            " 189 ACCESS_SURFACE_FLINGER                           int64 \n",
            " 190 Runtime.loadLibrary                              int64 \n",
            " 191 BROADCAST_SMS                                    int64 \n",
            " 192 EXPAND_STATUS_BAR                                int64 \n",
            " 193 INTERNAL_SYSTEM_WINDOW                           int64 \n",
            " 194 android.intent.action.BATTERY_LOW                int64 \n",
            " 195 SET_ACTIVITY_WATCHER                             int64 \n",
            " 196 WRITE_CONTACTS                                   int64 \n",
            " 197 android.intent.action.ACTION_POWER_CONNECTED     int64 \n",
            " 198 BIND_VPN_SERVICE                                 int64 \n",
            " 199 DISABLE_KEYGUARD                                 int64 \n",
            " 200 ACCESS_MOCK_LOCATION                             int64 \n",
            " 201 GET_PACKAGE_SIZE                                 int64 \n",
            " 202 MODIFY_PHONE_STATE                               int64 \n",
            " 203 CHANGE_COMPONENT_ENABLED_STATE                   int64 \n",
            " 204 CLEAR_APP_CACHE                                  int64 \n",
            " 205 SET_ORIENTATION                                  int64 \n",
            " 206 READ_CONTACTS                                    int64 \n",
            " 207 DEVICE_POWER                                     int64 \n",
            " 208 HARDWARE_TEST                                    int64 \n",
            " 209 ACCESS_WIFI_STATE                                int64 \n",
            " 210 WRITE_EXTERNAL_STORAGE                           int64 \n",
            " 211 ACCESS_FINE_LOCATION                             int64 \n",
            " 212 SET_WALLPAPER_HINTS                              int64 \n",
            " 213 SET_PREFERRED_APPLICATIONS                       int64 \n",
            " 214 WRITE_SECURE_SETTINGS                            int64 \n",
            " 215 class                                            object\n",
            "dtypes: int64(214), object(2)\n",
            "memory usage: 24.8+ MB\n"
          ],
          "name": "stdout"
        }
      ]
    },
    {
      "cell_type": "markdown",
      "metadata": {
        "id": "l-Fl7J3ldfBN"
      },
      "source": [
        "De acordo com a tabela acima, temos 214 atributos do tipo `int64` e 2 do tipo `object`, totalizando 216 colunas.\n",
        "\n",
        "Após o carregamento do dataset em uma variável DataFrame, surgiu um *warning* afirmando que o atributo `TelephonyManager.getSimCountryIso` possui mais de um tipo de dado em sua coluna. Os valores únicos dessa coluna são: "
      ]
    },
    {
      "cell_type": "code",
      "metadata": {
        "colab": {
          "base_uri": "https://localhost:8080/"
        },
        "id": "dnaclrGFb9z1",
        "outputId": "7e2df729-6a41-4599-9d52-ba4732b38344"
      },
      "source": [
        "df_original['TelephonyManager.getSimCountryIso'].unique()"
      ],
      "execution_count": null,
      "outputs": [
        {
          "output_type": "execute_result",
          "data": {
            "text/plain": [
              "array(['0', '1', '?', 1, 0], dtype=object)"
            ]
          },
          "metadata": {
            "tags": []
          },
          "execution_count": 115
        }
      ]
    },
    {
      "cell_type": "code",
      "metadata": {
        "colab": {
          "base_uri": "https://localhost:8080/"
        },
        "id": "OaH4hGu_cEl8",
        "outputId": "85a51c83-5fd8-4cb8-e450-2992bb8e9c52"
      },
      "source": [
        "aux = df_original[df_original['TelephonyManager.getSimCountryIso'] == '?']\n",
        "aux['TelephonyManager.getSimCountryIso']"
      ],
      "execution_count": null,
      "outputs": [
        {
          "output_type": "execute_result",
          "data": {
            "text/plain": [
              "176     ?\n",
              "1971    ?\n",
              "2109    ?\n",
              "2950    ?\n",
              "5174    ?\n",
              "Name: TelephonyManager.getSimCountryIso, dtype: object"
            ]
          },
          "metadata": {
            "tags": []
          },
          "execution_count": 116
        }
      ]
    },
    {
      "cell_type": "code",
      "metadata": {
        "colab": {
          "base_uri": "https://localhost:8080/"
        },
        "id": "zFpiIqCpeTXS",
        "outputId": "3228ecd0-0c82-4061-955f-c3034410d2c1"
      },
      "source": [
        "aux['class']"
      ],
      "execution_count": null,
      "outputs": [
        {
          "output_type": "execute_result",
          "data": {
            "text/plain": [
              "176     S\n",
              "1971    S\n",
              "2109    S\n",
              "2950    S\n",
              "5174    S\n",
              "Name: class, dtype: object"
            ]
          },
          "metadata": {
            "tags": []
          },
          "execution_count": 117
        }
      ]
    },
    {
      "cell_type": "markdown",
      "metadata": {
        "id": "6ySsZXEvnN1s"
      },
      "source": [
        "Foi verificado que 5 registros, do tipo de classe `S` (malware), possuem um valor não booleano. A resolução deste empecilho será dada na seção de Análise de Features.\n",
        "\n",
        "De acordo com a documentação proposta pelo autor do dataset, este atributo se trata de uma resposta à chamada de um API. Supõe-se, então, que este atributo (e possivelmente mais) passou por um tratamento que resultou em classes binárias. "
      ]
    },
    {
      "cell_type": "code",
      "metadata": {
        "colab": {
          "base_uri": "https://localhost:8080/"
        },
        "id": "2JCdpVVrkfbF",
        "outputId": "f4833ec0-e4b0-4902-e0eb-00144236f423"
      },
      "source": [
        "df_desc[df_desc['feature'] == 'TelephonyManager.getSimCountryIso']"
      ],
      "execution_count": null,
      "outputs": [
        {
          "output_type": "execute_result",
          "data": {
            "text/html": [
              "<div>\n",
              "<style scoped>\n",
              "    .dataframe tbody tr th:only-of-type {\n",
              "        vertical-align: middle;\n",
              "    }\n",
              "\n",
              "    .dataframe tbody tr th {\n",
              "        vertical-align: top;\n",
              "    }\n",
              "\n",
              "    .dataframe thead th {\n",
              "        text-align: right;\n",
              "    }\n",
              "</style>\n",
              "<table border=\"1\" class=\"dataframe\">\n",
              "  <thead>\n",
              "    <tr style=\"text-align: right;\">\n",
              "      <th></th>\n",
              "      <th>feature</th>\n",
              "      <th>description</th>\n",
              "    </tr>\n",
              "  </thead>\n",
              "  <tbody>\n",
              "    <tr>\n",
              "      <th>92</th>\n",
              "      <td>TelephonyManager.getSimCountryIso</td>\n",
              "      <td>API call signature</td>\n",
              "    </tr>\n",
              "  </tbody>\n",
              "</table>\n",
              "</div>"
            ],
            "text/plain": [
              "                              feature         description\n",
              "92  TelephonyManager.getSimCountryIso  API call signature"
            ]
          },
          "metadata": {
            "tags": []
          },
          "execution_count": 118
        }
      ]
    },
    {
      "cell_type": "markdown",
      "metadata": {
        "id": "j6-WdikIjo1K"
      },
      "source": [
        "###Verificação de Valores Nulos"
      ]
    },
    {
      "cell_type": "code",
      "metadata": {
        "id": "17Wraj1gOdmY"
      },
      "source": [
        "#Geração de uma tabela contendo as seguintes informações, dado um dataframe:\n",
        "# nomes das colunas | seus respectivos tipos | qntd. de valores nulos | qntd. de valores não nulos.\n",
        "\n",
        "def get_resumo_dataset(_df):\n",
        "  info_treino = {'colunas': _df.columns,\n",
        "                'tipos': _df.dtypes,\n",
        "                'qntd_nulos': _df.isnull().sum(),\n",
        "                'qntd_nao_nulos': _df.notnull().sum()}\n",
        "  return pd.DataFrame (info_treino, columns = ['colunas',\n",
        "                                               'tipos', \n",
        "                                               'qntd_nulos', \n",
        "                                               'qntd_nao_nulos']).reset_index(drop=True)"
      ],
      "execution_count": null,
      "outputs": []
    },
    {
      "cell_type": "code",
      "metadata": {
        "id": "wrrrWa5cOfVD"
      },
      "source": [
        "#Função de renderização para a tabela gerada por get_resumo_dataset().\n",
        "\n",
        "def print_tabulate_resumo_dataset(resumo_dataset):\n",
        "  print(tabulate(resumo_dataset, headers = 'keys', tablefmt = 'psql')) "
      ],
      "execution_count": null,
      "outputs": []
    },
    {
      "cell_type": "code",
      "metadata": {
        "colab": {
          "base_uri": "https://localhost:8080/"
        },
        "id": "SIA6aZy_jr3y",
        "outputId": "3d0dde11-ce17-4015-d3fd-925aac4d9305"
      },
      "source": [
        "resumo_dataset = get_resumo_dataset(df_original)\n",
        "\n",
        "#Retirada de coluna desnecessária para esta subseção.\n",
        "resumo_dataset.drop(['tipos'], axis=1, inplace=True)\n",
        "\n",
        "print_tabulate_resumo_dataset(resumo_dataset)"
      ],
      "execution_count": null,
      "outputs": [
        {
          "output_type": "stream",
          "text": [
            "+-----+-------------------------------------------------+--------------+------------------+\n",
            "|     | colunas                                         |   qntd_nulos |   qntd_nao_nulos |\n",
            "|-----+-------------------------------------------------+--------------+------------------|\n",
            "|   0 | transact                                        |            0 |            15036 |\n",
            "|   1 | onServiceConnected                              |            0 |            15036 |\n",
            "|   2 | bindService                                     |            0 |            15036 |\n",
            "|   3 | attachInterface                                 |            0 |            15036 |\n",
            "|   4 | ServiceConnection                               |            0 |            15036 |\n",
            "|   5 | android.os.Binder                               |            0 |            15036 |\n",
            "|   6 | SEND_SMS                                        |            0 |            15036 |\n",
            "|   7 | Ljava.lang.Class.getCanonicalName               |            0 |            15036 |\n",
            "|   8 | Ljava.lang.Class.getMethods                     |            0 |            15036 |\n",
            "|   9 | Ljava.lang.Class.cast                           |            0 |            15036 |\n",
            "|  10 | Ljava.net.URLDecoder                            |            0 |            15036 |\n",
            "|  11 | android.content.pm.Signature                    |            0 |            15036 |\n",
            "|  12 | android.telephony.SmsManager                    |            0 |            15036 |\n",
            "|  13 | READ_PHONE_STATE                                |            0 |            15036 |\n",
            "|  14 | getBinder                                       |            0 |            15036 |\n",
            "|  15 | ClassLoader                                     |            0 |            15036 |\n",
            "|  16 | Landroid.content.Context.registerReceiver       |            0 |            15036 |\n",
            "|  17 | Ljava.lang.Class.getField                       |            0 |            15036 |\n",
            "|  18 | Landroid.content.Context.unregisterReceiver     |            0 |            15036 |\n",
            "|  19 | GET_ACCOUNTS                                    |            0 |            15036 |\n",
            "|  20 | RECEIVE_SMS                                     |            0 |            15036 |\n",
            "|  21 | Ljava.lang.Class.getDeclaredField               |            0 |            15036 |\n",
            "|  22 | READ_SMS                                        |            0 |            15036 |\n",
            "|  23 | getCallingUid                                   |            0 |            15036 |\n",
            "|  24 | Ljavax.crypto.spec.SecretKeySpec                |            0 |            15036 |\n",
            "|  25 | android.intent.action.BOOT_COMPLETED            |            0 |            15036 |\n",
            "|  26 | USE_CREDENTIALS                                 |            0 |            15036 |\n",
            "|  27 | MANAGE_ACCOUNTS                                 |            0 |            15036 |\n",
            "|  28 | android.content.pm.PackageInfo                  |            0 |            15036 |\n",
            "|  29 | KeySpec                                         |            0 |            15036 |\n",
            "|  30 | TelephonyManager.getLine1Number                 |            0 |            15036 |\n",
            "|  31 | DexClassLoader                                  |            0 |            15036 |\n",
            "|  32 | HttpGet.init                                    |            0 |            15036 |\n",
            "|  33 | SecretKey                                       |            0 |            15036 |\n",
            "|  34 | Ljava.lang.Class.getMethod                      |            0 |            15036 |\n",
            "|  35 | System.loadLibrary                              |            0 |            15036 |\n",
            "|  36 | android.intent.action.SEND                      |            0 |            15036 |\n",
            "|  37 | Ljavax.crypto.Cipher                            |            0 |            15036 |\n",
            "|  38 | WRITE_SMS                                       |            0 |            15036 |\n",
            "|  39 | READ_SYNC_SETTINGS                              |            0 |            15036 |\n",
            "|  40 | AUTHENTICATE_ACCOUNTS                           |            0 |            15036 |\n",
            "|  41 | android.telephony.gsm.SmsManager                |            0 |            15036 |\n",
            "|  42 | WRITE_HISTORY_BOOKMARKS                         |            0 |            15036 |\n",
            "|  43 | TelephonyManager.getSubscriberId                |            0 |            15036 |\n",
            "|  44 | mount                                           |            0 |            15036 |\n",
            "|  45 | INSTALL_PACKAGES                                |            0 |            15036 |\n",
            "|  46 | Runtime.getRuntime                              |            0 |            15036 |\n",
            "|  47 | CAMERA                                          |            0 |            15036 |\n",
            "|  48 | Ljava.lang.Object.getClass                      |            0 |            15036 |\n",
            "|  49 | WRITE_SYNC_SETTINGS                             |            0 |            15036 |\n",
            "|  50 | READ_HISTORY_BOOKMARKS                          |            0 |            15036 |\n",
            "|  51 | Ljava.lang.Class.forName                        |            0 |            15036 |\n",
            "|  52 | INTERNET                                        |            0 |            15036 |\n",
            "|  53 | android.intent.action.PACKAGE_REPLACED          |            0 |            15036 |\n",
            "|  54 | Binder                                          |            0 |            15036 |\n",
            "|  55 | android.intent.action.SEND_MULTIPLE             |            0 |            15036 |\n",
            "|  56 | RECORD_AUDIO                                    |            0 |            15036 |\n",
            "|  57 | IBinder                                         |            0 |            15036 |\n",
            "|  58 | android.os.IBinder                              |            0 |            15036 |\n",
            "|  59 | createSubprocess                                |            0 |            15036 |\n",
            "|  60 | NFC                                             |            0 |            15036 |\n",
            "|  61 | ACCESS_LOCATION_EXTRA_COMMANDS                  |            0 |            15036 |\n",
            "|  62 | URLClassLoader                                  |            0 |            15036 |\n",
            "|  63 | WRITE_APN_SETTINGS                              |            0 |            15036 |\n",
            "|  64 | abortBroadcast                                  |            0 |            15036 |\n",
            "|  65 | BIND_REMOTEVIEWS                                |            0 |            15036 |\n",
            "|  66 | android.intent.action.TIME_SET                  |            0 |            15036 |\n",
            "|  67 | READ_PROFILE                                    |            0 |            15036 |\n",
            "|  68 | TelephonyManager.getDeviceId                    |            0 |            15036 |\n",
            "|  69 | MODIFY_AUDIO_SETTINGS                           |            0 |            15036 |\n",
            "|  70 | getCallingPid                                   |            0 |            15036 |\n",
            "|  71 | READ_SYNC_STATS                                 |            0 |            15036 |\n",
            "|  72 | BROADCAST_STICKY                                |            0 |            15036 |\n",
            "|  73 | android.intent.action.PACKAGE_REMOVED           |            0 |            15036 |\n",
            "|  74 | android.intent.action.TIMEZONE_CHANGED          |            0 |            15036 |\n",
            "|  75 | WAKE_LOCK                                       |            0 |            15036 |\n",
            "|  76 | RECEIVE_BOOT_COMPLETED                          |            0 |            15036 |\n",
            "|  77 | RESTART_PACKAGES                                |            0 |            15036 |\n",
            "|  78 | Ljava.lang.Class.getPackage                     |            0 |            15036 |\n",
            "|  79 | chmod                                           |            0 |            15036 |\n",
            "|  80 | Ljava.lang.Class.getDeclaredClasses             |            0 |            15036 |\n",
            "|  81 | android.intent.action.ACTION_POWER_DISCONNECTED |            0 |            15036 |\n",
            "|  82 | android.intent.action.PACKAGE_ADDED             |            0 |            15036 |\n",
            "|  83 | PathClassLoader                                 |            0 |            15036 |\n",
            "|  84 | TelephonyManager.getSimSerialNumber             |            0 |            15036 |\n",
            "|  85 | Runtime.load                                    |            0 |            15036 |\n",
            "|  86 | TelephonyManager.getCallState                   |            0 |            15036 |\n",
            "|  87 | BLUETOOTH                                       |            0 |            15036 |\n",
            "|  88 | READ_CALENDAR                                   |            0 |            15036 |\n",
            "|  89 | READ_CALL_LOG                                   |            0 |            15036 |\n",
            "|  90 | SUBSCRIBED_FEEDS_WRITE                          |            0 |            15036 |\n",
            "|  91 | READ_EXTERNAL_STORAGE                           |            0 |            15036 |\n",
            "|  92 | TelephonyManager.getSimCountryIso               |            0 |            15036 |\n",
            "|  93 | sendMultipartTextMessage                        |            0 |            15036 |\n",
            "|  94 | PackageInstaller                                |            0 |            15036 |\n",
            "|  95 | VIBRATE                                         |            0 |            15036 |\n",
            "|  96 | remount                                         |            0 |            15036 |\n",
            "|  97 | android.intent.action.ACTION_SHUTDOWN           |            0 |            15036 |\n",
            "|  98 | sendDataMessage                                 |            0 |            15036 |\n",
            "|  99 | ACCESS_NETWORK_STATE                            |            0 |            15036 |\n",
            "| 100 | chown                                           |            0 |            15036 |\n",
            "| 101 | HttpPost.init                                   |            0 |            15036 |\n",
            "| 102 | Ljava.lang.Class.getClasses                     |            0 |            15036 |\n",
            "| 103 | SUBSCRIBED_FEEDS_READ                           |            0 |            15036 |\n",
            "| 104 | TelephonyManager.isNetworkRoaming               |            0 |            15036 |\n",
            "| 105 | CHANGE_WIFI_MULTICAST_STATE                     |            0 |            15036 |\n",
            "| 106 | WRITE_CALENDAR                                  |            0 |            15036 |\n",
            "| 107 | android.intent.action.PACKAGE_DATA_CLEARED      |            0 |            15036 |\n",
            "| 108 | MASTER_CLEAR                                    |            0 |            15036 |\n",
            "| 109 | HttpUriRequest                                  |            0 |            15036 |\n",
            "| 110 | UPDATE_DEVICE_STATS                             |            0 |            15036 |\n",
            "| 111 | WRITE_CALL_LOG                                  |            0 |            15036 |\n",
            "| 112 | DELETE_PACKAGES                                 |            0 |            15036 |\n",
            "| 113 | GET_TASKS                                       |            0 |            15036 |\n",
            "| 114 | GLOBAL_SEARCH                                   |            0 |            15036 |\n",
            "| 115 | DELETE_CACHE_FILES                              |            0 |            15036 |\n",
            "| 116 | WRITE_USER_DICTIONARY                           |            0 |            15036 |\n",
            "| 117 | android.intent.action.PACKAGE_CHANGED           |            0 |            15036 |\n",
            "| 118 | android.intent.action.NEW_OUTGOING_CALL         |            0 |            15036 |\n",
            "| 119 | REORDER_TASKS                                   |            0 |            15036 |\n",
            "| 120 | WRITE_PROFILE                                   |            0 |            15036 |\n",
            "| 121 | SET_WALLPAPER                                   |            0 |            15036 |\n",
            "| 122 | BIND_INPUT_METHOD                               |            0 |            15036 |\n",
            "| 123 | divideMessage                                   |            0 |            15036 |\n",
            "| 124 | READ_SOCIAL_STREAM                              |            0 |            15036 |\n",
            "| 125 | READ_USER_DICTIONARY                            |            0 |            15036 |\n",
            "| 126 | PROCESS_OUTGOING_CALLS                          |            0 |            15036 |\n",
            "| 127 | CALL_PRIVILEGED                                 |            0 |            15036 |\n",
            "| 128 | Runtime.exec                                    |            0 |            15036 |\n",
            "| 129 | BIND_WALLPAPER                                  |            0 |            15036 |\n",
            "| 130 | RECEIVE_WAP_PUSH                                |            0 |            15036 |\n",
            "| 131 | DUMP                                            |            0 |            15036 |\n",
            "| 132 | BATTERY_STATS                                   |            0 |            15036 |\n",
            "| 133 | ACCESS_COARSE_LOCATION                          |            0 |            15036 |\n",
            "| 134 | SET_TIME                                        |            0 |            15036 |\n",
            "| 135 | android.intent.action.SENDTO                    |            0 |            15036 |\n",
            "| 136 | WRITE_SOCIAL_STREAM                             |            0 |            15036 |\n",
            "| 137 | WRITE_SETTINGS                                  |            0 |            15036 |\n",
            "| 138 | REBOOT                                          |            0 |            15036 |\n",
            "| 139 | BLUETOOTH_ADMIN                                 |            0 |            15036 |\n",
            "| 140 | TelephonyManager.getNetworkOperator             |            0 |            15036 |\n",
            "| 141 | /system/bin                                     |            0 |            15036 |\n",
            "| 142 | MessengerService                                |            0 |            15036 |\n",
            "| 143 | BIND_DEVICE_ADMIN                               |            0 |            15036 |\n",
            "| 144 | WRITE_GSERVICES                                 |            0 |            15036 |\n",
            "| 145 | IRemoteService                                  |            0 |            15036 |\n",
            "| 146 | KILL_BACKGROUND_PROCESSES                       |            0 |            15036 |\n",
            "| 147 | SET_ALARM                                       |            0 |            15036 |\n",
            "| 148 | ACCOUNT_MANAGER                                 |            0 |            15036 |\n",
            "| 149 | /system/app                                     |            0 |            15036 |\n",
            "| 150 | android.intent.action.CALL                      |            0 |            15036 |\n",
            "| 151 | STATUS_BAR                                      |            0 |            15036 |\n",
            "| 152 | TelephonyManager.getSimOperator                 |            0 |            15036 |\n",
            "| 153 | PERSISTENT_ACTIVITY                             |            0 |            15036 |\n",
            "| 154 | CHANGE_NETWORK_STATE                            |            0 |            15036 |\n",
            "| 155 | onBind                                          |            0 |            15036 |\n",
            "| 156 | Process.start                                   |            0 |            15036 |\n",
            "| 157 | android.intent.action.SCREEN_ON                 |            0 |            15036 |\n",
            "| 158 | Context.bindService                             |            0 |            15036 |\n",
            "| 159 | RECEIVE_MMS                                     |            0 |            15036 |\n",
            "| 160 | SET_TIME_ZONE                                   |            0 |            15036 |\n",
            "| 161 | android.intent.action.BATTERY_OKAY              |            0 |            15036 |\n",
            "| 162 | CONTROL_LOCATION_UPDATES                        |            0 |            15036 |\n",
            "| 163 | BROADCAST_WAP_PUSH                              |            0 |            15036 |\n",
            "| 164 | BIND_ACCESSIBILITY_SERVICE                      |            0 |            15036 |\n",
            "| 165 | ADD_VOICEMAIL                                   |            0 |            15036 |\n",
            "| 166 | CALL_PHONE                                      |            0 |            15036 |\n",
            "| 167 | ProcessBuilder                                  |            0 |            15036 |\n",
            "| 168 | BIND_APPWIDGET                                  |            0 |            15036 |\n",
            "| 169 | FLASHLIGHT                                      |            0 |            15036 |\n",
            "| 170 | READ_LOGS                                       |            0 |            15036 |\n",
            "| 171 | Ljava.lang.Class.getResource                    |            0 |            15036 |\n",
            "| 172 | defineClass                                     |            0 |            15036 |\n",
            "| 173 | SET_PROCESS_LIMIT                               |            0 |            15036 |\n",
            "| 174 | android.intent.action.PACKAGE_RESTARTED         |            0 |            15036 |\n",
            "| 175 | MOUNT_UNMOUNT_FILESYSTEMS                       |            0 |            15036 |\n",
            "| 176 | BIND_TEXT_SERVICE                               |            0 |            15036 |\n",
            "| 177 | INSTALL_LOCATION_PROVIDER                       |            0 |            15036 |\n",
            "| 178 | android.intent.action.CALL_BUTTON               |            0 |            15036 |\n",
            "| 179 | android.intent.action.SCREEN_OFF                |            0 |            15036 |\n",
            "| 180 | findClass                                       |            0 |            15036 |\n",
            "| 181 | SYSTEM_ALERT_WINDOW                             |            0 |            15036 |\n",
            "| 182 | MOUNT_FORMAT_FILESYSTEMS                        |            0 |            15036 |\n",
            "| 183 | CHANGE_CONFIGURATION                            |            0 |            15036 |\n",
            "| 184 | CLEAR_APP_USER_DATA                             |            0 |            15036 |\n",
            "| 185 | intent.action.RUN                               |            0 |            15036 |\n",
            "| 186 | android.intent.action.SET_WALLPAPER             |            0 |            15036 |\n",
            "| 187 | CHANGE_WIFI_STATE                               |            0 |            15036 |\n",
            "| 188 | READ_FRAME_BUFFER                               |            0 |            15036 |\n",
            "| 189 | ACCESS_SURFACE_FLINGER                          |            0 |            15036 |\n",
            "| 190 | Runtime.loadLibrary                             |            0 |            15036 |\n",
            "| 191 | BROADCAST_SMS                                   |            0 |            15036 |\n",
            "| 192 | EXPAND_STATUS_BAR                               |            0 |            15036 |\n",
            "| 193 | INTERNAL_SYSTEM_WINDOW                          |            0 |            15036 |\n",
            "| 194 | android.intent.action.BATTERY_LOW               |            0 |            15036 |\n",
            "| 195 | SET_ACTIVITY_WATCHER                            |            0 |            15036 |\n",
            "| 196 | WRITE_CONTACTS                                  |            0 |            15036 |\n",
            "| 197 | android.intent.action.ACTION_POWER_CONNECTED    |            0 |            15036 |\n",
            "| 198 | BIND_VPN_SERVICE                                |            0 |            15036 |\n",
            "| 199 | DISABLE_KEYGUARD                                |            0 |            15036 |\n",
            "| 200 | ACCESS_MOCK_LOCATION                            |            0 |            15036 |\n",
            "| 201 | GET_PACKAGE_SIZE                                |            0 |            15036 |\n",
            "| 202 | MODIFY_PHONE_STATE                              |            0 |            15036 |\n",
            "| 203 | CHANGE_COMPONENT_ENABLED_STATE                  |            0 |            15036 |\n",
            "| 204 | CLEAR_APP_CACHE                                 |            0 |            15036 |\n",
            "| 205 | SET_ORIENTATION                                 |            0 |            15036 |\n",
            "| 206 | READ_CONTACTS                                   |            0 |            15036 |\n",
            "| 207 | DEVICE_POWER                                    |            0 |            15036 |\n",
            "| 208 | HARDWARE_TEST                                   |            0 |            15036 |\n",
            "| 209 | ACCESS_WIFI_STATE                               |            0 |            15036 |\n",
            "| 210 | WRITE_EXTERNAL_STORAGE                          |            0 |            15036 |\n",
            "| 211 | ACCESS_FINE_LOCATION                            |            0 |            15036 |\n",
            "| 212 | SET_WALLPAPER_HINTS                             |            0 |            15036 |\n",
            "| 213 | SET_PREFERRED_APPLICATIONS                      |            0 |            15036 |\n",
            "| 214 | WRITE_SECURE_SETTINGS                           |            0 |            15036 |\n",
            "| 215 | class                                           |            0 |            15036 |\n",
            "+-----+-------------------------------------------------+--------------+------------------+\n"
          ],
          "name": "stdout"
        }
      ]
    },
    {
      "cell_type": "markdown",
      "metadata": {
        "id": "uNaJu-WhkSmU"
      },
      "source": [
        "Pode ser observado, na tabela acima, que não há colunas com dados faltantes."
      ]
    },
    {
      "cell_type": "markdown",
      "metadata": {
        "id": "_Wq4un7xe2qy"
      },
      "source": [
        "###Contagem dos Valores das Features"
      ]
    },
    {
      "cell_type": "markdown",
      "metadata": {
        "id": "fhEPQbnMoIug"
      },
      "source": [
        "A seguir são quantificados os registros de cada classe de todas as *features* do dataset."
      ]
    },
    {
      "cell_type": "code",
      "metadata": {
        "id": "J6LhnaOIAiCl"
      },
      "source": [
        "def count_individual_feattures(_df, _columns):\n",
        "    for var in _columns:\n",
        "        print(_df[var].value_counts(), '\\n')"
      ],
      "execution_count": null,
      "outputs": []
    },
    {
      "cell_type": "code",
      "metadata": {
        "id": "P1nFGwWNoiBz",
        "colab": {
          "base_uri": "https://localhost:8080/"
        },
        "outputId": "79d41fcf-880a-4403-8c1c-fe200f499280"
      },
      "source": [
        "count_individual_feattures(df_original, colunas) "
      ],
      "execution_count": null,
      "outputs": [
        {
          "output_type": "stream",
          "text": [
            "0    8624\n",
            "1    6412\n",
            "Name: transact, dtype: int64 \n",
            "\n",
            "0    8321\n",
            "1    6715\n",
            "Name: onServiceConnected, dtype: int64 \n",
            "\n",
            "0    8380\n",
            "1    6656\n",
            "Name: bindService, dtype: int64 \n",
            "\n",
            "0    8823\n",
            "1    6213\n",
            "Name: attachInterface, dtype: int64 \n",
            "\n",
            "0    8346\n",
            "1    6690\n",
            "Name: ServiceConnection, dtype: int64 \n",
            "\n",
            "0    7715\n",
            "1    7321\n",
            "Name: android.os.Binder, dtype: int64 \n",
            "\n",
            "0    11478\n",
            "1     3558\n",
            "Name: SEND_SMS, dtype: int64 \n",
            "\n",
            "0    10062\n",
            "1     4974\n",
            "Name: Ljava.lang.Class.getCanonicalName, dtype: int64 \n",
            "\n",
            "0    10790\n",
            "1     4246\n",
            "Name: Ljava.lang.Class.getMethods, dtype: int64 \n",
            "\n",
            "0    10336\n",
            "1     4700\n",
            "Name: Ljava.lang.Class.cast, dtype: int64 \n",
            "\n",
            "0    8893\n",
            "1    6143\n",
            "Name: Ljava.net.URLDecoder, dtype: int64 \n",
            "\n",
            "0    9681\n",
            "1    5355\n",
            "Name: android.content.pm.Signature, dtype: int64 \n",
            "\n",
            "0    12251\n",
            "1     2785\n",
            "Name: android.telephony.SmsManager, dtype: int64 \n",
            "\n",
            "1    9509\n",
            "0    5527\n",
            "Name: READ_PHONE_STATE, dtype: int64 \n",
            "\n",
            "0    12201\n",
            "1     2835\n",
            "Name: getBinder, dtype: int64 \n",
            "\n",
            "1    7828\n",
            "0    7208\n",
            "Name: ClassLoader, dtype: int64 \n",
            "\n",
            "1    7570\n",
            "0    7466\n",
            "Name: Landroid.content.Context.registerReceiver, dtype: int64 \n",
            "\n",
            "0    8367\n",
            "1    6669\n",
            "Name: Ljava.lang.Class.getField, dtype: int64 \n",
            "\n",
            "0    8625\n",
            "1    6411\n",
            "Name: Landroid.content.Context.unregisterReceiver, dtype: int64 \n",
            "\n",
            "0    10544\n",
            "1     4492\n",
            "Name: GET_ACCOUNTS, dtype: int64 \n",
            "\n",
            "0    12222\n",
            "1     2814\n",
            "Name: RECEIVE_SMS, dtype: int64 \n",
            "\n",
            "0    7863\n",
            "1    7173\n",
            "Name: Ljava.lang.Class.getDeclaredField, dtype: int64 \n",
            "\n",
            "0    12228\n",
            "1     2808\n",
            "Name: READ_SMS, dtype: int64 \n",
            "\n",
            "0    13207\n",
            "1     1829\n",
            "Name: getCallingUid, dtype: int64 \n",
            "\n",
            "0    8549\n",
            "1    6487\n",
            "Name: Ljavax.crypto.spec.SecretKeySpec, dtype: int64 \n",
            "\n",
            "0    8283\n",
            "1    6753\n",
            "Name: android.intent.action.BOOT_COMPLETED, dtype: int64 \n",
            "\n",
            "0    13516\n",
            "1     1520\n",
            "Name: USE_CREDENTIALS, dtype: int64 \n",
            "\n",
            "0    13471\n",
            "1     1565\n",
            "Name: MANAGE_ACCOUNTS, dtype: int64 \n",
            "\n",
            "1    10075\n",
            "0     4961\n",
            "Name: android.content.pm.PackageInfo, dtype: int64 \n",
            "\n",
            "0    7927\n",
            "1    7109\n",
            "Name: KeySpec, dtype: int64 \n",
            "\n",
            "0    11311\n",
            "1     3725\n",
            "Name: TelephonyManager.getLine1Number, dtype: int64 \n",
            "\n",
            "0    11972\n",
            "1     3064\n",
            "Name: DexClassLoader, dtype: int64 \n",
            "\n",
            "1    8005\n",
            "0    7031\n",
            "Name: HttpGet.init, dtype: int64 \n",
            "\n",
            "0    8116\n",
            "1    6920\n",
            "Name: SecretKey, dtype: int64 \n",
            "\n",
            "1    8697\n",
            "0    6339\n",
            "Name: Ljava.lang.Class.getMethod, dtype: int64 \n",
            "\n",
            "0    9538\n",
            "1    5498\n",
            "Name: System.loadLibrary, dtype: int64 \n",
            "\n",
            "0    13361\n",
            "1     1675\n",
            "Name: android.intent.action.SEND, dtype: int64 \n",
            "\n",
            "0    8487\n",
            "1    6549\n",
            "Name: Ljavax.crypto.Cipher, dtype: int64 \n",
            "\n",
            "0    13334\n",
            "1     1702\n",
            "Name: WRITE_SMS, dtype: int64 \n",
            "\n",
            "0    13784\n",
            "1     1252\n",
            "Name: READ_SYNC_SETTINGS, dtype: int64 \n",
            "\n",
            "0    14068\n",
            "1      968\n",
            "Name: AUTHENTICATE_ACCOUNTS, dtype: int64 \n",
            "\n",
            "0    14370\n",
            "1      666\n",
            "Name: android.telephony.gsm.SmsManager, dtype: int64 \n",
            "\n",
            "0    13843\n",
            "1     1193\n",
            "Name: WRITE_HISTORY_BOOKMARKS, dtype: int64 \n",
            "\n",
            "0    11805\n",
            "1     3231\n",
            "Name: TelephonyManager.getSubscriberId, dtype: int64 \n",
            "\n",
            "1    8983\n",
            "0    6053\n",
            "Name: mount, dtype: int64 \n",
            "\n",
            "0    13984\n",
            "1     1052\n",
            "Name: INSTALL_PACKAGES, dtype: int64 \n",
            "\n",
            "0    8437\n",
            "1    6599\n",
            "Name: Runtime.getRuntime, dtype: int64 \n",
            "\n",
            "0    12982\n",
            "1     2054\n",
            "Name: CAMERA, dtype: int64 \n",
            "\n",
            "1    10943\n",
            "0     4093\n",
            "Name: Ljava.lang.Object.getClass, dtype: int64 \n",
            "\n",
            "0    13877\n",
            "1     1159\n",
            "Name: WRITE_SYNC_SETTINGS, dtype: int64 \n",
            "\n",
            "0    13639\n",
            "1     1397\n",
            "Name: READ_HISTORY_BOOKMARKS, dtype: int64 \n",
            "\n",
            "1    9329\n",
            "0    5707\n",
            "Name: Ljava.lang.Class.forName, dtype: int64 \n",
            "\n",
            "1    13111\n",
            "0     1925\n",
            "Name: INTERNET, dtype: int64 \n",
            "\n",
            "0    13911\n",
            "1     1125\n",
            "Name: android.intent.action.PACKAGE_REPLACED, dtype: int64 \n",
            "\n",
            "1    11892\n",
            "0     3144\n",
            "Name: Binder, dtype: int64 \n",
            "\n",
            "0    14308\n",
            "1      728\n",
            "Name: android.intent.action.SEND_MULTIPLE, dtype: int64 \n",
            "\n",
            "0    13679\n",
            "1     1357\n",
            "Name: RECORD_AUDIO, dtype: int64 \n",
            "\n",
            "1    11788\n",
            "0     3248\n",
            "Name: IBinder, dtype: int64 \n",
            "\n",
            "1    11787\n",
            "0     3249\n",
            "Name: android.os.IBinder, dtype: int64 \n",
            "\n",
            "0    14725\n",
            "1      311\n",
            "Name: createSubprocess, dtype: int64 \n",
            "\n",
            "0    14417\n",
            "1      619\n",
            "Name: NFC, dtype: int64 \n",
            "\n",
            "0    14257\n",
            "1      779\n",
            "Name: ACCESS_LOCATION_EXTRA_COMMANDS, dtype: int64 \n",
            "\n",
            "0    14317\n",
            "1      719\n",
            "Name: URLClassLoader, dtype: int64 \n",
            "\n",
            "0    14322\n",
            "1      714\n",
            "Name: WRITE_APN_SETTINGS, dtype: int64 \n",
            "\n",
            "0    13346\n",
            "1     1690\n",
            "Name: abortBroadcast, dtype: int64 \n",
            "\n",
            "0    14476\n",
            "1      560\n",
            "Name: BIND_REMOTEVIEWS, dtype: int64 \n",
            "\n",
            "0    14360\n",
            "1      676\n",
            "Name: android.intent.action.TIME_SET, dtype: int64 \n",
            "\n",
            "0    14511\n",
            "1      525\n",
            "Name: READ_PROFILE, dtype: int64 \n",
            "\n",
            "1    8105\n",
            "0    6931\n",
            "Name: TelephonyManager.getDeviceId, dtype: int64 \n",
            "\n",
            "0    14058\n",
            "1      978\n",
            "Name: MODIFY_AUDIO_SETTINGS, dtype: int64 \n",
            "\n",
            "0    14442\n",
            "1      594\n",
            "Name: getCallingPid, dtype: int64 \n",
            "\n",
            "0    14516\n",
            "1      520\n",
            "Name: READ_SYNC_STATS, dtype: int64 \n",
            "\n",
            "0    14267\n",
            "1      769\n",
            "Name: BROADCAST_STICKY, dtype: int64 \n",
            "\n",
            "0    14069\n",
            "1      967\n",
            "Name: android.intent.action.PACKAGE_REMOVED, dtype: int64 \n",
            "\n",
            "0    14583\n",
            "1      453\n",
            "Name: android.intent.action.TIMEZONE_CHANGED, dtype: int64 \n",
            "\n",
            "0    7710\n",
            "1    7326\n",
            "Name: WAKE_LOCK, dtype: int64 \n",
            "\n",
            "0    9257\n",
            "1    5779\n",
            "Name: RECEIVE_BOOT_COMPLETED, dtype: int64 \n",
            "\n",
            "0    13837\n",
            "1     1199\n",
            "Name: RESTART_PACKAGES, dtype: int64 \n",
            "\n",
            "0    11451\n",
            "1     3585\n",
            "Name: Ljava.lang.Class.getPackage, dtype: int64 \n",
            "\n",
            "0    13340\n",
            "1     1696\n",
            "Name: chmod, dtype: int64 \n",
            "\n",
            "0    14621\n",
            "1      415\n",
            "Name: Ljava.lang.Class.getDeclaredClasses, dtype: int64 \n",
            "\n",
            "0    14621\n",
            "1      415\n",
            "Name: android.intent.action.ACTION_POWER_DISCONNECTED, dtype: int64 \n",
            "\n",
            "0    13911\n",
            "1     1125\n",
            "Name: android.intent.action.PACKAGE_ADDED, dtype: int64 \n",
            "\n",
            "0    14649\n",
            "1      387\n",
            "Name: PathClassLoader, dtype: int64 \n",
            "\n",
            "0    13104\n",
            "1     1932\n",
            "Name: TelephonyManager.getSimSerialNumber, dtype: int64 \n",
            "\n",
            "0    14741\n",
            "1      295\n",
            "Name: Runtime.load, dtype: int64 \n",
            "\n",
            "0    13869\n",
            "1     1167\n",
            "Name: TelephonyManager.getCallState, dtype: int64 \n",
            "\n",
            "0    13843\n",
            "1     1193\n",
            "Name: BLUETOOTH, dtype: int64 \n",
            "\n",
            "0    14443\n",
            "1      593\n",
            "Name: READ_CALENDAR, dtype: int64 \n",
            "\n",
            "0    14792\n",
            "1      244\n",
            "Name: READ_CALL_LOG, dtype: int64 \n",
            "\n",
            "0    14793\n",
            "1      243\n",
            "Name: SUBSCRIBED_FEEDS_WRITE, dtype: int64 \n",
            "\n",
            "0    13449\n",
            "1     1587\n",
            "Name: READ_EXTERNAL_STORAGE, dtype: int64 \n",
            "\n",
            "0    6994\n",
            "0    5514\n",
            "1    1330\n",
            "1    1193\n",
            "?       5\n",
            "Name: TelephonyManager.getSimCountryIso, dtype: int64 \n",
            "\n",
            "0    14766\n",
            "1      270\n",
            "Name: sendMultipartTextMessage, dtype: int64 \n",
            "\n",
            "0    14590\n",
            "1      446\n",
            "Name: PackageInstaller, dtype: int64 \n",
            "\n",
            "0    9583\n",
            "1    5453\n",
            "Name: VIBRATE, dtype: int64 \n",
            "\n",
            "0    14658\n",
            "1      378\n",
            "Name: remount, dtype: int64 \n",
            "\n",
            "0    14741\n",
            "1      295\n",
            "Name: android.intent.action.ACTION_SHUTDOWN, dtype: int64 \n",
            "\n",
            "0    14737\n",
            "1      299\n",
            "Name: sendDataMessage, dtype: int64 \n",
            "\n",
            "1    10889\n",
            "0     4147\n",
            "Name: ACCESS_NETWORK_STATE, dtype: int64 \n",
            "\n",
            "0    14781\n",
            "1      255\n",
            "Name: chown, dtype: int64 \n",
            "\n",
            "1    8549\n",
            "0    6487\n",
            "Name: HttpPost.init, dtype: int64 \n",
            "\n",
            "0    14352\n",
            "1      684\n",
            "Name: Ljava.lang.Class.getClasses, dtype: int64 \n",
            "\n",
            "0    14789\n",
            "1      247\n",
            "Name: SUBSCRIBED_FEEDS_READ, dtype: int64 \n",
            "\n",
            "0    14253\n",
            "1      783\n",
            "Name: TelephonyManager.isNetworkRoaming, dtype: int64 \n",
            "\n",
            "0    14848\n",
            "1      188\n",
            "Name: CHANGE_WIFI_MULTICAST_STATE, dtype: int64 \n",
            "\n",
            "0    14501\n",
            "1      535\n",
            "Name: WRITE_CALENDAR, dtype: int64 \n",
            "\n",
            "0    14876\n",
            "1      160\n",
            "Name: android.intent.action.PACKAGE_DATA_CLEARED, dtype: int64 \n",
            "\n",
            "0    14856\n",
            "1      180\n",
            "Name: MASTER_CLEAR, dtype: int64 \n",
            "\n",
            "1    9738\n",
            "0    5298\n",
            "Name: HttpUriRequest, dtype: int64 \n",
            "\n",
            "0    14816\n",
            "1      220\n",
            "Name: UPDATE_DEVICE_STATS, dtype: int64 \n",
            "\n",
            "0    14890\n",
            "1      146\n",
            "Name: WRITE_CALL_LOG, dtype: int64 \n",
            "\n",
            "0    14622\n",
            "1      414\n",
            "Name: DELETE_PACKAGES, dtype: int64 \n",
            "\n",
            "0    12389\n",
            "1     2647\n",
            "Name: GET_TASKS, dtype: int64 \n",
            "\n",
            "0    14615\n",
            "1      421\n",
            "Name: GLOBAL_SEARCH, dtype: int64 \n",
            "\n",
            "0    14887\n",
            "1      149\n",
            "Name: DELETE_CACHE_FILES, dtype: int64 \n",
            "\n",
            "0    14914\n",
            "1      122\n",
            "Name: WRITE_USER_DICTIONARY, dtype: int64 \n",
            "\n",
            "0    14745\n",
            "1      291\n",
            "Name: android.intent.action.PACKAGE_CHANGED, dtype: int64 \n",
            "\n",
            "0    14763\n",
            "1      273\n",
            "Name: android.intent.action.NEW_OUTGOING_CALL, dtype: int64 \n",
            "\n",
            "0    14845\n",
            "1      191\n",
            "Name: REORDER_TASKS, dtype: int64 \n",
            "\n",
            "0    14927\n",
            "1      109\n",
            "Name: WRITE_PROFILE, dtype: int64 \n",
            "\n",
            "0    14016\n",
            "1     1020\n",
            "Name: SET_WALLPAPER, dtype: int64 \n",
            "\n",
            "0    14877\n",
            "1      159\n",
            "Name: BIND_INPUT_METHOD, dtype: int64 \n",
            "\n",
            "0    14489\n",
            "1      547\n",
            "Name: divideMessage, dtype: int64 \n",
            "\n",
            "0    14940\n",
            "1       96\n",
            "Name: READ_SOCIAL_STREAM, dtype: int64 \n",
            "\n",
            "0    14931\n",
            "1      105\n",
            "Name: READ_USER_DICTIONARY, dtype: int64 \n",
            "\n",
            "0    14661\n",
            "1      375\n",
            "Name: PROCESS_OUTGOING_CALLS, dtype: int64 \n",
            "\n",
            "0    14900\n",
            "1      136\n",
            "Name: CALL_PRIVILEGED, dtype: int64 \n",
            "\n",
            "0    10373\n",
            "1     4663\n",
            "Name: Runtime.exec, dtype: int64 \n",
            "\n",
            "0    14558\n",
            "1      478\n",
            "Name: BIND_WALLPAPER, dtype: int64 \n",
            "\n",
            "0    14788\n",
            "1      248\n",
            "Name: RECEIVE_WAP_PUSH, dtype: int64 \n",
            "\n",
            "0    14935\n",
            "1      101\n",
            "Name: DUMP, dtype: int64 \n",
            "\n",
            "0    14696\n",
            "1      340\n",
            "Name: BATTERY_STATS, dtype: int64 \n",
            "\n",
            "0    10785\n",
            "1     4251\n",
            "Name: ACCESS_COARSE_LOCATION, dtype: int64 \n",
            "\n",
            "0    14951\n",
            "1       85\n",
            "Name: SET_TIME, dtype: int64 \n",
            "\n",
            "0    14750\n",
            "1      286\n",
            "Name: android.intent.action.SENDTO, dtype: int64 \n",
            "\n",
            "0    14962\n",
            "1       74\n",
            "Name: WRITE_SOCIAL_STREAM, dtype: int64 \n",
            "\n",
            "0    12713\n",
            "1     2323\n",
            "Name: WRITE_SETTINGS, dtype: int64 \n",
            "\n",
            "0    14820\n",
            "1      216\n",
            "Name: REBOOT, dtype: int64 \n",
            "\n",
            "0    14256\n",
            "1      780\n",
            "Name: BLUETOOTH_ADMIN, dtype: int64 \n",
            "\n",
            "0    7808\n",
            "1    7228\n",
            "Name: TelephonyManager.getNetworkOperator, dtype: int64 \n",
            "\n",
            "0    12886\n",
            "1     2150\n",
            "Name: /system/bin, dtype: int64 \n",
            "\n",
            "0    14976\n",
            "1       60\n",
            "Name: MessengerService, dtype: int64 \n",
            "\n",
            "0    14816\n",
            "1      220\n",
            "Name: BIND_DEVICE_ADMIN, dtype: int64 \n",
            "\n",
            "0    14972\n",
            "1       64\n",
            "Name: WRITE_GSERVICES, dtype: int64 \n",
            "\n",
            "0    14902\n",
            "1      134\n",
            "Name: IRemoteService, dtype: int64 \n",
            "\n",
            "0    14425\n",
            "1      611\n",
            "Name: KILL_BACKGROUND_PROCESSES, dtype: int64 \n",
            "\n",
            "0    14655\n",
            "1      381\n",
            "Name: SET_ALARM, dtype: int64 \n",
            "\n",
            "0    14955\n",
            "1       81\n",
            "Name: ACCOUNT_MANAGER, dtype: int64 \n",
            "\n",
            "0    12733\n",
            "1     2303\n",
            "Name: /system/app, dtype: int64 \n",
            "\n",
            "0    14964\n",
            "1       72\n",
            "Name: android.intent.action.CALL, dtype: int64 \n",
            "\n",
            "0    14592\n",
            "1      444\n",
            "Name: STATUS_BAR, dtype: int64 \n",
            "\n",
            "0    11589\n",
            "1     3447\n",
            "Name: TelephonyManager.getSimOperator, dtype: int64 \n",
            "\n",
            "0    14910\n",
            "1      126\n",
            "Name: PERSISTENT_ACTIVITY, dtype: int64 \n",
            "\n",
            "0    13667\n",
            "1     1369\n",
            "Name: CHANGE_NETWORK_STATE, dtype: int64 \n",
            "\n",
            "1    10321\n",
            "0     4715\n",
            "Name: onBind, dtype: int64 \n",
            "\n",
            "0    14995\n",
            "1       41\n",
            "Name: Process.start, dtype: int64 \n",
            "\n",
            "0    14909\n",
            "1      127\n",
            "Name: android.intent.action.SCREEN_ON, dtype: int64 \n",
            "\n",
            "0    14998\n",
            "1       38\n",
            "Name: Context.bindService, dtype: int64 \n",
            "\n",
            "0    14679\n",
            "1      357\n",
            "Name: RECEIVE_MMS, dtype: int64 \n",
            "\n",
            "0    14990\n",
            "1       46\n",
            "Name: SET_TIME_ZONE, dtype: int64 \n",
            "\n",
            "0    14953\n",
            "1       83\n",
            "Name: android.intent.action.BATTERY_OKAY, dtype: int64 \n",
            "\n",
            "0    14964\n",
            "1       72\n",
            "Name: CONTROL_LOCATION_UPDATES, dtype: int64 \n",
            "\n",
            "0    14938\n",
            "1       98\n",
            "Name: BROADCAST_WAP_PUSH, dtype: int64 \n",
            "\n",
            "0    14994\n",
            "1       42\n",
            "Name: BIND_ACCESSIBILITY_SERVICE, dtype: int64 \n",
            "\n",
            "0    15006\n",
            "1       30\n",
            "Name: ADD_VOICEMAIL, dtype: int64 \n",
            "\n",
            "0    13317\n",
            "1     1719\n",
            "Name: CALL_PHONE, dtype: int64 \n",
            "\n",
            "0    13714\n",
            "1     1322\n",
            "Name: ProcessBuilder, dtype: int64 \n",
            "\n",
            "0    14971\n",
            "1       65\n",
            "Name: BIND_APPWIDGET, dtype: int64 \n",
            "\n",
            "0    14637\n",
            "1      399\n",
            "Name: FLASHLIGHT, dtype: int64 \n",
            "\n",
            "0    13856\n",
            "1     1180\n",
            "Name: READ_LOGS, dtype: int64 \n",
            "\n",
            "0    9245\n",
            "1    5791\n",
            "Name: Ljava.lang.Class.getResource, dtype: int64 \n",
            "\n",
            "0    14854\n",
            "1      182\n",
            "Name: defineClass, dtype: int64 \n",
            "\n",
            "0    15003\n",
            "1       33\n",
            "Name: SET_PROCESS_LIMIT, dtype: int64 \n",
            "\n",
            "0    14920\n",
            "1      116\n",
            "Name: android.intent.action.PACKAGE_RESTARTED, dtype: int64 \n",
            "\n",
            "0    14535\n",
            "1      501\n",
            "Name: MOUNT_UNMOUNT_FILESYSTEMS, dtype: int64 \n",
            "\n",
            "0    15013\n",
            "1       23\n",
            "Name: BIND_TEXT_SERVICE, dtype: int64 \n",
            "\n",
            "0    15005\n",
            "1       31\n",
            "Name: INSTALL_LOCATION_PROVIDER, dtype: int64 \n",
            "\n",
            "0    14999\n",
            "1       37\n",
            "Name: android.intent.action.CALL_BUTTON, dtype: int64 \n",
            "\n",
            "0    14923\n",
            "1      113\n",
            "Name: android.intent.action.SCREEN_OFF, dtype: int64 \n",
            "\n",
            "0    13585\n",
            "1     1451\n",
            "Name: findClass, dtype: int64 \n",
            "\n",
            "0    13931\n",
            "1     1105\n",
            "Name: SYSTEM_ALERT_WINDOW, dtype: int64 \n",
            "\n",
            "0    14996\n",
            "1       40\n",
            "Name: MOUNT_FORMAT_FILESYSTEMS, dtype: int64 \n",
            "\n",
            "0    14650\n",
            "1      386\n",
            "Name: CHANGE_CONFIGURATION, dtype: int64 \n",
            "\n",
            "0    14992\n",
            "1       44\n",
            "Name: CLEAR_APP_USER_DATA, dtype: int64 \n",
            "\n",
            "0    14992\n",
            "1       44\n",
            "Name: intent.action.RUN, dtype: int64 \n",
            "\n",
            "0    14792\n",
            "1      244\n",
            "Name: android.intent.action.SET_WALLPAPER, dtype: int64 \n",
            "\n",
            "0    12602\n",
            "1     2434\n",
            "Name: CHANGE_WIFI_STATE, dtype: int64 \n",
            "\n",
            "0    14909\n",
            "1      127\n",
            "Name: READ_FRAME_BUFFER, dtype: int64 \n",
            "\n",
            "0    14993\n",
            "1       43\n",
            "Name: ACCESS_SURFACE_FLINGER, dtype: int64 \n",
            "\n",
            "0    15021\n",
            "1       15\n",
            "Name: Runtime.loadLibrary, dtype: int64 \n",
            "\n",
            "0    14892\n",
            "1      144\n",
            "Name: BROADCAST_SMS, dtype: int64 \n",
            "\n",
            "0    14723\n",
            "1      313\n",
            "Name: EXPAND_STATUS_BAR, dtype: int64 \n",
            "\n",
            "0    14977\n",
            "1       59\n",
            "Name: INTERNAL_SYSTEM_WINDOW, dtype: int64 \n",
            "\n",
            "0    14930\n",
            "1      106\n",
            "Name: android.intent.action.BATTERY_LOW, dtype: int64 \n",
            "\n",
            "0    15020\n",
            "1       16\n",
            "Name: SET_ACTIVITY_WATCHER, dtype: int64 \n",
            "\n",
            "0    13430\n",
            "1     1606\n",
            "Name: WRITE_CONTACTS, dtype: int64 \n",
            "\n",
            "0    14134\n",
            "1      902\n",
            "Name: android.intent.action.ACTION_POWER_CONNECTED, dtype: int64 \n",
            "\n",
            "0    15028\n",
            "1        8\n",
            "Name: BIND_VPN_SERVICE, dtype: int64 \n",
            "\n",
            "0    13878\n",
            "1     1158\n",
            "Name: DISABLE_KEYGUARD, dtype: int64 \n",
            "\n",
            "0    14836\n",
            "1      200\n",
            "Name: ACCESS_MOCK_LOCATION, dtype: int64 \n",
            "\n",
            "0    14770\n",
            "1      266\n",
            "Name: GET_PACKAGE_SIZE, dtype: int64 \n",
            "\n",
            "0    14738\n",
            "1      298\n",
            "Name: MODIFY_PHONE_STATE, dtype: int64 \n",
            "\n",
            "0    14893\n",
            "1      143\n",
            "Name: CHANGE_COMPONENT_ENABLED_STATE, dtype: int64 \n",
            "\n",
            "0    14821\n",
            "1      215\n",
            "Name: CLEAR_APP_CACHE, dtype: int64 \n",
            "\n",
            "0    14930\n",
            "1      106\n",
            "Name: SET_ORIENTATION, dtype: int64 \n",
            "\n",
            "0    11528\n",
            "1     3508\n",
            "Name: READ_CONTACTS, dtype: int64 \n",
            "\n",
            "0    14774\n",
            "1      262\n",
            "Name: DEVICE_POWER, dtype: int64 \n",
            "\n",
            "0    14972\n",
            "1       64\n",
            "Name: HARDWARE_TEST, dtype: int64 \n",
            "\n",
            "0    8504\n",
            "1    6532\n",
            "Name: ACCESS_WIFI_STATE, dtype: int64 \n",
            "\n",
            "1    10016\n",
            "0     5020\n",
            "Name: WRITE_EXTERNAL_STORAGE, dtype: int64 \n",
            "\n",
            "0    10663\n",
            "1     4373\n",
            "Name: ACCESS_FINE_LOCATION, dtype: int64 \n",
            "\n",
            "0    14795\n",
            "1      241\n",
            "Name: SET_WALLPAPER_HINTS, dtype: int64 \n",
            "\n",
            "0    14930\n",
            "1      106\n",
            "Name: SET_PREFERRED_APPLICATIONS, dtype: int64 \n",
            "\n",
            "0    14360\n",
            "1      676\n",
            "Name: WRITE_SECURE_SETTINGS, dtype: int64 \n",
            "\n",
            "B    9476\n",
            "S    5560\n",
            "Name: class, dtype: int64 \n",
            "\n"
          ],
          "name": "stdout"
        }
      ]
    },
    {
      "cell_type": "markdown",
      "metadata": {
        "id": "SXJLc8xnoqLJ"
      },
      "source": [
        "É observável que o dataset é composto de atributos binários, onde o atributo target contém informação classificatória - portanto, uma variável qualitativa nominal. "
      ]
    },
    {
      "cell_type": "markdown",
      "metadata": {
        "id": "-w6z4UXOYNzl"
      },
      "source": [
        "##Tratamento de Dados"
      ]
    },
    {
      "cell_type": "markdown",
      "metadata": {
        "id": "Eyiwk1xBYS-9"
      },
      "source": [
        "Foi constatado que existem 3 situações a serem corrigidas:"
      ]
    },
    {
      "cell_type": "markdown",
      "metadata": {
        "id": "N_cs6LunYZ4k"
      },
      "source": [
        "1) Eliminação das linhas duplicadas encontradas:"
      ]
    },
    {
      "cell_type": "code",
      "metadata": {
        "id": "dYYzMEmhZmR1"
      },
      "source": [
        "#Backup de segurança\n",
        "df = df_original.copy()"
      ],
      "execution_count": null,
      "outputs": []
    },
    {
      "cell_type": "code",
      "metadata": {
        "colab": {
          "base_uri": "https://localhost:8080/"
        },
        "id": "iU7OP89baaLT",
        "outputId": "6b3ea63f-3ae1-4cd0-8638-4f2eab92dd01"
      },
      "source": [
        "to_drop = duplicados.index.values\n",
        "to_drop = to_drop.tolist()\n",
        "print(\"Quantidade de linhas para dropar:\", len(to_drop))"
      ],
      "execution_count": null,
      "outputs": [
        {
          "output_type": "stream",
          "text": [
            "Quantidade de linhas para dropar: 6865\n"
          ],
          "name": "stdout"
        }
      ]
    },
    {
      "cell_type": "code",
      "metadata": {
        "colab": {
          "base_uri": "https://localhost:8080/"
        },
        "id": "0LcLCdEPcRgS",
        "outputId": "d2c7ed9c-9e31-4659-82f3-1d9e8d00eb37"
      },
      "source": [
        "#Dimensões antes do drop\n",
        "print(\"Dimensões antes do drop:\")\n",
        "df.shape"
      ],
      "execution_count": null,
      "outputs": [
        {
          "output_type": "stream",
          "text": [
            "Dimensões antes do drop:\n"
          ],
          "name": "stdout"
        },
        {
          "output_type": "execute_result",
          "data": {
            "text/plain": [
              "(15036, 216)"
            ]
          },
          "metadata": {
            "tags": []
          },
          "execution_count": 126
        }
      ]
    },
    {
      "cell_type": "code",
      "metadata": {
        "colab": {
          "base_uri": "https://localhost:8080/"
        },
        "id": "2CK0HL2bcQKF",
        "outputId": "33a68a13-8df0-4e5a-fa55-f6487222ffae"
      },
      "source": [
        "df = df.drop(df.index[to_drop]).reset_index(drop=True)\n",
        "\n",
        "#Dimensões após o drop\n",
        "print(\"Dimensões após o drop:\")\n",
        "df.shape"
      ],
      "execution_count": null,
      "outputs": [
        {
          "output_type": "stream",
          "text": [
            "Dimensões após o drop:\n"
          ],
          "name": "stdout"
        },
        {
          "output_type": "execute_result",
          "data": {
            "text/plain": [
              "(8171, 216)"
            ]
          },
          "metadata": {
            "tags": []
          },
          "execution_count": 127
        }
      ]
    },
    {
      "cell_type": "markdown",
      "metadata": {
        "id": "AiLmtrC3ZmjX"
      },
      "source": [
        "2) Tratamento da coluna `TelephonyManager.getSimCountryIso`, que contém dados de tipos diferentes e não transformáveis em numéricos.\n",
        "\n",
        "Primeiramente foi observado que as linhas com dado não numérico (`?`) ainda constam no dataframe:"
      ]
    },
    {
      "cell_type": "code",
      "metadata": {
        "colab": {
          "base_uri": "https://localhost:8080/"
        },
        "id": "dN0p9uZudIKM",
        "outputId": "02874dc9-cb60-4e1e-9c6e-4d45f929709e"
      },
      "source": [
        "print(\"Valores únicos da coluna TelephonyManager.getSimCountryIso:\")\n",
        "df['TelephonyManager.getSimCountryIso'].unique()"
      ],
      "execution_count": null,
      "outputs": [
        {
          "output_type": "stream",
          "text": [
            "Valores únicos da coluna TelephonyManager.getSimCountryIso:\n"
          ],
          "name": "stdout"
        },
        {
          "output_type": "execute_result",
          "data": {
            "text/plain": [
              "array(['0', '1', '?', 1, 0], dtype=object)"
            ]
          },
          "metadata": {
            "tags": []
          },
          "execution_count": 128
        }
      ]
    },
    {
      "cell_type": "code",
      "metadata": {
        "colab": {
          "base_uri": "https://localhost:8080/"
        },
        "id": "I3omasJ7dIKO",
        "outputId": "1c4d25b6-05db-4256-808d-714f13d34a96"
      },
      "source": [
        "#Verificação de quais linhas possuem o caracter \"?\"\n",
        "aux = df[df['TelephonyManager.getSimCountryIso'] == '?'].copy()\n",
        "aux['TelephonyManager.getSimCountryIso']"
      ],
      "execution_count": null,
      "outputs": [
        {
          "output_type": "execute_result",
          "data": {
            "text/plain": [
              "136    ?\n",
              "892    ?\n",
              "Name: TelephonyManager.getSimCountryIso, dtype: object"
            ]
          },
          "metadata": {
            "tags": []
          },
          "execution_count": 129
        }
      ]
    },
    {
      "cell_type": "code",
      "metadata": {
        "colab": {
          "base_uri": "https://localhost:8080/"
        },
        "id": "sKJAr1dTdIKP",
        "outputId": "6b8c9976-6403-4ebf-8e9f-388ece5c983b"
      },
      "source": [
        "#Verificação de qual/quais classe/s os registros pertencem:\n",
        "aux['class']"
      ],
      "execution_count": null,
      "outputs": [
        {
          "output_type": "execute_result",
          "data": {
            "text/plain": [
              "136    S\n",
              "892    S\n",
              "Name: class, dtype: object"
            ]
          },
          "metadata": {
            "tags": []
          },
          "execution_count": 130
        }
      ]
    },
    {
      "cell_type": "markdown",
      "metadata": {
        "id": "guMT_LjGfE9E"
      },
      "source": [
        "Em seguida, as linhas com caracter \"?\", da coluna em questão, foram desconsideradas ao gerar a nova cópia do dataframe:"
      ]
    },
    {
      "cell_type": "code",
      "metadata": {
        "id": "wvILhBAadHyF"
      },
      "source": [
        "df = df[df['TelephonyManager.getSimCountryIso']!='?'].copy()"
      ],
      "execution_count": null,
      "outputs": []
    },
    {
      "cell_type": "code",
      "metadata": {
        "colab": {
          "base_uri": "https://localhost:8080/"
        },
        "id": "QVqxPY5efh6C",
        "outputId": "c371c8cd-a868-4249-f4bd-245544dabaca"
      },
      "source": [
        "#Checando os valores únicos da coluna\n",
        "print(df['TelephonyManager.getSimCountryIso'].unique())"
      ],
      "execution_count": null,
      "outputs": [
        {
          "output_type": "stream",
          "text": [
            "['0' '1' 1 0]\n"
          ],
          "name": "stdout"
        }
      ]
    },
    {
      "cell_type": "markdown",
      "metadata": {
        "id": "SLQnbZIyfdwR"
      },
      "source": [
        "Agora que o todos os valores da coluna `TelephonyManager.getSimCountryIso` são numéricos ou são transformáveis em números (`int64` ou `float64`)."
      ]
    },
    {
      "cell_type": "code",
      "metadata": {
        "id": "iqzzeGneA54o",
        "colab": {
          "base_uri": "https://localhost:8080/"
        },
        "outputId": "6e2beee4-000a-4cdf-f49a-e1e22e6a666d"
      },
      "source": [
        "#Casting para transformar os chars '0' e '1' em números:\n",
        "df['TelephonyManager.getSimCountryIso'] = df['TelephonyManager.getSimCountryIso'].astype('int')\n",
        "\n",
        "print(\"Novos valores únicos:\")\n",
        "print(df['TelephonyManager.getSimCountryIso'].unique())"
      ],
      "execution_count": null,
      "outputs": [
        {
          "output_type": "stream",
          "text": [
            "Novos valores únicos:\n",
            "[0 1]\n"
          ],
          "name": "stdout"
        }
      ]
    },
    {
      "cell_type": "markdown",
      "metadata": {
        "id": "qjA5UmdyZ_2A"
      },
      "source": [
        "3) Binarização das classes do atributo target:"
      ]
    },
    {
      "cell_type": "code",
      "metadata": {
        "colab": {
          "base_uri": "https://localhost:8080/",
          "height": 255
        },
        "id": "G3usgsXXaHJ1",
        "outputId": "792d7b4b-7d5a-4051-a075-d0d23c7f19ba"
      },
      "source": [
        "#Binarização do atributo target\n",
        "df[target] = df[target].map({'B':0, 'S':1})\n",
        "df.head()"
      ],
      "execution_count": null,
      "outputs": [
        {
          "output_type": "execute_result",
          "data": {
            "text/html": [
              "<div>\n",
              "<style scoped>\n",
              "    .dataframe tbody tr th:only-of-type {\n",
              "        vertical-align: middle;\n",
              "    }\n",
              "\n",
              "    .dataframe tbody tr th {\n",
              "        vertical-align: top;\n",
              "    }\n",
              "\n",
              "    .dataframe thead th {\n",
              "        text-align: right;\n",
              "    }\n",
              "</style>\n",
              "<table border=\"1\" class=\"dataframe\">\n",
              "  <thead>\n",
              "    <tr style=\"text-align: right;\">\n",
              "      <th></th>\n",
              "      <th>transact</th>\n",
              "      <th>onServiceConnected</th>\n",
              "      <th>bindService</th>\n",
              "      <th>attachInterface</th>\n",
              "      <th>ServiceConnection</th>\n",
              "      <th>android.os.Binder</th>\n",
              "      <th>SEND_SMS</th>\n",
              "      <th>Ljava.lang.Class.getCanonicalName</th>\n",
              "      <th>Ljava.lang.Class.getMethods</th>\n",
              "      <th>Ljava.lang.Class.cast</th>\n",
              "      <th>Ljava.net.URLDecoder</th>\n",
              "      <th>android.content.pm.Signature</th>\n",
              "      <th>android.telephony.SmsManager</th>\n",
              "      <th>READ_PHONE_STATE</th>\n",
              "      <th>getBinder</th>\n",
              "      <th>ClassLoader</th>\n",
              "      <th>Landroid.content.Context.registerReceiver</th>\n",
              "      <th>Ljava.lang.Class.getField</th>\n",
              "      <th>Landroid.content.Context.unregisterReceiver</th>\n",
              "      <th>GET_ACCOUNTS</th>\n",
              "      <th>RECEIVE_SMS</th>\n",
              "      <th>Ljava.lang.Class.getDeclaredField</th>\n",
              "      <th>READ_SMS</th>\n",
              "      <th>getCallingUid</th>\n",
              "      <th>Ljavax.crypto.spec.SecretKeySpec</th>\n",
              "      <th>android.intent.action.BOOT_COMPLETED</th>\n",
              "      <th>USE_CREDENTIALS</th>\n",
              "      <th>MANAGE_ACCOUNTS</th>\n",
              "      <th>android.content.pm.PackageInfo</th>\n",
              "      <th>KeySpec</th>\n",
              "      <th>TelephonyManager.getLine1Number</th>\n",
              "      <th>DexClassLoader</th>\n",
              "      <th>HttpGet.init</th>\n",
              "      <th>SecretKey</th>\n",
              "      <th>Ljava.lang.Class.getMethod</th>\n",
              "      <th>System.loadLibrary</th>\n",
              "      <th>android.intent.action.SEND</th>\n",
              "      <th>Ljavax.crypto.Cipher</th>\n",
              "      <th>WRITE_SMS</th>\n",
              "      <th>READ_SYNC_SETTINGS</th>\n",
              "      <th>...</th>\n",
              "      <th>BIND_TEXT_SERVICE</th>\n",
              "      <th>INSTALL_LOCATION_PROVIDER</th>\n",
              "      <th>android.intent.action.CALL_BUTTON</th>\n",
              "      <th>android.intent.action.SCREEN_OFF</th>\n",
              "      <th>findClass</th>\n",
              "      <th>SYSTEM_ALERT_WINDOW</th>\n",
              "      <th>MOUNT_FORMAT_FILESYSTEMS</th>\n",
              "      <th>CHANGE_CONFIGURATION</th>\n",
              "      <th>CLEAR_APP_USER_DATA</th>\n",
              "      <th>intent.action.RUN</th>\n",
              "      <th>android.intent.action.SET_WALLPAPER</th>\n",
              "      <th>CHANGE_WIFI_STATE</th>\n",
              "      <th>READ_FRAME_BUFFER</th>\n",
              "      <th>ACCESS_SURFACE_FLINGER</th>\n",
              "      <th>Runtime.loadLibrary</th>\n",
              "      <th>BROADCAST_SMS</th>\n",
              "      <th>EXPAND_STATUS_BAR</th>\n",
              "      <th>INTERNAL_SYSTEM_WINDOW</th>\n",
              "      <th>android.intent.action.BATTERY_LOW</th>\n",
              "      <th>SET_ACTIVITY_WATCHER</th>\n",
              "      <th>WRITE_CONTACTS</th>\n",
              "      <th>android.intent.action.ACTION_POWER_CONNECTED</th>\n",
              "      <th>BIND_VPN_SERVICE</th>\n",
              "      <th>DISABLE_KEYGUARD</th>\n",
              "      <th>ACCESS_MOCK_LOCATION</th>\n",
              "      <th>GET_PACKAGE_SIZE</th>\n",
              "      <th>MODIFY_PHONE_STATE</th>\n",
              "      <th>CHANGE_COMPONENT_ENABLED_STATE</th>\n",
              "      <th>CLEAR_APP_CACHE</th>\n",
              "      <th>SET_ORIENTATION</th>\n",
              "      <th>READ_CONTACTS</th>\n",
              "      <th>DEVICE_POWER</th>\n",
              "      <th>HARDWARE_TEST</th>\n",
              "      <th>ACCESS_WIFI_STATE</th>\n",
              "      <th>WRITE_EXTERNAL_STORAGE</th>\n",
              "      <th>ACCESS_FINE_LOCATION</th>\n",
              "      <th>SET_WALLPAPER_HINTS</th>\n",
              "      <th>SET_PREFERRED_APPLICATIONS</th>\n",
              "      <th>WRITE_SECURE_SETTINGS</th>\n",
              "      <th>class</th>\n",
              "    </tr>\n",
              "  </thead>\n",
              "  <tbody>\n",
              "    <tr>\n",
              "      <th>0</th>\n",
              "      <td>0</td>\n",
              "      <td>0</td>\n",
              "      <td>0</td>\n",
              "      <td>0</td>\n",
              "      <td>0</td>\n",
              "      <td>0</td>\n",
              "      <td>1</td>\n",
              "      <td>0</td>\n",
              "      <td>0</td>\n",
              "      <td>0</td>\n",
              "      <td>0</td>\n",
              "      <td>0</td>\n",
              "      <td>1</td>\n",
              "      <td>1</td>\n",
              "      <td>0</td>\n",
              "      <td>0</td>\n",
              "      <td>1</td>\n",
              "      <td>0</td>\n",
              "      <td>1</td>\n",
              "      <td>0</td>\n",
              "      <td>0</td>\n",
              "      <td>0</td>\n",
              "      <td>0</td>\n",
              "      <td>0</td>\n",
              "      <td>0</td>\n",
              "      <td>1</td>\n",
              "      <td>0</td>\n",
              "      <td>0</td>\n",
              "      <td>0</td>\n",
              "      <td>0</td>\n",
              "      <td>0</td>\n",
              "      <td>0</td>\n",
              "      <td>0</td>\n",
              "      <td>0</td>\n",
              "      <td>0</td>\n",
              "      <td>0</td>\n",
              "      <td>0</td>\n",
              "      <td>0</td>\n",
              "      <td>0</td>\n",
              "      <td>0</td>\n",
              "      <td>...</td>\n",
              "      <td>0</td>\n",
              "      <td>0</td>\n",
              "      <td>0</td>\n",
              "      <td>0</td>\n",
              "      <td>0</td>\n",
              "      <td>0</td>\n",
              "      <td>0</td>\n",
              "      <td>0</td>\n",
              "      <td>0</td>\n",
              "      <td>0</td>\n",
              "      <td>0</td>\n",
              "      <td>0</td>\n",
              "      <td>0</td>\n",
              "      <td>0</td>\n",
              "      <td>0</td>\n",
              "      <td>0</td>\n",
              "      <td>0</td>\n",
              "      <td>0</td>\n",
              "      <td>0</td>\n",
              "      <td>0</td>\n",
              "      <td>0</td>\n",
              "      <td>0</td>\n",
              "      <td>0</td>\n",
              "      <td>0</td>\n",
              "      <td>0</td>\n",
              "      <td>0</td>\n",
              "      <td>0</td>\n",
              "      <td>0</td>\n",
              "      <td>0</td>\n",
              "      <td>0</td>\n",
              "      <td>0</td>\n",
              "      <td>0</td>\n",
              "      <td>0</td>\n",
              "      <td>0</td>\n",
              "      <td>1</td>\n",
              "      <td>0</td>\n",
              "      <td>0</td>\n",
              "      <td>0</td>\n",
              "      <td>0</td>\n",
              "      <td>1</td>\n",
              "    </tr>\n",
              "    <tr>\n",
              "      <th>1</th>\n",
              "      <td>0</td>\n",
              "      <td>0</td>\n",
              "      <td>0</td>\n",
              "      <td>0</td>\n",
              "      <td>0</td>\n",
              "      <td>0</td>\n",
              "      <td>1</td>\n",
              "      <td>0</td>\n",
              "      <td>0</td>\n",
              "      <td>0</td>\n",
              "      <td>0</td>\n",
              "      <td>0</td>\n",
              "      <td>1</td>\n",
              "      <td>1</td>\n",
              "      <td>0</td>\n",
              "      <td>0</td>\n",
              "      <td>1</td>\n",
              "      <td>0</td>\n",
              "      <td>1</td>\n",
              "      <td>0</td>\n",
              "      <td>1</td>\n",
              "      <td>0</td>\n",
              "      <td>1</td>\n",
              "      <td>0</td>\n",
              "      <td>0</td>\n",
              "      <td>1</td>\n",
              "      <td>0</td>\n",
              "      <td>0</td>\n",
              "      <td>0</td>\n",
              "      <td>0</td>\n",
              "      <td>0</td>\n",
              "      <td>0</td>\n",
              "      <td>0</td>\n",
              "      <td>0</td>\n",
              "      <td>0</td>\n",
              "      <td>0</td>\n",
              "      <td>0</td>\n",
              "      <td>0</td>\n",
              "      <td>0</td>\n",
              "      <td>0</td>\n",
              "      <td>...</td>\n",
              "      <td>0</td>\n",
              "      <td>0</td>\n",
              "      <td>0</td>\n",
              "      <td>0</td>\n",
              "      <td>0</td>\n",
              "      <td>0</td>\n",
              "      <td>0</td>\n",
              "      <td>0</td>\n",
              "      <td>0</td>\n",
              "      <td>0</td>\n",
              "      <td>0</td>\n",
              "      <td>0</td>\n",
              "      <td>0</td>\n",
              "      <td>0</td>\n",
              "      <td>0</td>\n",
              "      <td>0</td>\n",
              "      <td>0</td>\n",
              "      <td>0</td>\n",
              "      <td>0</td>\n",
              "      <td>0</td>\n",
              "      <td>0</td>\n",
              "      <td>0</td>\n",
              "      <td>0</td>\n",
              "      <td>0</td>\n",
              "      <td>0</td>\n",
              "      <td>0</td>\n",
              "      <td>0</td>\n",
              "      <td>0</td>\n",
              "      <td>0</td>\n",
              "      <td>0</td>\n",
              "      <td>0</td>\n",
              "      <td>0</td>\n",
              "      <td>0</td>\n",
              "      <td>0</td>\n",
              "      <td>1</td>\n",
              "      <td>0</td>\n",
              "      <td>0</td>\n",
              "      <td>0</td>\n",
              "      <td>0</td>\n",
              "      <td>1</td>\n",
              "    </tr>\n",
              "    <tr>\n",
              "      <th>2</th>\n",
              "      <td>0</td>\n",
              "      <td>0</td>\n",
              "      <td>0</td>\n",
              "      <td>0</td>\n",
              "      <td>0</td>\n",
              "      <td>0</td>\n",
              "      <td>1</td>\n",
              "      <td>0</td>\n",
              "      <td>0</td>\n",
              "      <td>0</td>\n",
              "      <td>0</td>\n",
              "      <td>0</td>\n",
              "      <td>1</td>\n",
              "      <td>1</td>\n",
              "      <td>0</td>\n",
              "      <td>0</td>\n",
              "      <td>0</td>\n",
              "      <td>1</td>\n",
              "      <td>0</td>\n",
              "      <td>0</td>\n",
              "      <td>0</td>\n",
              "      <td>0</td>\n",
              "      <td>0</td>\n",
              "      <td>0</td>\n",
              "      <td>0</td>\n",
              "      <td>0</td>\n",
              "      <td>0</td>\n",
              "      <td>0</td>\n",
              "      <td>0</td>\n",
              "      <td>0</td>\n",
              "      <td>0</td>\n",
              "      <td>0</td>\n",
              "      <td>0</td>\n",
              "      <td>0</td>\n",
              "      <td>1</td>\n",
              "      <td>0</td>\n",
              "      <td>0</td>\n",
              "      <td>0</td>\n",
              "      <td>0</td>\n",
              "      <td>0</td>\n",
              "      <td>...</td>\n",
              "      <td>0</td>\n",
              "      <td>0</td>\n",
              "      <td>0</td>\n",
              "      <td>0</td>\n",
              "      <td>0</td>\n",
              "      <td>0</td>\n",
              "      <td>0</td>\n",
              "      <td>0</td>\n",
              "      <td>0</td>\n",
              "      <td>0</td>\n",
              "      <td>0</td>\n",
              "      <td>0</td>\n",
              "      <td>0</td>\n",
              "      <td>0</td>\n",
              "      <td>0</td>\n",
              "      <td>0</td>\n",
              "      <td>0</td>\n",
              "      <td>0</td>\n",
              "      <td>0</td>\n",
              "      <td>0</td>\n",
              "      <td>0</td>\n",
              "      <td>0</td>\n",
              "      <td>0</td>\n",
              "      <td>0</td>\n",
              "      <td>0</td>\n",
              "      <td>0</td>\n",
              "      <td>0</td>\n",
              "      <td>0</td>\n",
              "      <td>0</td>\n",
              "      <td>0</td>\n",
              "      <td>0</td>\n",
              "      <td>0</td>\n",
              "      <td>0</td>\n",
              "      <td>0</td>\n",
              "      <td>0</td>\n",
              "      <td>0</td>\n",
              "      <td>0</td>\n",
              "      <td>0</td>\n",
              "      <td>0</td>\n",
              "      <td>1</td>\n",
              "    </tr>\n",
              "    <tr>\n",
              "      <th>3</th>\n",
              "      <td>0</td>\n",
              "      <td>0</td>\n",
              "      <td>0</td>\n",
              "      <td>0</td>\n",
              "      <td>0</td>\n",
              "      <td>0</td>\n",
              "      <td>0</td>\n",
              "      <td>0</td>\n",
              "      <td>0</td>\n",
              "      <td>1</td>\n",
              "      <td>1</td>\n",
              "      <td>0</td>\n",
              "      <td>0</td>\n",
              "      <td>1</td>\n",
              "      <td>0</td>\n",
              "      <td>0</td>\n",
              "      <td>1</td>\n",
              "      <td>0</td>\n",
              "      <td>0</td>\n",
              "      <td>0</td>\n",
              "      <td>0</td>\n",
              "      <td>1</td>\n",
              "      <td>1</td>\n",
              "      <td>0</td>\n",
              "      <td>1</td>\n",
              "      <td>1</td>\n",
              "      <td>0</td>\n",
              "      <td>0</td>\n",
              "      <td>1</td>\n",
              "      <td>1</td>\n",
              "      <td>1</td>\n",
              "      <td>0</td>\n",
              "      <td>1</td>\n",
              "      <td>1</td>\n",
              "      <td>0</td>\n",
              "      <td>1</td>\n",
              "      <td>0</td>\n",
              "      <td>1</td>\n",
              "      <td>1</td>\n",
              "      <td>0</td>\n",
              "      <td>...</td>\n",
              "      <td>0</td>\n",
              "      <td>0</td>\n",
              "      <td>0</td>\n",
              "      <td>0</td>\n",
              "      <td>0</td>\n",
              "      <td>0</td>\n",
              "      <td>0</td>\n",
              "      <td>1</td>\n",
              "      <td>0</td>\n",
              "      <td>0</td>\n",
              "      <td>0</td>\n",
              "      <td>1</td>\n",
              "      <td>0</td>\n",
              "      <td>0</td>\n",
              "      <td>0</td>\n",
              "      <td>0</td>\n",
              "      <td>0</td>\n",
              "      <td>0</td>\n",
              "      <td>0</td>\n",
              "      <td>0</td>\n",
              "      <td>0</td>\n",
              "      <td>0</td>\n",
              "      <td>0</td>\n",
              "      <td>0</td>\n",
              "      <td>0</td>\n",
              "      <td>0</td>\n",
              "      <td>0</td>\n",
              "      <td>0</td>\n",
              "      <td>0</td>\n",
              "      <td>0</td>\n",
              "      <td>0</td>\n",
              "      <td>0</td>\n",
              "      <td>0</td>\n",
              "      <td>1</td>\n",
              "      <td>1</td>\n",
              "      <td>1</td>\n",
              "      <td>0</td>\n",
              "      <td>0</td>\n",
              "      <td>0</td>\n",
              "      <td>1</td>\n",
              "    </tr>\n",
              "    <tr>\n",
              "      <th>4</th>\n",
              "      <td>0</td>\n",
              "      <td>0</td>\n",
              "      <td>0</td>\n",
              "      <td>0</td>\n",
              "      <td>0</td>\n",
              "      <td>0</td>\n",
              "      <td>0</td>\n",
              "      <td>0</td>\n",
              "      <td>0</td>\n",
              "      <td>0</td>\n",
              "      <td>1</td>\n",
              "      <td>0</td>\n",
              "      <td>0</td>\n",
              "      <td>1</td>\n",
              "      <td>0</td>\n",
              "      <td>1</td>\n",
              "      <td>0</td>\n",
              "      <td>0</td>\n",
              "      <td>0</td>\n",
              "      <td>0</td>\n",
              "      <td>0</td>\n",
              "      <td>1</td>\n",
              "      <td>0</td>\n",
              "      <td>0</td>\n",
              "      <td>0</td>\n",
              "      <td>1</td>\n",
              "      <td>0</td>\n",
              "      <td>0</td>\n",
              "      <td>0</td>\n",
              "      <td>0</td>\n",
              "      <td>0</td>\n",
              "      <td>0</td>\n",
              "      <td>1</td>\n",
              "      <td>0</td>\n",
              "      <td>1</td>\n",
              "      <td>0</td>\n",
              "      <td>0</td>\n",
              "      <td>0</td>\n",
              "      <td>0</td>\n",
              "      <td>0</td>\n",
              "      <td>...</td>\n",
              "      <td>0</td>\n",
              "      <td>0</td>\n",
              "      <td>0</td>\n",
              "      <td>0</td>\n",
              "      <td>1</td>\n",
              "      <td>0</td>\n",
              "      <td>0</td>\n",
              "      <td>0</td>\n",
              "      <td>0</td>\n",
              "      <td>0</td>\n",
              "      <td>0</td>\n",
              "      <td>0</td>\n",
              "      <td>0</td>\n",
              "      <td>0</td>\n",
              "      <td>0</td>\n",
              "      <td>0</td>\n",
              "      <td>0</td>\n",
              "      <td>0</td>\n",
              "      <td>0</td>\n",
              "      <td>0</td>\n",
              "      <td>0</td>\n",
              "      <td>0</td>\n",
              "      <td>0</td>\n",
              "      <td>0</td>\n",
              "      <td>0</td>\n",
              "      <td>0</td>\n",
              "      <td>0</td>\n",
              "      <td>0</td>\n",
              "      <td>0</td>\n",
              "      <td>0</td>\n",
              "      <td>0</td>\n",
              "      <td>0</td>\n",
              "      <td>0</td>\n",
              "      <td>1</td>\n",
              "      <td>0</td>\n",
              "      <td>1</td>\n",
              "      <td>0</td>\n",
              "      <td>0</td>\n",
              "      <td>0</td>\n",
              "      <td>1</td>\n",
              "    </tr>\n",
              "  </tbody>\n",
              "</table>\n",
              "<p>5 rows × 216 columns</p>\n",
              "</div>"
            ],
            "text/plain": [
              "   transact  onServiceConnected  ...  WRITE_SECURE_SETTINGS  class\n",
              "0         0                   0  ...                      0      1\n",
              "1         0                   0  ...                      0      1\n",
              "2         0                   0  ...                      0      1\n",
              "3         0                   0  ...                      0      1\n",
              "4         0                   0  ...                      0      1\n",
              "\n",
              "[5 rows x 216 columns]"
            ]
          },
          "metadata": {
            "tags": []
          },
          "execution_count": 134
        }
      ]
    },
    {
      "cell_type": "code",
      "metadata": {
        "colab": {
          "base_uri": "https://localhost:8080/"
        },
        "id": "m51izvuQM7Qc",
        "outputId": "528f0c67-0279-4765-e121-3687e86ff562"
      },
      "source": [
        "print(\"Valores atuais do atributo target:\",df[target].unique())"
      ],
      "execution_count": null,
      "outputs": [
        {
          "output_type": "stream",
          "text": [
            "Valores atuais do atributo target: [1 0]\n"
          ],
          "name": "stdout"
        }
      ]
    },
    {
      "cell_type": "markdown",
      "metadata": {
        "id": "K95HdViqkqhh"
      },
      "source": [
        "##Análise das Features"
      ]
    },
    {
      "cell_type": "markdown",
      "metadata": {
        "id": "YkADThhC2sow"
      },
      "source": [
        "Nesta seção, é realizada uma análise da independência entre as features e verificação de possível correlação."
      ]
    },
    {
      "cell_type": "markdown",
      "metadata": {
        "id": "AYqnGGRG2_gG"
      },
      "source": [
        "https://towardsdatascience.com/chi-square-test-for-independence-in-python-with-examples-from-the-ibm-hr-analytics-dataset-97b9ec9bb80a"
      ]
    },
    {
      "cell_type": "markdown",
      "metadata": {
        "id": "zejS4LwzA3Gf"
      },
      "source": [
        "###Seleção de Features Mais Relevantes"
      ]
    },
    {
      "cell_type": "markdown",
      "metadata": {
        "id": "CO_exejVioTW"
      },
      "source": [
        "Para selecionar as features mais relevantes, foi utilizado o método de Eliminação Recursiva (`sklearn.feature_selection.RFE`) com Regressão Logística como estimador. Uma quantia de 20 features foi requisitada. "
      ]
    },
    {
      "cell_type": "code",
      "metadata": {
        "id": "uADNVLEe3kZW"
      },
      "source": [
        "#\n",
        "X_rfe = df[attrs].values\n",
        "y_rfe = df[target].values"
      ],
      "execution_count": null,
      "outputs": []
    },
    {
      "cell_type": "code",
      "metadata": {
        "id": "w2EuFbGOESVb"
      },
      "source": [
        "rfe_selector = RFE(estimator=LogisticRegression(max_iter=900),\n",
        "                   n_features_to_select = 20, \n",
        "                   step = 1)\n",
        "\n",
        "X_lda = df.drop('class', axis = 1)\n",
        "y_lda = df['class']\n",
        "\n",
        "rfe_selector.fit(X_rfe, y_rfe)\n",
        "#X_lda.columns[rfe_selector.get_support()]\n",
        "colunas_selecionadas = X_lda.columns[rfe_selector.get_support()]\n",
        "colunas_selecionadas = (colunas_selecionadas.values).tolist()"
      ],
      "execution_count": null,
      "outputs": []
    },
    {
      "cell_type": "code",
      "metadata": {
        "colab": {
          "base_uri": "https://localhost:8080/"
        },
        "id": "ZdXFAyS0NXxP",
        "outputId": "3f01d79a-7002-4dd1-f6ae-420abe453317"
      },
      "source": [
        "print(\"Estimador: LogisticRegressio(max_iter = {})\".format(rfe_selector.estimator_.max_iter))\n",
        "#print(\"max_iter =\",rfe_selector.estimator_.max_iter)\n",
        "print(\"n_features_to_select = 20\")\n",
        "print(\"step = 1\")\n",
        "#print('Amostras classificadas INCORRETAMENTE: {}'.format(count_misclassified))"
      ],
      "execution_count": null,
      "outputs": [
        {
          "output_type": "stream",
          "text": [
            "Estimador: LogisticRegressio(max_iter = 900)\n",
            "n_features_to_select = 20\n",
            "step = 1\n"
          ],
          "name": "stdout"
        }
      ]
    },
    {
      "cell_type": "code",
      "metadata": {
        "colab": {
          "base_uri": "https://localhost:8080/"
        },
        "id": "GT2kWMZMGXaX",
        "outputId": "85fee35a-753b-4c44-d8c5-683d378c2d2e"
      },
      "source": [
        "colunas_selecionadas"
      ],
      "execution_count": null,
      "outputs": [
        {
          "output_type": "execute_result",
          "data": {
            "text/plain": [
              "['transact',\n",
              " 'SEND_SMS',\n",
              " 'Ljava.lang.Class.getCanonicalName',\n",
              " 'READ_SMS',\n",
              " 'MANAGE_ACCOUNTS',\n",
              " 'android.intent.action.SEND',\n",
              " 'android.telephony.gsm.SmsManager',\n",
              " 'WRITE_HISTORY_BOOKMARKS',\n",
              " 'android.intent.action.PACKAGE_REPLACED',\n",
              " 'createSubprocess',\n",
              " 'NFC',\n",
              " 'BIND_REMOTEVIEWS',\n",
              " 'android.intent.action.TIME_SET',\n",
              " 'TelephonyManager.getDeviceId',\n",
              " 'BROADCAST_STICKY',\n",
              " 'chmod',\n",
              " 'Runtime.load',\n",
              " 'READ_CALL_LOG',\n",
              " 'sendMultipartTextMessage',\n",
              " 'WRITE_CONTACTS']"
            ]
          },
          "metadata": {
            "tags": []
          },
          "execution_count": 137
        }
      ]
    },
    {
      "cell_type": "markdown",
      "metadata": {
        "id": "eW0F4mjGlTdY"
      },
      "source": [
        "###Redução do Dataset"
      ]
    },
    {
      "cell_type": "code",
      "metadata": {
        "id": "6Qcl8-k6JGAk",
        "colab": {
          "base_uri": "https://localhost:8080/",
          "height": 226
        },
        "outputId": "a639e953-2c37-4a81-cd1e-7534a857a173"
      },
      "source": [
        "#Backup de segurança\n",
        "df_bkp = df.copy()\n",
        "\n",
        "#Adicionando o nome do atributo target a lista de atributos\n",
        "#attrs_em_comum.append(target)\n",
        "colunas_selecionadas.append(target)\n",
        "\n",
        "#Redefinindo o dataset\n",
        "#df = df[attrs_em_comum].copy()\n",
        "df = df[colunas_selecionadas].copy()\n",
        "df.head()"
      ],
      "execution_count": null,
      "outputs": [
        {
          "output_type": "execute_result",
          "data": {
            "text/html": [
              "<div>\n",
              "<style scoped>\n",
              "    .dataframe tbody tr th:only-of-type {\n",
              "        vertical-align: middle;\n",
              "    }\n",
              "\n",
              "    .dataframe tbody tr th {\n",
              "        vertical-align: top;\n",
              "    }\n",
              "\n",
              "    .dataframe thead th {\n",
              "        text-align: right;\n",
              "    }\n",
              "</style>\n",
              "<table border=\"1\" class=\"dataframe\">\n",
              "  <thead>\n",
              "    <tr style=\"text-align: right;\">\n",
              "      <th></th>\n",
              "      <th>transact</th>\n",
              "      <th>SEND_SMS</th>\n",
              "      <th>Ljava.lang.Class.getCanonicalName</th>\n",
              "      <th>READ_SMS</th>\n",
              "      <th>MANAGE_ACCOUNTS</th>\n",
              "      <th>android.intent.action.SEND</th>\n",
              "      <th>android.telephony.gsm.SmsManager</th>\n",
              "      <th>WRITE_HISTORY_BOOKMARKS</th>\n",
              "      <th>android.intent.action.PACKAGE_REPLACED</th>\n",
              "      <th>createSubprocess</th>\n",
              "      <th>NFC</th>\n",
              "      <th>BIND_REMOTEVIEWS</th>\n",
              "      <th>android.intent.action.TIME_SET</th>\n",
              "      <th>TelephonyManager.getDeviceId</th>\n",
              "      <th>BROADCAST_STICKY</th>\n",
              "      <th>chmod</th>\n",
              "      <th>Runtime.load</th>\n",
              "      <th>READ_CALL_LOG</th>\n",
              "      <th>sendMultipartTextMessage</th>\n",
              "      <th>WRITE_CONTACTS</th>\n",
              "      <th>class</th>\n",
              "    </tr>\n",
              "  </thead>\n",
              "  <tbody>\n",
              "    <tr>\n",
              "      <th>0</th>\n",
              "      <td>0</td>\n",
              "      <td>1</td>\n",
              "      <td>0</td>\n",
              "      <td>0</td>\n",
              "      <td>0</td>\n",
              "      <td>0</td>\n",
              "      <td>0</td>\n",
              "      <td>0</td>\n",
              "      <td>0</td>\n",
              "      <td>0</td>\n",
              "      <td>0</td>\n",
              "      <td>0</td>\n",
              "      <td>0</td>\n",
              "      <td>0</td>\n",
              "      <td>0</td>\n",
              "      <td>0</td>\n",
              "      <td>0</td>\n",
              "      <td>0</td>\n",
              "      <td>0</td>\n",
              "      <td>0</td>\n",
              "      <td>1</td>\n",
              "    </tr>\n",
              "    <tr>\n",
              "      <th>1</th>\n",
              "      <td>0</td>\n",
              "      <td>1</td>\n",
              "      <td>0</td>\n",
              "      <td>1</td>\n",
              "      <td>0</td>\n",
              "      <td>0</td>\n",
              "      <td>0</td>\n",
              "      <td>0</td>\n",
              "      <td>0</td>\n",
              "      <td>0</td>\n",
              "      <td>0</td>\n",
              "      <td>0</td>\n",
              "      <td>0</td>\n",
              "      <td>0</td>\n",
              "      <td>0</td>\n",
              "      <td>0</td>\n",
              "      <td>0</td>\n",
              "      <td>0</td>\n",
              "      <td>0</td>\n",
              "      <td>0</td>\n",
              "      <td>1</td>\n",
              "    </tr>\n",
              "    <tr>\n",
              "      <th>2</th>\n",
              "      <td>0</td>\n",
              "      <td>1</td>\n",
              "      <td>0</td>\n",
              "      <td>0</td>\n",
              "      <td>0</td>\n",
              "      <td>0</td>\n",
              "      <td>0</td>\n",
              "      <td>0</td>\n",
              "      <td>0</td>\n",
              "      <td>0</td>\n",
              "      <td>0</td>\n",
              "      <td>0</td>\n",
              "      <td>0</td>\n",
              "      <td>0</td>\n",
              "      <td>0</td>\n",
              "      <td>0</td>\n",
              "      <td>0</td>\n",
              "      <td>0</td>\n",
              "      <td>0</td>\n",
              "      <td>0</td>\n",
              "      <td>1</td>\n",
              "    </tr>\n",
              "    <tr>\n",
              "      <th>3</th>\n",
              "      <td>0</td>\n",
              "      <td>0</td>\n",
              "      <td>0</td>\n",
              "      <td>1</td>\n",
              "      <td>0</td>\n",
              "      <td>0</td>\n",
              "      <td>0</td>\n",
              "      <td>0</td>\n",
              "      <td>0</td>\n",
              "      <td>0</td>\n",
              "      <td>0</td>\n",
              "      <td>0</td>\n",
              "      <td>0</td>\n",
              "      <td>1</td>\n",
              "      <td>0</td>\n",
              "      <td>1</td>\n",
              "      <td>0</td>\n",
              "      <td>0</td>\n",
              "      <td>0</td>\n",
              "      <td>0</td>\n",
              "      <td>1</td>\n",
              "    </tr>\n",
              "    <tr>\n",
              "      <th>4</th>\n",
              "      <td>0</td>\n",
              "      <td>0</td>\n",
              "      <td>0</td>\n",
              "      <td>0</td>\n",
              "      <td>0</td>\n",
              "      <td>0</td>\n",
              "      <td>0</td>\n",
              "      <td>1</td>\n",
              "      <td>0</td>\n",
              "      <td>0</td>\n",
              "      <td>0</td>\n",
              "      <td>0</td>\n",
              "      <td>0</td>\n",
              "      <td>1</td>\n",
              "      <td>0</td>\n",
              "      <td>0</td>\n",
              "      <td>0</td>\n",
              "      <td>0</td>\n",
              "      <td>0</td>\n",
              "      <td>0</td>\n",
              "      <td>1</td>\n",
              "    </tr>\n",
              "  </tbody>\n",
              "</table>\n",
              "</div>"
            ],
            "text/plain": [
              "   transact  SEND_SMS  ...  WRITE_CONTACTS  class\n",
              "0         0         1  ...               0      1\n",
              "1         0         1  ...               0      1\n",
              "2         0         1  ...               0      1\n",
              "3         0         0  ...               0      1\n",
              "4         0         0  ...               0      1\n",
              "\n",
              "[5 rows x 21 columns]"
            ]
          },
          "metadata": {
            "tags": []
          },
          "execution_count": 138
        }
      ]
    },
    {
      "cell_type": "code",
      "metadata": {
        "colab": {
          "base_uri": "https://localhost:8080/"
        },
        "id": "Nay9s20Ww40n",
        "outputId": "6f25b690-6255-4645-ccf6-3a1538ce9385"
      },
      "source": [
        "#Novas dimensões do dataframe:\n",
        "print(\"Dimensões do dataframe reduzido:\")\n",
        "df.shape"
      ],
      "execution_count": null,
      "outputs": [
        {
          "output_type": "stream",
          "text": [
            "Dimensões do dataframe reduzido:\n"
          ],
          "name": "stdout"
        },
        {
          "output_type": "execute_result",
          "data": {
            "text/plain": [
              "(8169, 21)"
            ]
          },
          "metadata": {
            "tags": []
          },
          "execution_count": 222
        }
      ]
    },
    {
      "cell_type": "code",
      "metadata": {
        "id": "yWOY9vKmJlqH"
      },
      "source": [
        "#Criando novas variáveis contendo nomes de colunas:\n",
        "\n",
        "colunas2 = df.columns.to_list()\n",
        "attrs_2 = colunas2[0:len(colunas2)-1] #demais atributos"
      ],
      "execution_count": null,
      "outputs": []
    },
    {
      "cell_type": "code",
      "metadata": {
        "id": "EVl829ROKdu3"
      },
      "source": [
        "def count_plot(_df, _columns):\n",
        "  _labels = _df[target].map({0:'Ben', 1:'Mal'})\n",
        "  plt.figure(figsize = (20, 15))\n",
        "  plt.title('Cont. dos Valores de Cada Classe')\n",
        "\n",
        "  for indx, var in enumerate(_columns):\n",
        "    plt.subplot(5, 4, (indx + 1))\n",
        "    sns.countplot(x = var, hue = _labels, data = _df)\n",
        "  plt.tight_layout()"
      ],
      "execution_count": null,
      "outputs": []
    },
    {
      "cell_type": "code",
      "metadata": {
        "colab": {
          "base_uri": "https://localhost:8080/",
          "height": 1000
        },
        "id": "Rqnda_FmKfe4",
        "outputId": "5ee12ea9-8f3a-4451-dee5-ae4a692c3c4a"
      },
      "source": [
        "count_plot(df, attrs_2)"
      ],
      "execution_count": null,
      "outputs": [
        {
          "output_type": "display_data",
          "data": {
            "image/png": "[encoded data removed]",
            "text/plain": [
              "<Figure size 1440x1080 with 20 Axes>"
            ]
          },
          "metadata": {
            "tags": [],
            "needs_background": "light"
          }
        }
      ]
    },
    {
      "cell_type": "markdown",
      "metadata": {
        "id": "EIKhM-DRzp1Q"
      },
      "source": [
        "##Criando as Variáveis de Treino e Teste"
      ]
    },
    {
      "cell_type": "code",
      "metadata": {
        "colab": {
          "base_uri": "https://localhost:8080/"
        },
        "id": "j6wch8ErxG3S",
        "outputId": "6a3fef01-9e13-4b91-ca60-0bf729702286"
      },
      "source": [
        "#Checando a quantia de registros para cada classe do atributo target\n",
        "# e definindo arrays contendo os seus valores\n",
        "\n",
        "target_series = df[target].map({0:'Benigno', 1:'Malware'})\n",
        "value_counts_target = target_series.value_counts()\n",
        "\n",
        "labels_graph = list(value_counts_target.index.values)\n",
        "values_graph = [value_counts_target[0], value_counts_target[1]]\n",
        "\n",
        "print(\"Diferença entre classes:\", (value_counts_target[0] - value_counts_target[1]))"
      ],
      "execution_count": null,
      "outputs": [
        {
          "output_type": "stream",
          "text": [
            "Diferença entre classes: 4731\n"
          ],
          "name": "stdout"
        }
      ]
    },
    {
      "cell_type": "code",
      "metadata": {
        "colab": {
          "base_uri": "https://localhost:8080/",
          "height": 295
        },
        "id": "_akz95PWrTVX",
        "outputId": "271715df-176c-4f26-c48e-1d35cacdea38"
      },
      "source": [
        "plt.bar(labels_graph, values_graph, width=0.5)\n",
        "plt.title('Classes Target Vs Qntd.')\n",
        "plt.xlabel('Classes Target')\n",
        "plt.ylabel('Qntd.')\n",
        "plt.show()"
      ],
      "execution_count": null,
      "outputs": [
        {
          "output_type": "display_data",
          "data": {
            "image/png": "[encoded data removed]",
            "text/plain": [
              "<Figure size 432x288 with 1 Axes>"
            ]
          },
          "metadata": {
            "tags": [],
            "needs_background": "light"
          }
        }
      ]
    },
    {
      "cell_type": "markdown",
      "metadata": {
        "id": "kYVM9dVN98KD"
      },
      "source": [
        "Ao realizar a contagem de registros pertencentes a cada classe do atributo target, foi observado que existe uma diferença de 4.731 (6450 - 1719) registros.\n",
        "\n",
        "Com o propósito de equilibrar a quantidade de registros de cada classe, foi adotada a estratégia de Random UnderSample, que reduzirá aleatoriamente a classe que contém mais registros. "
      ]
    },
    {
      "cell_type": "code",
      "metadata": {
        "id": "QqEtbZDF0E_7"
      },
      "source": [
        "X = df[attrs_2].values\n",
        "y = df[target].values"
      ],
      "execution_count": null,
      "outputs": []
    },
    {
      "cell_type": "code",
      "metadata": {
        "colab": {
          "base_uri": "https://localhost:8080/"
        },
        "id": "P9NFccg82cTe",
        "outputId": "fe7eb123-8d27-40a4-a12b-fb6969cd27bb"
      },
      "source": [
        "#Definindo estratégia de Under Sample\n",
        "undersampler = RandomUnderSampler(sampling_strategy='majority')\n",
        "X_samp, y_samp = undersampler.fit_resample(X, y)\n",
        "\n",
        "#Split de treino e teste\n",
        "X_train, X_test, y_train, y_test = train_test_split(X_samp, \n",
        "                                                    y_samp, \n",
        "                                                    test_size=0.3, \n",
        "                                                    random_state=143)"
      ],
      "execution_count": null,
      "outputs": [
        {
          "output_type": "stream",
          "text": [
            "/usr/local/lib/python3.7/dist-packages/sklearn/utils/deprecation.py:87: FutureWarning: Function safe_indexing is deprecated; safe_indexing is deprecated in version 0.22 and will be removed in version 0.24.\n",
            "  warnings.warn(msg, category=FutureWarning)\n"
          ],
          "name": "stderr"
        }
      ]
    },
    {
      "cell_type": "code",
      "metadata": {
        "colab": {
          "base_uri": "https://localhost:8080/",
          "height": 315
        },
        "id": "AmFcxQmwkcUb",
        "outputId": "afc3c961-bcfa-4e74-e561-10e0c68f5a2c"
      },
      "source": [
        "(unique_samp_train, counts_samp_train) = np.unique(y_train, return_counts=True)\n",
        "(unique_samp_test, counts_samp_test) = np.unique(y_test, return_counts=True)\n",
        "\n",
        "unique_samp_train = ['Benigno' if item == 0 else 'Malware' for item in unique_samp_train]\n",
        "unique_samp_test = ['Benigno' if item == 0 else 'Malware' for item in unique_samp_test]\n",
        "\n",
        "plt.figure(figsize=(15,4))\n",
        "plt.subplot(1, 2, 1)\n",
        "plt.bar(unique_samp_train, counts_samp_train.tolist(), width=0.3)\n",
        "plt.title('Distribuição na Amostra de Treino')\n",
        "plt.xlabel('Classe Target')\n",
        "plt.ylabel('Qntd.')\n",
        "\n",
        "plt.subplot(1, 2, 2)\n",
        "plt.title('Distribuição na Amostra de Teste')\n",
        "plt.bar(unique_samp_test, counts_samp_test.tolist(), width=0.3)\n",
        "plt.xlabel('Classe Target')\n",
        "plt.ylabel('Qntd.')\n",
        "\n",
        "plt.show()"
      ],
      "execution_count": null,
      "outputs": [
        {
          "output_type": "display_data",
          "data": {
            "image/png": "[encoded data removed]",
            "text/plain": [
              "<Figure size 1080x288 with 2 Axes>"
            ]
          },
          "metadata": {
            "tags": [],
            "needs_background": "light"
          }
        }
      ]
    },
    {
      "cell_type": "markdown",
      "metadata": {
        "id": "mYuMGiR1z50u"
      },
      "source": [
        "##Aplicando Modelos de ML"
      ]
    },
    {
      "cell_type": "markdown",
      "metadata": {
        "id": "dtZHrFMjKC5o"
      },
      "source": [
        "###Categorical Naive Bayes"
      ]
    },
    {
      "cell_type": "markdown",
      "metadata": {
        "id": "VgbeYyuERJfj"
      },
      "source": [
        "Justificativa da escolha do modelo: este modelo é adequado para classificação com atributos discretos categoricamente distribuídos."
      ]
    },
    {
      "cell_type": "code",
      "metadata": {
        "id": "ij0cwGLZ1fbQ"
      },
      "source": [
        "#Treinamento do modelo\n",
        "model_cnb = CategoricalNB().fit(X_train, y_train)"
      ],
      "execution_count": null,
      "outputs": []
    },
    {
      "cell_type": "code",
      "metadata": {
        "colab": {
          "base_uri": "https://localhost:8080/"
        },
        "id": "XO2RnVHOTMe6",
        "outputId": "78522d50-e435-476a-d4c6-af2ccb475cdc"
      },
      "source": [
        "#Validação Cruzada do Modelo\n",
        "\n",
        "cv = KFold(n_splits = 3, \n",
        "           shuffle = True, \n",
        "           random_state=0)\n",
        "\n",
        "n_scores = cross_val_score(model_cnb, \n",
        "                           X_train, \n",
        "                           y_train, \n",
        "                           scoring = 'roc_auc', \n",
        "                           cv = cv)\n",
        "\n",
        "print('Validação Cruzada - Categorical Naive Bayes:\\n')\n",
        "print(f'AUC Scores: {n_scores}')\n",
        "print(f'AUC (média): {round(np.mean(n_scores), 2)}')\n",
        "print(f'AUC (desvio padrão): {round(np.std(n_scores), 4)}')"
      ],
      "execution_count": null,
      "outputs": [
        {
          "output_type": "stream",
          "text": [
            "Validação Cruzada - Categorical Naive Bayes:\n",
            "\n",
            "AUC Scores: [0.96325457 0.95763007 0.96635308]\n",
            "AUC (média): 0.96\n",
            "AUC (desvio padrão): 0.0036\n"
          ],
          "name": "stdout"
        }
      ]
    },
    {
      "cell_type": "code",
      "metadata": {
        "colab": {
          "base_uri": "https://localhost:8080/"
        },
        "id": "WBYoeUFQWHcY",
        "outputId": "8f95ab70-1497-4818-83d9-05d1584f6b9f"
      },
      "source": [
        "print(\"Score do Modelo CNB:\")\n",
        "round(model_cnb.score(X, y), 2) "
      ],
      "execution_count": null,
      "outputs": [
        {
          "output_type": "stream",
          "text": [
            "Score do Modelo CNB:\n"
          ],
          "name": "stdout"
        },
        {
          "output_type": "execute_result",
          "data": {
            "text/plain": [
              "0.83"
            ]
          },
          "metadata": {
            "tags": []
          },
          "execution_count": 150
        }
      ]
    },
    {
      "cell_type": "code",
      "metadata": {
        "colab": {
          "base_uri": "https://localhost:8080/"
        },
        "id": "1T4yJ3PsWkMf",
        "outputId": "0ea3e7c1-b066-4716-995c-01ecf1f25d0f"
      },
      "source": [
        "print(f'AUC (Treino): {round(roc_auc_score(y_train, model_cnb.predict(X_train)), 2)}')\n",
        "print(f'AUC (Teste): {round(roc_auc_score(y_test, model_cnb.predict(X_test)), 2)}')"
      ],
      "execution_count": null,
      "outputs": [
        {
          "output_type": "stream",
          "text": [
            "AUC (Treino): 0.87\n",
            "AUC (Teste): 0.88\n"
          ],
          "name": "stdout"
        }
      ]
    },
    {
      "cell_type": "code",
      "metadata": {
        "colab": {
          "base_uri": "https://localhost:8080/"
        },
        "id": "f0lcIjrH1o2o",
        "outputId": "2240232b-6744-4880-c0b5-3bce988229f9"
      },
      "source": [
        "y_pred_cnb = model_cnb.predict(X_test)\n",
        "y_prob_pred_cnb = model_cnb.predict_proba(X_test)\n",
        "\n",
        "count_misclassified = (y_test != y_pred_cnb).sum()\n",
        "\n",
        "print(\"Total de amostras de teste:\", len(y_test))\n",
        "print('Amostras classificadas INCORRETAMENTE: {}'.format(count_misclassified))"
      ],
      "execution_count": null,
      "outputs": [
        {
          "output_type": "stream",
          "text": [
            "Total de amostras de teste: 1032\n",
            "Amostras classificadas INCORRETAMENTE: 131\n"
          ],
          "name": "stdout"
        }
      ]
    },
    {
      "cell_type": "code",
      "metadata": {
        "colab": {
          "base_uri": "https://localhost:8080/",
          "height": 487
        },
        "id": "ye73-lCI1tXO",
        "outputId": "43286128-8d78-4805-999b-49ad2aeae456"
      },
      "source": [
        "print(\"--- Classification Report - Categorical Naive Bayes:\")\n",
        "print(classification_report(y_test, y_pred_cnb, target_names=['Benigno', 'Malware']))\n",
        "\n",
        "print(\"--- Matriz de Confusão - Categorical Naive Bayes:\")\n",
        "plot_confusion_matrix(model_cnb, X_test, y_test, normalize='true', display_labels=['Benigno', 'Malware'])"
      ],
      "execution_count": null,
      "outputs": [
        {
          "output_type": "stream",
          "text": [
            "--- Classification Report - Categorical Naive Bayes:\n",
            "              precision    recall  f1-score   support\n",
            "\n",
            "     Benigno       0.95      0.80      0.87       539\n",
            "     Malware       0.81      0.96      0.88       493\n",
            "\n",
            "    accuracy                           0.87      1032\n",
            "   macro avg       0.88      0.88      0.87      1032\n",
            "weighted avg       0.88      0.87      0.87      1032\n",
            "\n",
            "--- Matriz de Confusão - Categorical Naive Bayes:\n"
          ],
          "name": "stdout"
        },
        {
          "output_type": "execute_result",
          "data": {
            "text/plain": [
              "<sklearn.metrics._plot.confusion_matrix.ConfusionMatrixDisplay at 0x7f0b9a434650>"
            ]
          },
          "metadata": {
            "tags": []
          },
          "execution_count": 155
        },
        {
          "output_type": "display_data",
          "data": {
            "image/png": "[encoded data removed]",
            "text/plain": [
              "<Figure size 432x288 with 2 Axes>"
            ]
          },
          "metadata": {
            "tags": [],
            "needs_background": "light"
          }
        }
      ]
    },
    {
      "cell_type": "markdown",
      "metadata": {
        "id": "mlSxzPVYKeUm"
      },
      "source": [
        "###Bernoulli Naive Baiyes"
      ]
    },
    {
      "cell_type": "markdown",
      "metadata": {
        "id": "JMOzGPr2RE9Q"
      },
      "source": [
        "Justificativa da escolha do modelo: o Bernoulli Naive Bayes foi projetado para lidar com atributos binários/booleanos."
      ]
    },
    {
      "cell_type": "code",
      "metadata": {
        "id": "Wonvtn9wQh3K"
      },
      "source": [
        "#Treinamento do modelo\n",
        "model_bnb = BernoulliNB().fit(X_train, y_train)"
      ],
      "execution_count": null,
      "outputs": []
    },
    {
      "cell_type": "code",
      "metadata": {
        "colab": {
          "base_uri": "https://localhost:8080/"
        },
        "id": "HuQow7EKUN0O",
        "outputId": "c5a00497-67c0-47d7-b8ac-5eb94d45024a"
      },
      "source": [
        "#Validação Cruzada do Modelo\n",
        "\n",
        "cv = KFold(n_splits = 3, \n",
        "           shuffle = True, \n",
        "           random_state=0)\n",
        "\n",
        "n_scores = cross_val_score(model_bnb, \n",
        "                           X_train, \n",
        "                           y_train, \n",
        "                           scoring = 'roc_auc', \n",
        "                           cv = cv)\n",
        "\n",
        "print('Validação Cruzada - Bernoulli Naive Bayes:\\n')\n",
        "print(f'AUC Scores: {n_scores}')\n",
        "print(f'AUC (média): {round(np.mean(n_scores), 2)}')\n",
        "print(f'AUC (desvio padrão): {round(np.std(n_scores), 4)}')"
      ],
      "execution_count": null,
      "outputs": [
        {
          "output_type": "stream",
          "text": [
            "Validação Cruzada - Bernoulli Naive Bayes:\n",
            "\n",
            "AUC Scores: [0.96325457 0.95763007 0.96635308]\n",
            "AUC (média): 0.96\n",
            "AUC (desvio padrão): 0.0036\n"
          ],
          "name": "stdout"
        }
      ]
    },
    {
      "cell_type": "code",
      "metadata": {
        "colab": {
          "base_uri": "https://localhost:8080/"
        },
        "id": "zXZaH9x1O4xe",
        "outputId": "d48e25fc-c110-4aca-ade7-da10f87215b4"
      },
      "source": [
        "print(f'AUC (Treino): {round(roc_auc_score(y_train, model_bnb.predict(X_train)), 2)}')\n",
        "print(f'AUC (Teste): {round(roc_auc_score(y_test, model_bnb.predict(X_test)), 2)}')"
      ],
      "execution_count": null,
      "outputs": [
        {
          "output_type": "stream",
          "text": [
            "AUC (Treino): 0.87\n",
            "AUC (Teste): 0.88\n"
          ],
          "name": "stdout"
        }
      ]
    },
    {
      "cell_type": "code",
      "metadata": {
        "colab": {
          "base_uri": "https://localhost:8080/"
        },
        "id": "N-yMnrKbXC5e",
        "outputId": "ca1dfa9a-9887-481e-e5b2-e8275c24ac18"
      },
      "source": [
        "print(\"Score do Modelo BNB:\")\n",
        "round(model_bnb.score(X, y), 2) "
      ],
      "execution_count": null,
      "outputs": [
        {
          "output_type": "stream",
          "text": [
            "Score do Modelo BNB:\n"
          ],
          "name": "stdout"
        },
        {
          "output_type": "execute_result",
          "data": {
            "text/plain": [
              "0.83"
            ]
          },
          "metadata": {
            "tags": []
          },
          "execution_count": 159
        }
      ]
    },
    {
      "cell_type": "code",
      "metadata": {
        "colab": {
          "base_uri": "https://localhost:8080/"
        },
        "id": "4ZL-MBvWQh3u",
        "outputId": "a2d9f2ea-8f23-4933-c5af-ee017da13f98"
      },
      "source": [
        "y_pred_bnb = model_bnb.predict(X_test)\n",
        "y_prob_pred_bnb = model_bnb.predict_proba(X_test)\n",
        "\n",
        "count_misclassified = (y_test != y_pred_bnb).sum()\n",
        "\n",
        "print(\"Total de amostras de teste:\", len(y_test))\n",
        "print('Amostras classificadas INCORRETAMENTE: {}'.format(count_misclassified))"
      ],
      "execution_count": null,
      "outputs": [
        {
          "output_type": "stream",
          "text": [
            "Total de amostras de teste: 1032\n",
            "Amostras classificadas INCORRETAMENTE: 131\n"
          ],
          "name": "stdout"
        }
      ]
    },
    {
      "cell_type": "code",
      "metadata": {
        "colab": {
          "base_uri": "https://localhost:8080/",
          "height": 487
        },
        "id": "AL8DbLeJQh3v",
        "outputId": "a9ad1056-43e5-4878-c256-f94262fab2c6"
      },
      "source": [
        "print(\"--- Classification Report - Bernoulli Naive Bayes:\")\n",
        "print(classification_report(y_test, y_pred_bnb, target_names=['Benigno', 'Malware']))\n",
        "\n",
        "print(\"--- Matriz de Confusão - Bernoulli Naive Bayes:\")\n",
        "plot_confusion_matrix(model_bnb, X_test, y_test, normalize='true', display_labels=['Benigno', 'Malware'])"
      ],
      "execution_count": null,
      "outputs": [
        {
          "output_type": "stream",
          "text": [
            "--- Classification Report - Bernoulli Naive Bayes:\n",
            "              precision    recall  f1-score   support\n",
            "\n",
            "     Benigno       0.95      0.80      0.87       539\n",
            "     Malware       0.81      0.96      0.88       493\n",
            "\n",
            "    accuracy                           0.87      1032\n",
            "   macro avg       0.88      0.88      0.87      1032\n",
            "weighted avg       0.88      0.87      0.87      1032\n",
            "\n",
            "--- Matriz de Confusão - Bernoulli Naive Bayes:\n"
          ],
          "name": "stdout"
        },
        {
          "output_type": "execute_result",
          "data": {
            "text/plain": [
              "<sklearn.metrics._plot.confusion_matrix.ConfusionMatrixDisplay at 0x7f0b99a63b90>"
            ]
          },
          "metadata": {
            "tags": []
          },
          "execution_count": 161
        },
        {
          "output_type": "display_data",
          "data": {
            "image/png": "[encoded data removed]",
            "text/plain": [
              "<Figure size 432x288 with 2 Axes>"
            ]
          },
          "metadata": {
            "tags": [],
            "needs_background": "light"
          }
        }
      ]
    },
    {
      "cell_type": "markdown",
      "metadata": {
        "id": "M5PGrpVtKiHk"
      },
      "source": [
        "###PCA com SVC"
      ]
    },
    {
      "cell_type": "markdown",
      "metadata": {
        "id": "Jwf3mhCt1y1N"
      },
      "source": [
        "Justificativa do uso do modelo:"
      ]
    },
    {
      "cell_type": "code",
      "metadata": {
        "id": "0G2Pm48bKikf"
      },
      "source": [
        "#Todos os componentes serão mantidos, visto que o dataframe fora reduzido anteriormente.\n",
        "pca = PCA(random_state=42) \n",
        "\n",
        "svm1 = SVC(kernel='linear', probability=True)\n",
        "\n",
        "model_pca = make_pipeline(pca, svm1).fit(X_train, y_train)"
      ],
      "execution_count": null,
      "outputs": []
    },
    {
      "cell_type": "code",
      "metadata": {
        "colab": {
          "base_uri": "https://localhost:8080/"
        },
        "id": "OfvPdVW4zFrY",
        "outputId": "cf1fc342-d3bf-4c7f-86cb-4cc224cbe17c"
      },
      "source": [
        "#Validação Cruzada do Modelo\n",
        "\n",
        "cv = KFold(n_splits = 3, \n",
        "           shuffle = True, \n",
        "           random_state=0)\n",
        "\n",
        "n_scores = cross_val_score(model_pca, \n",
        "                           X_train, \n",
        "                           y_train, \n",
        "                           scoring = 'roc_auc', \n",
        "                           cv = cv)\n",
        "\n",
        "print('Validação Cruzada - PCA:\\n')\n",
        "print(f'AUC Scores: {n_scores}')\n",
        "print(f'AUC (média): {round(np.mean(n_scores), 2)}')\n",
        "print(f'AUC (desvio padrão): {round(np.std(n_scores), 4)}')"
      ],
      "execution_count": null,
      "outputs": [
        {
          "output_type": "stream",
          "text": [
            "Validação Cruzada - PCA:\n",
            "\n",
            "AUC Scores: [0.96503534 0.96224795 0.96721966]\n",
            "AUC (média): 0.96\n",
            "AUC (desvio padrão): 0.002\n"
          ],
          "name": "stdout"
        }
      ]
    },
    {
      "cell_type": "code",
      "metadata": {
        "colab": {
          "base_uri": "https://localhost:8080/"
        },
        "id": "OluQfk9KzFra",
        "outputId": "6d2f8a46-8c66-4d05-b24b-70d8e4f59804"
      },
      "source": [
        "print(\"Score do Modelo PCA:\")\n",
        "round(model_pca.score(X, y), 2) "
      ],
      "execution_count": null,
      "outputs": [
        {
          "output_type": "stream",
          "text": [
            "Score do Modelo PCA:\n"
          ],
          "name": "stdout"
        },
        {
          "output_type": "execute_result",
          "data": {
            "text/plain": [
              "0.93"
            ]
          },
          "metadata": {
            "tags": []
          },
          "execution_count": 172
        }
      ]
    },
    {
      "cell_type": "code",
      "metadata": {
        "colab": {
          "base_uri": "https://localhost:8080/"
        },
        "id": "FLWbJ4hFvuGm",
        "outputId": "1ecbb702-c971-48a8-92f5-28e7b356ec8f"
      },
      "source": [
        "print(f'AUC (Treino): {round(roc_auc_score(y_train, model_pca.predict(X_train)), 2)}')\n",
        "print(f'AUC (Teste): {round(roc_auc_score(y_test, model_pca.predict(X_test)), 2)}')"
      ],
      "execution_count": null,
      "outputs": [
        {
          "output_type": "stream",
          "text": [
            "AUC (Treino): 0.91\n",
            "AUC (Teste): 0.93\n"
          ],
          "name": "stdout"
        }
      ]
    },
    {
      "cell_type": "code",
      "metadata": {
        "colab": {
          "base_uri": "https://localhost:8080/"
        },
        "id": "DgDIkCJFzFra",
        "outputId": "48203aca-c09d-4b3d-dc38-c2f3c0a19ba6"
      },
      "source": [
        "y_pred_pca = model_pca.predict(X_test)\n",
        "y_prob_pred_pca = model_pca.predict_proba(X_test)\n",
        "\n",
        "count_misclassified = (y_test != y_pred_pca).sum()\n",
        "\n",
        "print(\"Total de amostras de teste:\", len(y_test))\n",
        "print('Amostras classificadas INCORRETAMENTE: {}'.format(count_misclassified))"
      ],
      "execution_count": null,
      "outputs": [
        {
          "output_type": "stream",
          "text": [
            "Total de amostras de teste: 1032\n",
            "Amostras classificadas INCORRETAMENTE: 70\n"
          ],
          "name": "stdout"
        }
      ]
    },
    {
      "cell_type": "code",
      "metadata": {
        "colab": {
          "base_uri": "https://localhost:8080/",
          "height": 487
        },
        "id": "yaxoWSyfzFra",
        "outputId": "4bdd152a-1fb0-48af-adb8-4f57839d13b5"
      },
      "source": [
        "print(\"--- Classification Report - PCA:\")\n",
        "print(classification_report(y_test, y_pred_pca, target_names=['Benigno', 'Malware']))\n",
        "\n",
        "print(\"--- Matriz de Confusão - PCA:\")\n",
        "plot_confusion_matrix(model_pca, X_test, y_test, normalize='true', display_labels=['Benigno', 'Malware'])"
      ],
      "execution_count": null,
      "outputs": [
        {
          "output_type": "stream",
          "text": [
            "--- Classification Report - PCA:\n",
            "              precision    recall  f1-score   support\n",
            "\n",
            "     Benigno       0.92      0.95      0.94       539\n",
            "     Malware       0.94      0.91      0.93       493\n",
            "\n",
            "    accuracy                           0.93      1032\n",
            "   macro avg       0.93      0.93      0.93      1032\n",
            "weighted avg       0.93      0.93      0.93      1032\n",
            "\n",
            "--- Matriz de Confusão - PCA:\n"
          ],
          "name": "stdout"
        },
        {
          "output_type": "execute_result",
          "data": {
            "text/plain": [
              "<sklearn.metrics._plot.confusion_matrix.ConfusionMatrixDisplay at 0x7f0b9993d290>"
            ]
          },
          "metadata": {
            "tags": []
          },
          "execution_count": 177
        },
        {
          "output_type": "display_data",
          "data": {
            "image/png": "[encoded data removed]",
            "text/plain": [
              "<Figure size 432x288 with 2 Axes>"
            ]
          },
          "metadata": {
            "tags": [],
            "needs_background": "light"
          }
        }
      ]
    },
    {
      "cell_type": "markdown",
      "metadata": {
        "id": "ejYowc2hwNiB"
      },
      "source": [
        "###LDA"
      ]
    },
    {
      "cell_type": "markdown",
      "metadata": {
        "id": "UTmyTd_V2lyW"
      },
      "source": [
        "Justificativa do uso do modelo: fim comparativo com o rendimento do PCA. "
      ]
    },
    {
      "cell_type": "code",
      "metadata": {
        "id": "BF8CMy4nwOaP"
      },
      "source": [
        "lda = LinearDiscriminantAnalysis(n_components=1)\n",
        "\n",
        "svm2 = SVC(kernel='linear', probability=True)\n",
        "\n",
        "model_lda = make_pipeline(lda, svm2).fit(X_train, y_train)"
      ],
      "execution_count": null,
      "outputs": []
    },
    {
      "cell_type": "code",
      "metadata": {
        "colab": {
          "base_uri": "https://localhost:8080/"
        },
        "id": "A9BZQAoo1Y9u",
        "outputId": "dffe59ea-ca1e-4097-eaed-e88619d9472c"
      },
      "source": [
        "#Validação Cruzada do Modelo\n",
        "\n",
        "cv = KFold(n_splits = 3, \n",
        "           shuffle = True, \n",
        "           random_state=0)\n",
        "\n",
        "n_scores = cross_val_score(model_lda, \n",
        "                           X_train, \n",
        "                           y_train, \n",
        "                           scoring = 'roc_auc', \n",
        "                           cv = cv)\n",
        "\n",
        "print('Validação Cruzada - LDA:\\n')\n",
        "print(f'AUC Scores: {n_scores}')\n",
        "print(f'AUC (média): {round(np.mean(n_scores), 2)}')\n",
        "print(f'AUC (desvio padrão): {round(np.std(n_scores), 4)}')"
      ],
      "execution_count": null,
      "outputs": [
        {
          "output_type": "stream",
          "text": [
            "Validação Cruzada - LDA:\n",
            "\n",
            "AUC Scores: [0.962414   0.95698905 0.96423339]\n",
            "AUC (média): 0.96\n",
            "AUC (desvio padrão): 0.0031\n"
          ],
          "name": "stdout"
        }
      ]
    },
    {
      "cell_type": "code",
      "metadata": {
        "colab": {
          "base_uri": "https://localhost:8080/"
        },
        "id": "co3RICsY1Y9w",
        "outputId": "f90a3d55-6da7-4372-ef03-2854c1bb0f60"
      },
      "source": [
        "print(\"Score do Modelo LDA:\")\n",
        "round(model_lda.score(X, y), 2) "
      ],
      "execution_count": null,
      "outputs": [
        {
          "output_type": "stream",
          "text": [
            "Score do Modelo LDA:\n"
          ],
          "name": "stdout"
        },
        {
          "output_type": "execute_result",
          "data": {
            "text/plain": [
              "0.92"
            ]
          },
          "metadata": {
            "tags": []
          },
          "execution_count": 198
        }
      ]
    },
    {
      "cell_type": "code",
      "metadata": {
        "colab": {
          "base_uri": "https://localhost:8080/"
        },
        "id": "6NpYUAKlxTfG",
        "outputId": "6bece870-c2f7-4931-ac3c-164afa55440e"
      },
      "source": [
        "print(f'AUC (Treino): {round(roc_auc_score(y_train, model_lda.predict(X_train)), 2)}')\n",
        "print(f'AUC (Teste): {round(roc_auc_score(y_test, model_lda.predict(X_test)), 2)}')"
      ],
      "execution_count": null,
      "outputs": [
        {
          "output_type": "stream",
          "text": [
            "AUC (Treino): 0.9\n",
            "AUC (Teste): 0.92\n"
          ],
          "name": "stdout"
        }
      ]
    },
    {
      "cell_type": "code",
      "metadata": {
        "colab": {
          "base_uri": "https://localhost:8080/"
        },
        "id": "ATHizGfQ1Y9y",
        "outputId": "46935e68-1e6e-4e6c-e441-3c6da0a9aa87"
      },
      "source": [
        "y_pred_lda = model_lda.predict(X_test)\n",
        "y_prob_pred_lda = model_lda.predict_proba(X_test)\n",
        "\n",
        "count_misclassified = (y_test != y_pred_lda).sum()\n",
        "\n",
        "print(\"Total de amostras de teste:\", len(y_test))\n",
        "print('Amostras classificadas INCORRETAMENTE: {}'.format(count_misclassified))"
      ],
      "execution_count": null,
      "outputs": [
        {
          "output_type": "stream",
          "text": [
            "Total de amostras de teste: 1032\n",
            "Amostras classificadas INCORRETAMENTE: 82\n"
          ],
          "name": "stdout"
        }
      ]
    },
    {
      "cell_type": "code",
      "metadata": {
        "colab": {
          "base_uri": "https://localhost:8080/",
          "height": 487
        },
        "id": "ri4vEFyU1Y9z",
        "outputId": "fad487e9-04f6-4b29-eb79-715fdd24538f"
      },
      "source": [
        "print(\"--- Classification Report - LDA:\")\n",
        "print(classification_report(y_test, y_pred_lda, target_names=['Benigno', 'Malware']))\n",
        "\n",
        "print(\"--- Matriz de Confusão - LDA:\")\n",
        "plot_confusion_matrix(model_lda, X_test, y_test, normalize='true', display_labels=['Benigno', 'Malware'])"
      ],
      "execution_count": null,
      "outputs": [
        {
          "output_type": "stream",
          "text": [
            "--- Classification Report - LDA:\n",
            "              precision    recall  f1-score   support\n",
            "\n",
            "     Benigno       0.91      0.94      0.92       539\n",
            "     Malware       0.93      0.90      0.92       493\n",
            "\n",
            "    accuracy                           0.92      1032\n",
            "   macro avg       0.92      0.92      0.92      1032\n",
            "weighted avg       0.92      0.92      0.92      1032\n",
            "\n",
            "--- Matriz de Confusão - LDA:\n"
          ],
          "name": "stdout"
        },
        {
          "output_type": "execute_result",
          "data": {
            "text/plain": [
              "<sklearn.metrics._plot.confusion_matrix.ConfusionMatrixDisplay at 0x7f0b9a43e090>"
            ]
          },
          "metadata": {
            "tags": []
          },
          "execution_count": 201
        },
        {
          "output_type": "display_data",
          "data": {
            "image/png": "[encoded data removed]",
            "text/plain": [
              "<Figure size 432x288 with 2 Axes>"
            ]
          },
          "metadata": {
            "tags": [],
            "needs_background": "light"
          }
        }
      ]
    },
    {
      "cell_type": "markdown",
      "metadata": {
        "id": "jTZ7RZoPY2DW"
      },
      "source": [
        "###GridSearchCV com PCA e SVC"
      ]
    },
    {
      "cell_type": "markdown",
      "metadata": {
        "id": "8NKy6BIq3UjK"
      },
      "source": [
        "Justificativa do uso do modelo: a aplicação do GridSearch foi motivada pela preferência nos melhores parâmetros para o SCV."
      ]
    },
    {
      "cell_type": "code",
      "metadata": {
        "id": "_bdS1suSZFTH"
      },
      "source": [
        "pca_grid = PCA(whiten='True', random_state=42)\n",
        "\n",
        "svc_grid = SVC(kernel='linear', probability=True)\n",
        "\n",
        "model_grid = make_pipeline(pca_grid, svc_grid)"
      ],
      "execution_count": null,
      "outputs": []
    },
    {
      "cell_type": "code",
      "metadata": {
        "colab": {
          "base_uri": "https://localhost:8080/"
        },
        "id": "rj_7nJSsZQEh",
        "outputId": "2178adac-3096-4325-a27f-d0d5c6e8e05c"
      },
      "source": [
        "#Tuning final dos parâmetros do GridSearch\n",
        "param_grid = {'svc__C': [0.23, 0.24, 0.25],\n",
        "              #'svc__gamma': [0.0001, 0.0005, 0.001, 0.005]}\n",
        "              'svc__gamma': [0.000000000000001, 0.000000000000001 , 0.0000000000001]}\n",
        "\n",
        "grid = GridSearchCV(model_grid, param_grid, cv=5)\n",
        "\n",
        "%time grid.fit(X_train, y_train)\n",
        "\n",
        "print(grid.best_params_)"
      ],
      "execution_count": null,
      "outputs": [
        {
          "output_type": "stream",
          "text": [
            "CPU times: user 11.8 s, sys: 5.1 s, total: 16.9 s\n",
            "Wall time: 10.9 s\n",
            "{'svc__C': 0.24, 'svc__gamma': 1e-15}\n"
          ],
          "name": "stdout"
        }
      ]
    },
    {
      "cell_type": "code",
      "metadata": {
        "colab": {
          "base_uri": "https://localhost:8080/"
        },
        "id": "PctbgJ0RaEyb",
        "outputId": "80e7b65c-56f9-4331-92cb-288f09d745c9"
      },
      "source": [
        "model_best_grid = grid.best_estimator_\n",
        "print(model_best_grid)"
      ],
      "execution_count": null,
      "outputs": [
        {
          "output_type": "stream",
          "text": [
            "Pipeline(memory=None,\n",
            "         steps=[('pca',\n",
            "                 PCA(copy=True, iterated_power='auto', n_components=None,\n",
            "                     random_state=42, svd_solver='auto', tol=0.0,\n",
            "                     whiten='True')),\n",
            "                ('svc',\n",
            "                 SVC(C=0.24, break_ties=False, cache_size=200,\n",
            "                     class_weight=None, coef0=0.0,\n",
            "                     decision_function_shape='ovr', degree=3, gamma=1e-15,\n",
            "                     kernel='linear', max_iter=-1, probability=True,\n",
            "                     random_state=None, shrinking=True, tol=0.001,\n",
            "                     verbose=False))],\n",
            "         verbose=False)\n"
          ],
          "name": "stdout"
        }
      ]
    },
    {
      "cell_type": "code",
      "metadata": {
        "colab": {
          "base_uri": "https://localhost:8080/"
        },
        "id": "JHzi-cupbyE4",
        "outputId": "572e7b38-a907-4ac3-de11-e77061f3f9d9"
      },
      "source": [
        "print(\"Score do modelo com GridSearchCV:\")\n",
        "round(model_best_grid.score(X, y), 2) "
      ],
      "execution_count": null,
      "outputs": [
        {
          "output_type": "stream",
          "text": [
            "Score do modelo com GridSearchCV:\n"
          ],
          "name": "stdout"
        },
        {
          "output_type": "execute_result",
          "data": {
            "text/plain": [
              "0.93"
            ]
          },
          "metadata": {
            "tags": []
          },
          "execution_count": 223
        }
      ]
    },
    {
      "cell_type": "code",
      "metadata": {
        "colab": {
          "base_uri": "https://localhost:8080/"
        },
        "id": "K5aUwQjG3nGW",
        "outputId": "7d89d266-2f73-4053-c65a-5c6c612157cb"
      },
      "source": [
        "print(f'AUC (Treino): {round(roc_auc_score(y_train, model_best_grid.predict(X_train)), 2)}')\n",
        "print(f'AUC (Teste): {round(roc_auc_score(y_test, model_best_grid.predict(X_test)), 2)}')"
      ],
      "execution_count": null,
      "outputs": [
        {
          "output_type": "stream",
          "text": [
            "AUC (Treino): 0.91\n",
            "AUC (Teste): 0.93\n"
          ],
          "name": "stdout"
        }
      ]
    },
    {
      "cell_type": "code",
      "metadata": {
        "colab": {
          "base_uri": "https://localhost:8080/"
        },
        "id": "yCxQsbSzbyE6",
        "outputId": "84235fbb-b37d-461c-b214-ee7f7dd70d7b"
      },
      "source": [
        "y_pred_grid = model_best_grid.predict(X_test)\n",
        "y_prob_pred_grid = model_best_grid.predict_proba(X_test)\n",
        "\n",
        "count_misclassified = (y_test != y_pred_grid).sum()\n",
        "\n",
        "print(\"Total de amostras de teste:\", len(y_test))\n",
        "print('Amostras classificadas INCORRETAMENTE: {}'.format(count_misclassified))"
      ],
      "execution_count": null,
      "outputs": [
        {
          "output_type": "stream",
          "text": [
            "Total de amostras de teste: 1032\n",
            "Amostras classificadas INCORRETAMENTE: 70\n"
          ],
          "name": "stdout"
        }
      ]
    },
    {
      "cell_type": "code",
      "metadata": {
        "colab": {
          "base_uri": "https://localhost:8080/",
          "height": 487
        },
        "id": "jP4cekZ7byE6",
        "outputId": "33039f9c-047a-451f-fcaa-29981ce43e52"
      },
      "source": [
        "print(\"--- Classification Report - GridSearchCV:\")\n",
        "print(classification_report(y_test, y_pred_grid, target_names=['Benigno', 'Malware']))\n",
        "\n",
        "print(\"--- Matriz de Confusão - GridSearchCV:\")\n",
        "plot_confusion_matrix(model_best_grid, X_test, y_test, normalize='true', display_labels=['Benigno', 'Malware'])"
      ],
      "execution_count": null,
      "outputs": [
        {
          "output_type": "stream",
          "text": [
            "--- Classification Report - GridSearchCV:\n",
            "              precision    recall  f1-score   support\n",
            "\n",
            "     Benigno       0.92      0.95      0.94       539\n",
            "     Malware       0.94      0.91      0.93       493\n",
            "\n",
            "    accuracy                           0.93      1032\n",
            "   macro avg       0.93      0.93      0.93      1032\n",
            "weighted avg       0.93      0.93      0.93      1032\n",
            "\n",
            "--- Matriz de Confusão - GridSearchCV:\n"
          ],
          "name": "stdout"
        },
        {
          "output_type": "execute_result",
          "data": {
            "text/plain": [
              "<sklearn.metrics._plot.confusion_matrix.ConfusionMatrixDisplay at 0x7f0b99666ed0>"
            ]
          },
          "metadata": {
            "tags": []
          },
          "execution_count": 207
        },
        {
          "output_type": "display_data",
          "data": {
            "image/png": "[encoded data removed]",
            "text/plain": [
              "<Figure size 432x288 with 2 Axes>"
            ]
          },
          "metadata": {
            "tags": [],
            "needs_background": "light"
          }
        }
      ]
    },
    {
      "cell_type": "markdown",
      "metadata": {
        "id": "f47-3Eb0z9a-"
      },
      "source": [
        "##Considerações Finais"
      ]
    },
    {
      "cell_type": "markdown",
      "metadata": {
        "id": "u19Y0dIBz_9p"
      },
      "source": [
        "Os modelos de Naive Bayes tiveram exatamente a mesma performance (métricas de avaliação, acertos e erros na matriz de confusão), mostrando que a aplicação de Categorical NB foi redudante. Em comparação aos outros modelos criados, os de Naive Bayes foram os de performance mais baixa. \n",
        "\n",
        "O modelo de PCA, usando SVC como estimador em uma pipeline, errou mais ao classificar os softwares malignos. Sua performance foi sutilmente melhor que o modelo de LDA. Possivelmente porque o LDA faz uso de densidade gaussiana, mais apropriada para atributos com valores reais. Uma outra razão pode estar na quantidade de amostra, já que LDA se saia melhor que PCA quando Random OverSample foi utilizado.\n",
        "\n",
        "Curiosamente, dois modelos tiveram a mesma performance: o PCA e a pipeline de PCA e SVC aplicada ao GridSearch: ambos tiveram os mesmos valores nas métricas de avaliação, na validação cruzada, matriz de confusão e na quantificação de amostras classficadas incorretamente. Isso mostra que aplicar os melhores parâmetros C e gamma, de acordo com o GridSearchCV, não impactou no rendimento do PCA com SVC.\n",
        "\n",
        "Para este trabalho, o uso do Random UnderSample foi preferido por mostrar melhor rendimento na maioria dos modelos empregados. Como trabalho futuro, é considerada a possibilidade de utilizar modelos de ML mais simples, como KNN, para fins de comparação de desempenho. "
      ]
    },
    {
      "cell_type": "markdown",
      "metadata": {
        "id": "c49VYC-90AMn"
      },
      "source": [
        "##Referências Bibliográficas"
      ]
    },
    {
      "cell_type": "markdown",
      "metadata": {
        "id": "p3sDCjpFv8iu"
      },
      "source": [
        "https://www.kaggle.com/shashwatwork/android-malware-dataset-for-machine-learning"
      ]
    },
    {
      "cell_type": "markdown",
      "metadata": {
        "id": "6m5AeImY0CW2"
      },
      "source": [
        "S. Y. Yerima and S. Sezer, \"DroidFusion: A Novel Multilevel Classifier Fusion Approach for Android Malware Detection,\" in *IEEE Transactions on Cybernetics*, vol. 49, no. 2, pp. 453-466, Feb. 2019, doi: 10.1109/TCYB.2017.2777960.\n",
        "\n"
      ]
    },
    {
      "cell_type": "markdown",
      "metadata": {
        "id": "lwJHW4pX3DJR"
      },
      "source": [
        "https://scikit-learn.org/stable/modules/feature_selection.html"
      ]
    },
    {
      "cell_type": "markdown",
      "metadata": {
        "id": "pvch_iu427Qe"
      },
      "source": [
        "https://scikit-learn.org/stable/modules/generated/sklearn.naive_bayes.BernoulliNB.html"
      ]
    }
  ]
}