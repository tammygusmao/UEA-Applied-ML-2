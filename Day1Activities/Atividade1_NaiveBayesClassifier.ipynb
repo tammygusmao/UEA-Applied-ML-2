{
  "nbformat": 4,
  "nbformat_minor": 0,
  "metadata": {
    "colab": {
      "name": "Atividade1_NaiveBayesClassifier.ipynb",
      "provenance": [],
      "collapsed_sections": [
        "T-EXOnC8Ce6Y"
      ]
    },
    "kernelspec": {
      "name": "python3",
      "display_name": "Python 3"
    },
    "language_info": {
      "name": "python"
    }
  },
  "cells": [
    {
      "cell_type": "markdown",
      "metadata": {
        "id": "o4oSogwr02gA"
      },
      "source": [
        "###Atividade 1 - ML APlicado 2"
      ]
    },
    {
      "cell_type": "markdown",
      "metadata": {
        "id": "wJ25tYxN06mu"
      },
      "source": [
        "Descrição da atividade: \n",
        "* Escolher um classificador do tipo NB (apropriado)\n",
        "* Utilizar o dataset Congressional Voting Records\n",
        "(https://archive.ics.uci.edu/ml/datasets/Congressional+Voting+Records)\n",
        ">* Descrever os dados com as estatísticas principais \n",
        ">* Conversão de features\n",
        ">* Tratamento das missing features\n",
        ">* Train-Test split\n",
        "* Criar um Jupyter Notebook (colab.research, kaggle, etc.)\n",
        "* Mostrar o desempenho com várias métricas (confusion matrix, AUC, ROC, etc.)"
      ]
    },
    {
      "cell_type": "markdown",
      "metadata": {
        "id": "T-EXOnC8Ce6Y"
      },
      "source": [
        "####1 - Imports"
      ]
    },
    {
      "cell_type": "code",
      "metadata": {
        "id": "tT5KkzZk9Bii",
        "colab": {
          "base_uri": "https://localhost:8080/"
        },
        "outputId": "bccf43e8-e84a-4cd2-e503-293cd0340b58"
      },
      "source": [
        "import numpy as np\n",
        "import pandas as pd\n",
        "#from google.colab import drive\n",
        "import matplotlib.pyplot as plt\n",
        "import seaborn as sns\n",
        "from sklearn.preprocessing import LabelEncoder\n",
        "from sklearn.metrics import mutual_info_score\n",
        "from sklearn.model_selection import train_test_split\n",
        "from sklearn.naive_bayes import CategoricalNB\n",
        "from sklearn.metrics import plot_confusion_matrix, classification_report\n",
        "from imblearn.under_sampling import RandomUnderSampler\n",
        "from collections import Counter"
      ],
      "execution_count": null,
      "outputs": [
        {
          "output_type": "stream",
          "text": [
            "/usr/local/lib/python3.7/dist-packages/sklearn/externals/six.py:31: FutureWarning: The module is deprecated in version 0.21 and will be removed in version 0.23 since we've dropped support for Python 2.7. Please rely on the official version of six (https://pypi.org/project/six/).\n",
            "  \"(https://pypi.org/project/six/).\", FutureWarning)\n",
            "/usr/local/lib/python3.7/dist-packages/sklearn/utils/deprecation.py:144: FutureWarning: The sklearn.neighbors.base module is  deprecated in version 0.22 and will be removed in version 0.24. The corresponding classes / functions should instead be imported from sklearn.neighbors. Anything that cannot be imported from sklearn.neighbors is now part of the private API.\n",
            "  warnings.warn(message, FutureWarning)\n"
          ],
          "name": "stderr"
        }
      ]
    },
    {
      "cell_type": "markdown",
      "metadata": {
        "id": "F8U9xaBYBlnN"
      },
      "source": [
        "####2 - Carregando o Dataset"
      ]
    },
    {
      "cell_type": "code",
      "metadata": {
        "id": "FSwabg1oaCxn",
        "colab": {
          "base_uri": "https://localhost:8080/",
          "height": 274
        },
        "outputId": "537b8839-92aa-446c-aeef-e1e78a6bef0a"
      },
      "source": [
        "url= 'http://archive.ics.uci.edu/ml/machine-learning-databases/voting-records/house-votes-84.data'\n",
        "\n",
        "features = ['class-name', 'handicapped-infants','water-project-cost-sharing','adoption-of-the-budget-resolution','physician-fee-freeze','el-salvador-aid','religious-groups-in-schools','anti-satellite-test-ban','aid-to-nicaraguan-contras','mx-missile','immigration', 'synfuels-corporation-cutback', 'education-spending', 'superfund-right-to-sue','crime','duty-free-exports','export-administration-act-south-africa']\n",
        "target = features[0] #atributo target\n",
        "attrs = features[1:len(features)] #demais atributos\n",
        "\n",
        "df_original = pd.read_csv(url, names=features, sep=\",\")\n",
        "\n",
        "df_original.head()"
      ],
      "execution_count": null,
      "outputs": [
        {
          "output_type": "execute_result",
          "data": {
            "text/html": [
              "<div>\n",
              "<style scoped>\n",
              "    .dataframe tbody tr th:only-of-type {\n",
              "        vertical-align: middle;\n",
              "    }\n",
              "\n",
              "    .dataframe tbody tr th {\n",
              "        vertical-align: top;\n",
              "    }\n",
              "\n",
              "    .dataframe thead th {\n",
              "        text-align: right;\n",
              "    }\n",
              "</style>\n",
              "<table border=\"1\" class=\"dataframe\">\n",
              "  <thead>\n",
              "    <tr style=\"text-align: right;\">\n",
              "      <th></th>\n",
              "      <th>class-name</th>\n",
              "      <th>handicapped-infants</th>\n",
              "      <th>water-project-cost-sharing</th>\n",
              "      <th>adoption-of-the-budget-resolution</th>\n",
              "      <th>physician-fee-freeze</th>\n",
              "      <th>el-salvador-aid</th>\n",
              "      <th>religious-groups-in-schools</th>\n",
              "      <th>anti-satellite-test-ban</th>\n",
              "      <th>aid-to-nicaraguan-contras</th>\n",
              "      <th>mx-missile</th>\n",
              "      <th>immigration</th>\n",
              "      <th>synfuels-corporation-cutback</th>\n",
              "      <th>education-spending</th>\n",
              "      <th>superfund-right-to-sue</th>\n",
              "      <th>crime</th>\n",
              "      <th>duty-free-exports</th>\n",
              "      <th>export-administration-act-south-africa</th>\n",
              "    </tr>\n",
              "  </thead>\n",
              "  <tbody>\n",
              "    <tr>\n",
              "      <th>0</th>\n",
              "      <td>republican</td>\n",
              "      <td>n</td>\n",
              "      <td>y</td>\n",
              "      <td>n</td>\n",
              "      <td>y</td>\n",
              "      <td>y</td>\n",
              "      <td>y</td>\n",
              "      <td>n</td>\n",
              "      <td>n</td>\n",
              "      <td>n</td>\n",
              "      <td>y</td>\n",
              "      <td>?</td>\n",
              "      <td>y</td>\n",
              "      <td>y</td>\n",
              "      <td>y</td>\n",
              "      <td>n</td>\n",
              "      <td>y</td>\n",
              "    </tr>\n",
              "    <tr>\n",
              "      <th>1</th>\n",
              "      <td>republican</td>\n",
              "      <td>n</td>\n",
              "      <td>y</td>\n",
              "      <td>n</td>\n",
              "      <td>y</td>\n",
              "      <td>y</td>\n",
              "      <td>y</td>\n",
              "      <td>n</td>\n",
              "      <td>n</td>\n",
              "      <td>n</td>\n",
              "      <td>n</td>\n",
              "      <td>n</td>\n",
              "      <td>y</td>\n",
              "      <td>y</td>\n",
              "      <td>y</td>\n",
              "      <td>n</td>\n",
              "      <td>?</td>\n",
              "    </tr>\n",
              "    <tr>\n",
              "      <th>2</th>\n",
              "      <td>democrat</td>\n",
              "      <td>?</td>\n",
              "      <td>y</td>\n",
              "      <td>y</td>\n",
              "      <td>?</td>\n",
              "      <td>y</td>\n",
              "      <td>y</td>\n",
              "      <td>n</td>\n",
              "      <td>n</td>\n",
              "      <td>n</td>\n",
              "      <td>n</td>\n",
              "      <td>y</td>\n",
              "      <td>n</td>\n",
              "      <td>y</td>\n",
              "      <td>y</td>\n",
              "      <td>n</td>\n",
              "      <td>n</td>\n",
              "    </tr>\n",
              "    <tr>\n",
              "      <th>3</th>\n",
              "      <td>democrat</td>\n",
              "      <td>n</td>\n",
              "      <td>y</td>\n",
              "      <td>y</td>\n",
              "      <td>n</td>\n",
              "      <td>?</td>\n",
              "      <td>y</td>\n",
              "      <td>n</td>\n",
              "      <td>n</td>\n",
              "      <td>n</td>\n",
              "      <td>n</td>\n",
              "      <td>y</td>\n",
              "      <td>n</td>\n",
              "      <td>y</td>\n",
              "      <td>n</td>\n",
              "      <td>n</td>\n",
              "      <td>y</td>\n",
              "    </tr>\n",
              "    <tr>\n",
              "      <th>4</th>\n",
              "      <td>democrat</td>\n",
              "      <td>y</td>\n",
              "      <td>y</td>\n",
              "      <td>y</td>\n",
              "      <td>n</td>\n",
              "      <td>y</td>\n",
              "      <td>y</td>\n",
              "      <td>n</td>\n",
              "      <td>n</td>\n",
              "      <td>n</td>\n",
              "      <td>n</td>\n",
              "      <td>y</td>\n",
              "      <td>?</td>\n",
              "      <td>y</td>\n",
              "      <td>y</td>\n",
              "      <td>y</td>\n",
              "      <td>y</td>\n",
              "    </tr>\n",
              "  </tbody>\n",
              "</table>\n",
              "</div>"
            ],
            "text/plain": [
              "   class-name  ... export-administration-act-south-africa\n",
              "0  republican  ...                                      y\n",
              "1  republican  ...                                      ?\n",
              "2    democrat  ...                                      n\n",
              "3    democrat  ...                                      y\n",
              "4    democrat  ...                                      y\n",
              "\n",
              "[5 rows x 17 columns]"
            ]
          },
          "metadata": {
            "tags": []
          },
          "execution_count": 27
        }
      ]
    },
    {
      "cell_type": "code",
      "metadata": {
        "colab": {
          "base_uri": "https://localhost:8080/"
        },
        "id": "q7IHT4s8qnOi",
        "outputId": "b0566122-53fa-498c-94d6-41d3902fc31e"
      },
      "source": [
        "df_original.shape"
      ],
      "execution_count": null,
      "outputs": [
        {
          "output_type": "execute_result",
          "data": {
            "text/plain": [
              "(435, 17)"
            ]
          },
          "metadata": {
            "tags": []
          },
          "execution_count": 28
        }
      ]
    },
    {
      "cell_type": "code",
      "metadata": {
        "id": "W_gOIsmQjZ9A",
        "colab": {
          "base_uri": "https://localhost:8080/",
          "height": 243
        },
        "outputId": "d64e846c-f15e-4028-9943-fdf9d8c32c9d"
      },
      "source": [
        "df_original.describe()"
      ],
      "execution_count": null,
      "outputs": [
        {
          "output_type": "execute_result",
          "data": {
            "text/html": [
              "<div>\n",
              "<style scoped>\n",
              "    .dataframe tbody tr th:only-of-type {\n",
              "        vertical-align: middle;\n",
              "    }\n",
              "\n",
              "    .dataframe tbody tr th {\n",
              "        vertical-align: top;\n",
              "    }\n",
              "\n",
              "    .dataframe thead th {\n",
              "        text-align: right;\n",
              "    }\n",
              "</style>\n",
              "<table border=\"1\" class=\"dataframe\">\n",
              "  <thead>\n",
              "    <tr style=\"text-align: right;\">\n",
              "      <th></th>\n",
              "      <th>class-name</th>\n",
              "      <th>handicapped-infants</th>\n",
              "      <th>water-project-cost-sharing</th>\n",
              "      <th>adoption-of-the-budget-resolution</th>\n",
              "      <th>physician-fee-freeze</th>\n",
              "      <th>el-salvador-aid</th>\n",
              "      <th>religious-groups-in-schools</th>\n",
              "      <th>anti-satellite-test-ban</th>\n",
              "      <th>aid-to-nicaraguan-contras</th>\n",
              "      <th>mx-missile</th>\n",
              "      <th>immigration</th>\n",
              "      <th>synfuels-corporation-cutback</th>\n",
              "      <th>education-spending</th>\n",
              "      <th>superfund-right-to-sue</th>\n",
              "      <th>crime</th>\n",
              "      <th>duty-free-exports</th>\n",
              "      <th>export-administration-act-south-africa</th>\n",
              "    </tr>\n",
              "  </thead>\n",
              "  <tbody>\n",
              "    <tr>\n",
              "      <th>count</th>\n",
              "      <td>435</td>\n",
              "      <td>435</td>\n",
              "      <td>435</td>\n",
              "      <td>435</td>\n",
              "      <td>435</td>\n",
              "      <td>435</td>\n",
              "      <td>435</td>\n",
              "      <td>435</td>\n",
              "      <td>435</td>\n",
              "      <td>435</td>\n",
              "      <td>435</td>\n",
              "      <td>435</td>\n",
              "      <td>435</td>\n",
              "      <td>435</td>\n",
              "      <td>435</td>\n",
              "      <td>435</td>\n",
              "      <td>435</td>\n",
              "    </tr>\n",
              "    <tr>\n",
              "      <th>unique</th>\n",
              "      <td>2</td>\n",
              "      <td>3</td>\n",
              "      <td>3</td>\n",
              "      <td>3</td>\n",
              "      <td>3</td>\n",
              "      <td>3</td>\n",
              "      <td>3</td>\n",
              "      <td>3</td>\n",
              "      <td>3</td>\n",
              "      <td>3</td>\n",
              "      <td>3</td>\n",
              "      <td>3</td>\n",
              "      <td>3</td>\n",
              "      <td>3</td>\n",
              "      <td>3</td>\n",
              "      <td>3</td>\n",
              "      <td>3</td>\n",
              "    </tr>\n",
              "    <tr>\n",
              "      <th>top</th>\n",
              "      <td>democrat</td>\n",
              "      <td>n</td>\n",
              "      <td>y</td>\n",
              "      <td>y</td>\n",
              "      <td>n</td>\n",
              "      <td>y</td>\n",
              "      <td>y</td>\n",
              "      <td>y</td>\n",
              "      <td>y</td>\n",
              "      <td>y</td>\n",
              "      <td>y</td>\n",
              "      <td>n</td>\n",
              "      <td>n</td>\n",
              "      <td>y</td>\n",
              "      <td>y</td>\n",
              "      <td>n</td>\n",
              "      <td>y</td>\n",
              "    </tr>\n",
              "    <tr>\n",
              "      <th>freq</th>\n",
              "      <td>267</td>\n",
              "      <td>236</td>\n",
              "      <td>195</td>\n",
              "      <td>253</td>\n",
              "      <td>247</td>\n",
              "      <td>212</td>\n",
              "      <td>272</td>\n",
              "      <td>239</td>\n",
              "      <td>242</td>\n",
              "      <td>207</td>\n",
              "      <td>216</td>\n",
              "      <td>264</td>\n",
              "      <td>233</td>\n",
              "      <td>209</td>\n",
              "      <td>248</td>\n",
              "      <td>233</td>\n",
              "      <td>269</td>\n",
              "    </tr>\n",
              "  </tbody>\n",
              "</table>\n",
              "</div>"
            ],
            "text/plain": [
              "       class-name  ... export-administration-act-south-africa\n",
              "count         435  ...                                    435\n",
              "unique          2  ...                                      3\n",
              "top      democrat  ...                                      y\n",
              "freq          267  ...                                    269\n",
              "\n",
              "[4 rows x 17 columns]"
            ]
          },
          "metadata": {
            "tags": []
          },
          "execution_count": 29
        }
      ]
    },
    {
      "cell_type": "markdown",
      "metadata": {
        "id": "nzpG6SNvj5Xj"
      },
      "source": [
        "####3 - Verificação de Dados Faltantes"
      ]
    },
    {
      "cell_type": "code",
      "metadata": {
        "id": "wmCCr3FvnUc8",
        "colab": {
          "base_uri": "https://localhost:8080/"
        },
        "outputId": "8e9627ea-671b-4288-b80a-deb4c49f1556"
      },
      "source": [
        "df_original.dtypes"
      ],
      "execution_count": null,
      "outputs": [
        {
          "output_type": "execute_result",
          "data": {
            "text/plain": [
              "class-name                                object\n",
              "handicapped-infants                       object\n",
              "water-project-cost-sharing                object\n",
              "adoption-of-the-budget-resolution         object\n",
              "physician-fee-freeze                      object\n",
              "el-salvador-aid                           object\n",
              "religious-groups-in-schools               object\n",
              "anti-satellite-test-ban                   object\n",
              "aid-to-nicaraguan-contras                 object\n",
              "mx-missile                                object\n",
              "immigration                               object\n",
              "synfuels-corporation-cutback              object\n",
              "education-spending                        object\n",
              "superfund-right-to-sue                    object\n",
              "crime                                     object\n",
              "duty-free-exports                         object\n",
              "export-administration-act-south-africa    object\n",
              "dtype: object"
            ]
          },
          "metadata": {
            "tags": []
          },
          "execution_count": 30
        }
      ]
    },
    {
      "cell_type": "code",
      "metadata": {
        "id": "__iOXIMdjmCR",
        "colab": {
          "base_uri": "https://localhost:8080/"
        },
        "outputId": "7b7d3422-de40-40c5-8c01-97be9c282af9"
      },
      "source": [
        "df_original.isnull( ).sum()"
      ],
      "execution_count": null,
      "outputs": [
        {
          "output_type": "execute_result",
          "data": {
            "text/plain": [
              "class-name                                0\n",
              "handicapped-infants                       0\n",
              "water-project-cost-sharing                0\n",
              "adoption-of-the-budget-resolution         0\n",
              "physician-fee-freeze                      0\n",
              "el-salvador-aid                           0\n",
              "religious-groups-in-schools               0\n",
              "anti-satellite-test-ban                   0\n",
              "aid-to-nicaraguan-contras                 0\n",
              "mx-missile                                0\n",
              "immigration                               0\n",
              "synfuels-corporation-cutback              0\n",
              "education-spending                        0\n",
              "superfund-right-to-sue                    0\n",
              "crime                                     0\n",
              "duty-free-exports                         0\n",
              "export-administration-act-south-africa    0\n",
              "dtype: int64"
            ]
          },
          "metadata": {
            "tags": []
          },
          "execution_count": 31
        }
      ]
    },
    {
      "cell_type": "markdown",
      "metadata": {
        "id": "EiadNOdozdmY"
      },
      "source": [
        "É de conhecimento que as features apresentam 3 classes possíveis: \"n\", \"y\" e \"?\".\n",
        "\n",
        "\"?\" não foi considerado como uma representação para valor faltante (NaN), visto que, na documentação do dataset, esta classe representa aqueles que estavam presentes para votação (em \"n\" ou \"y\"), mas escolheram não se manifestar. "
      ]
    },
    {
      "cell_type": "markdown",
      "metadata": {
        "id": "X2d-FpQBBhpn"
      },
      "source": [
        "####4 - Distribuição dos Rótulos (atributo *target*)"
      ]
    },
    {
      "cell_type": "code",
      "metadata": {
        "colab": {
          "base_uri": "https://localhost:8080/",
          "height": 265
        },
        "id": "9sszhZDUCr0-",
        "outputId": "de88abf2-c665-4be1-e0ee-4589bf3c7d76"
      },
      "source": [
        "plt.figure()\n",
        "histograma_dfOriginal = plt.hist(df_original['class-name'], bins=3) #histograma\n",
        "plt.show()"
      ],
      "execution_count": null,
      "outputs": [
        {
          "output_type": "display_data",
          "data": {
            "image/png": "[encoded data removed]",
            "text/plain": [
              "<Figure size 432x288 with 1 Axes>"
            ]
          },
          "metadata": {
            "tags": [],
            "needs_background": "light"
          }
        }
      ]
    },
    {
      "cell_type": "code",
      "metadata": {
        "colab": {
          "base_uri": "https://localhost:8080/"
        },
        "id": "9spikZLnEGPy",
        "outputId": "00339dc2-3792-42c2-cbc7-44375d44d7f6"
      },
      "source": [
        "histograma_dfOriginal"
      ],
      "execution_count": null,
      "outputs": [
        {
          "output_type": "execute_result",
          "data": {
            "text/plain": [
              "(array([168.,   0., 267.]),\n",
              " array([0.        , 0.33333333, 0.66666667, 1.        ]),\n",
              " <a list of 3 Patch objects>)"
            ]
          },
          "metadata": {
            "tags": []
          },
          "execution_count": 33
        }
      ]
    },
    {
      "cell_type": "markdown",
      "metadata": {
        "id": "5XxzSh0iD8dI"
      },
      "source": [
        "É observável que há quase 100 registros de diferença entre as classes do atributo target. Esta diferença é tratada na seção 9, de Treinamento do Modelo."
      ]
    },
    {
      "cell_type": "markdown",
      "metadata": {
        "id": "m-GBYBu-Eq7a"
      },
      "source": [
        "####5 - Análise de *Features*"
      ]
    },
    {
      "cell_type": "code",
      "metadata": {
        "id": "Uh5aRFEIE1pW"
      },
      "source": [
        "df = df_original.copy()"
      ],
      "execution_count": null,
      "outputs": []
    },
    {
      "cell_type": "code",
      "metadata": {
        "id": "eHf0BqEQlrzX",
        "colab": {
          "base_uri": "https://localhost:8080/"
        },
        "outputId": "525f1d6f-94e7-4b15-9b6c-0db518902c7e"
      },
      "source": [
        "def count_individual_feattures(df, columns):\n",
        "    for var in columns:\n",
        "        print(df[var].value_counts(), '\\n')\n",
        "\n",
        "count_individual_feattures(df, features) #features contém TODAS as colunas"
      ],
      "execution_count": null,
      "outputs": [
        {
          "output_type": "stream",
          "text": [
            "democrat      267\n",
            "republican    168\n",
            "Name: class-name, dtype: int64 \n",
            "\n",
            "n    236\n",
            "y    187\n",
            "?     12\n",
            "Name: handicapped-infants, dtype: int64 \n",
            "\n",
            "y    195\n",
            "n    192\n",
            "?     48\n",
            "Name: water-project-cost-sharing, dtype: int64 \n",
            "\n",
            "y    253\n",
            "n    171\n",
            "?     11\n",
            "Name: adoption-of-the-budget-resolution, dtype: int64 \n",
            "\n",
            "n    247\n",
            "y    177\n",
            "?     11\n",
            "Name: physician-fee-freeze, dtype: int64 \n",
            "\n",
            "y    212\n",
            "n    208\n",
            "?     15\n",
            "Name: el-salvador-aid, dtype: int64 \n",
            "\n",
            "y    272\n",
            "n    152\n",
            "?     11\n",
            "Name: religious-groups-in-schools, dtype: int64 \n",
            "\n",
            "y    239\n",
            "n    182\n",
            "?     14\n",
            "Name: anti-satellite-test-ban, dtype: int64 \n",
            "\n",
            "y    242\n",
            "n    178\n",
            "?     15\n",
            "Name: aid-to-nicaraguan-contras, dtype: int64 \n",
            "\n",
            "y    207\n",
            "n    206\n",
            "?     22\n",
            "Name: mx-missile, dtype: int64 \n",
            "\n",
            "y    216\n",
            "n    212\n",
            "?      7\n",
            "Name: immigration, dtype: int64 \n",
            "\n",
            "n    264\n",
            "y    150\n",
            "?     21\n",
            "Name: synfuels-corporation-cutback, dtype: int64 \n",
            "\n",
            "n    233\n",
            "y    171\n",
            "?     31\n",
            "Name: education-spending, dtype: int64 \n",
            "\n",
            "y    209\n",
            "n    201\n",
            "?     25\n",
            "Name: superfund-right-to-sue, dtype: int64 \n",
            "\n",
            "y    248\n",
            "n    170\n",
            "?     17\n",
            "Name: crime, dtype: int64 \n",
            "\n",
            "n    233\n",
            "y    174\n",
            "?     28\n",
            "Name: duty-free-exports, dtype: int64 \n",
            "\n",
            "y    269\n",
            "?    104\n",
            "n     62\n",
            "Name: export-administration-act-south-africa, dtype: int64 \n",
            "\n"
          ],
          "name": "stdout"
        }
      ]
    },
    {
      "cell_type": "markdown",
      "metadata": {
        "id": "0SURrujrtNwi"
      },
      "source": [
        "#####5.1 - Verificação das contagens por classes"
      ]
    },
    {
      "cell_type": "code",
      "metadata": {
        "id": "6zmuULqijwWc",
        "colab": {
          "base_uri": "https://localhost:8080/",
          "height": 752
        },
        "outputId": "015db7ab-aa0e-49a3-f58a-caa5c64e6970"
      },
      "source": [
        "def count_plot(df, columns):\n",
        "  plt.figure(figsize = (20, 10))\n",
        "  for indx, var in enumerate(columns):\n",
        "    plt.subplot(4, 4, (indx + 1))\n",
        "    sns.countplot(x = var, hue = df[target], data = df)\n",
        "  plt.tight_layout()\n",
        "\n",
        "count_plot(df, attrs)"
      ],
      "execution_count": null,
      "outputs": [
        {
          "output_type": "display_data",
          "data": {
            "image/png": "[encoded data removed]",
            "text/plain": [
              "<Figure size 1440x720 with 16 Axes>"
            ]
          },
          "metadata": {
            "tags": [],
            "needs_background": "light"
          }
        }
      ]
    },
    {
      "cell_type": "markdown",
      "metadata": {
        "id": "9k6a-742oBF0"
      },
      "source": [
        "####6 - Encoding dos atributos"
      ]
    },
    {
      "cell_type": "markdown",
      "metadata": {
        "id": "nyrUZTpa8PkV"
      },
      "source": [
        "#####6.1 - Encoding de *Features*"
      ]
    },
    {
      "cell_type": "code",
      "metadata": {
        "id": "zGz8PqDTtO6_"
      },
      "source": [
        "#Geração do encoding (formato de series) de dada series especificada\n",
        "# pelos parâmetros recebidos: 1 dataframe, 1 string (nome da coluna).\n",
        "\n",
        "def encode_object_att(_df, _column):\n",
        "  label_encoder = LabelEncoder()\n",
        "  serie_aux = label_encoder.fit_transform(list(_df[_column].values))\n",
        "  return serie_aux"
      ],
      "execution_count": null,
      "outputs": []
    },
    {
      "cell_type": "code",
      "metadata": {
        "id": "pE_vUQDytZnS"
      },
      "source": [
        "#Enconding de features\n",
        "\n",
        "for coluna in attrs:\n",
        "  df[coluna] = encode_object_att(df, coluna)"
      ],
      "execution_count": null,
      "outputs": []
    },
    {
      "cell_type": "code",
      "metadata": {
        "colab": {
          "base_uri": "https://localhost:8080/",
          "height": 274
        },
        "id": "LEoKoCO5oDPe",
        "outputId": "7e0295c7-e868-49ca-d413-06f35d928517"
      },
      "source": [
        "df[attrs].head()"
      ],
      "execution_count": null,
      "outputs": [
        {
          "output_type": "execute_result",
          "data": {
            "text/html": [
              "<div>\n",
              "<style scoped>\n",
              "    .dataframe tbody tr th:only-of-type {\n",
              "        vertical-align: middle;\n",
              "    }\n",
              "\n",
              "    .dataframe tbody tr th {\n",
              "        vertical-align: top;\n",
              "    }\n",
              "\n",
              "    .dataframe thead th {\n",
              "        text-align: right;\n",
              "    }\n",
              "</style>\n",
              "<table border=\"1\" class=\"dataframe\">\n",
              "  <thead>\n",
              "    <tr style=\"text-align: right;\">\n",
              "      <th></th>\n",
              "      <th>handicapped-infants</th>\n",
              "      <th>water-project-cost-sharing</th>\n",
              "      <th>adoption-of-the-budget-resolution</th>\n",
              "      <th>physician-fee-freeze</th>\n",
              "      <th>el-salvador-aid</th>\n",
              "      <th>religious-groups-in-schools</th>\n",
              "      <th>anti-satellite-test-ban</th>\n",
              "      <th>aid-to-nicaraguan-contras</th>\n",
              "      <th>mx-missile</th>\n",
              "      <th>immigration</th>\n",
              "      <th>synfuels-corporation-cutback</th>\n",
              "      <th>education-spending</th>\n",
              "      <th>superfund-right-to-sue</th>\n",
              "      <th>crime</th>\n",
              "      <th>duty-free-exports</th>\n",
              "      <th>export-administration-act-south-africa</th>\n",
              "    </tr>\n",
              "  </thead>\n",
              "  <tbody>\n",
              "    <tr>\n",
              "      <th>0</th>\n",
              "      <td>1</td>\n",
              "      <td>2</td>\n",
              "      <td>1</td>\n",
              "      <td>2</td>\n",
              "      <td>2</td>\n",
              "      <td>2</td>\n",
              "      <td>1</td>\n",
              "      <td>1</td>\n",
              "      <td>1</td>\n",
              "      <td>2</td>\n",
              "      <td>0</td>\n",
              "      <td>2</td>\n",
              "      <td>2</td>\n",
              "      <td>2</td>\n",
              "      <td>1</td>\n",
              "      <td>2</td>\n",
              "    </tr>\n",
              "    <tr>\n",
              "      <th>1</th>\n",
              "      <td>1</td>\n",
              "      <td>2</td>\n",
              "      <td>1</td>\n",
              "      <td>2</td>\n",
              "      <td>2</td>\n",
              "      <td>2</td>\n",
              "      <td>1</td>\n",
              "      <td>1</td>\n",
              "      <td>1</td>\n",
              "      <td>1</td>\n",
              "      <td>1</td>\n",
              "      <td>2</td>\n",
              "      <td>2</td>\n",
              "      <td>2</td>\n",
              "      <td>1</td>\n",
              "      <td>0</td>\n",
              "    </tr>\n",
              "    <tr>\n",
              "      <th>2</th>\n",
              "      <td>0</td>\n",
              "      <td>2</td>\n",
              "      <td>2</td>\n",
              "      <td>0</td>\n",
              "      <td>2</td>\n",
              "      <td>2</td>\n",
              "      <td>1</td>\n",
              "      <td>1</td>\n",
              "      <td>1</td>\n",
              "      <td>1</td>\n",
              "      <td>2</td>\n",
              "      <td>1</td>\n",
              "      <td>2</td>\n",
              "      <td>2</td>\n",
              "      <td>1</td>\n",
              "      <td>1</td>\n",
              "    </tr>\n",
              "    <tr>\n",
              "      <th>3</th>\n",
              "      <td>1</td>\n",
              "      <td>2</td>\n",
              "      <td>2</td>\n",
              "      <td>1</td>\n",
              "      <td>0</td>\n",
              "      <td>2</td>\n",
              "      <td>1</td>\n",
              "      <td>1</td>\n",
              "      <td>1</td>\n",
              "      <td>1</td>\n",
              "      <td>2</td>\n",
              "      <td>1</td>\n",
              "      <td>2</td>\n",
              "      <td>1</td>\n",
              "      <td>1</td>\n",
              "      <td>2</td>\n",
              "    </tr>\n",
              "    <tr>\n",
              "      <th>4</th>\n",
              "      <td>2</td>\n",
              "      <td>2</td>\n",
              "      <td>2</td>\n",
              "      <td>1</td>\n",
              "      <td>2</td>\n",
              "      <td>2</td>\n",
              "      <td>1</td>\n",
              "      <td>1</td>\n",
              "      <td>1</td>\n",
              "      <td>1</td>\n",
              "      <td>2</td>\n",
              "      <td>0</td>\n",
              "      <td>2</td>\n",
              "      <td>2</td>\n",
              "      <td>2</td>\n",
              "      <td>2</td>\n",
              "    </tr>\n",
              "  </tbody>\n",
              "</table>\n",
              "</div>"
            ],
            "text/plain": [
              "   handicapped-infants  ...  export-administration-act-south-africa\n",
              "0                    1  ...                                       2\n",
              "1                    1  ...                                       0\n",
              "2                    0  ...                                       1\n",
              "3                    1  ...                                       2\n",
              "4                    2  ...                                       2\n",
              "\n",
              "[5 rows x 16 columns]"
            ]
          },
          "metadata": {
            "tags": []
          },
          "execution_count": 39
        }
      ]
    },
    {
      "cell_type": "code",
      "metadata": {
        "colab": {
          "base_uri": "https://localhost:8080/",
          "height": 274
        },
        "id": "EhgFg-Fr7_Ji",
        "outputId": "592a0b61-1c89-4969-e4ad-69eaf4b5a71c"
      },
      "source": [
        "df_original[attrs].head()"
      ],
      "execution_count": null,
      "outputs": [
        {
          "output_type": "execute_result",
          "data": {
            "text/html": [
              "<div>\n",
              "<style scoped>\n",
              "    .dataframe tbody tr th:only-of-type {\n",
              "        vertical-align: middle;\n",
              "    }\n",
              "\n",
              "    .dataframe tbody tr th {\n",
              "        vertical-align: top;\n",
              "    }\n",
              "\n",
              "    .dataframe thead th {\n",
              "        text-align: right;\n",
              "    }\n",
              "</style>\n",
              "<table border=\"1\" class=\"dataframe\">\n",
              "  <thead>\n",
              "    <tr style=\"text-align: right;\">\n",
              "      <th></th>\n",
              "      <th>handicapped-infants</th>\n",
              "      <th>water-project-cost-sharing</th>\n",
              "      <th>adoption-of-the-budget-resolution</th>\n",
              "      <th>physician-fee-freeze</th>\n",
              "      <th>el-salvador-aid</th>\n",
              "      <th>religious-groups-in-schools</th>\n",
              "      <th>anti-satellite-test-ban</th>\n",
              "      <th>aid-to-nicaraguan-contras</th>\n",
              "      <th>mx-missile</th>\n",
              "      <th>immigration</th>\n",
              "      <th>synfuels-corporation-cutback</th>\n",
              "      <th>education-spending</th>\n",
              "      <th>superfund-right-to-sue</th>\n",
              "      <th>crime</th>\n",
              "      <th>duty-free-exports</th>\n",
              "      <th>export-administration-act-south-africa</th>\n",
              "    </tr>\n",
              "  </thead>\n",
              "  <tbody>\n",
              "    <tr>\n",
              "      <th>0</th>\n",
              "      <td>n</td>\n",
              "      <td>y</td>\n",
              "      <td>n</td>\n",
              "      <td>y</td>\n",
              "      <td>y</td>\n",
              "      <td>y</td>\n",
              "      <td>n</td>\n",
              "      <td>n</td>\n",
              "      <td>n</td>\n",
              "      <td>y</td>\n",
              "      <td>?</td>\n",
              "      <td>y</td>\n",
              "      <td>y</td>\n",
              "      <td>y</td>\n",
              "      <td>n</td>\n",
              "      <td>y</td>\n",
              "    </tr>\n",
              "    <tr>\n",
              "      <th>1</th>\n",
              "      <td>n</td>\n",
              "      <td>y</td>\n",
              "      <td>n</td>\n",
              "      <td>y</td>\n",
              "      <td>y</td>\n",
              "      <td>y</td>\n",
              "      <td>n</td>\n",
              "      <td>n</td>\n",
              "      <td>n</td>\n",
              "      <td>n</td>\n",
              "      <td>n</td>\n",
              "      <td>y</td>\n",
              "      <td>y</td>\n",
              "      <td>y</td>\n",
              "      <td>n</td>\n",
              "      <td>?</td>\n",
              "    </tr>\n",
              "    <tr>\n",
              "      <th>2</th>\n",
              "      <td>?</td>\n",
              "      <td>y</td>\n",
              "      <td>y</td>\n",
              "      <td>?</td>\n",
              "      <td>y</td>\n",
              "      <td>y</td>\n",
              "      <td>n</td>\n",
              "      <td>n</td>\n",
              "      <td>n</td>\n",
              "      <td>n</td>\n",
              "      <td>y</td>\n",
              "      <td>n</td>\n",
              "      <td>y</td>\n",
              "      <td>y</td>\n",
              "      <td>n</td>\n",
              "      <td>n</td>\n",
              "    </tr>\n",
              "    <tr>\n",
              "      <th>3</th>\n",
              "      <td>n</td>\n",
              "      <td>y</td>\n",
              "      <td>y</td>\n",
              "      <td>n</td>\n",
              "      <td>?</td>\n",
              "      <td>y</td>\n",
              "      <td>n</td>\n",
              "      <td>n</td>\n",
              "      <td>n</td>\n",
              "      <td>n</td>\n",
              "      <td>y</td>\n",
              "      <td>n</td>\n",
              "      <td>y</td>\n",
              "      <td>n</td>\n",
              "      <td>n</td>\n",
              "      <td>y</td>\n",
              "    </tr>\n",
              "    <tr>\n",
              "      <th>4</th>\n",
              "      <td>y</td>\n",
              "      <td>y</td>\n",
              "      <td>y</td>\n",
              "      <td>n</td>\n",
              "      <td>y</td>\n",
              "      <td>y</td>\n",
              "      <td>n</td>\n",
              "      <td>n</td>\n",
              "      <td>n</td>\n",
              "      <td>n</td>\n",
              "      <td>y</td>\n",
              "      <td>?</td>\n",
              "      <td>y</td>\n",
              "      <td>y</td>\n",
              "      <td>y</td>\n",
              "      <td>y</td>\n",
              "    </tr>\n",
              "  </tbody>\n",
              "</table>\n",
              "</div>"
            ],
            "text/plain": [
              "  handicapped-infants  ... export-administration-act-south-africa\n",
              "0                   n  ...                                      y\n",
              "1                   n  ...                                      ?\n",
              "2                   ?  ...                                      n\n",
              "3                   n  ...                                      y\n",
              "4                   y  ...                                      y\n",
              "\n",
              "[5 rows x 16 columns]"
            ]
          },
          "metadata": {
            "tags": []
          },
          "execution_count": 40
        }
      ]
    },
    {
      "cell_type": "code",
      "metadata": {
        "colab": {
          "base_uri": "https://localhost:8080/"
        },
        "id": "1SM6R3R2uV9r",
        "outputId": "6c441734-da5c-42b8-879b-35ecf18cc465"
      },
      "source": [
        "for col in attrs:\n",
        "  print(\"Valores únicos na coluna \",col)\n",
        "  print(df[col].unique())"
      ],
      "execution_count": null,
      "outputs": [
        {
          "output_type": "stream",
          "text": [
            "Valores únicos na coluna  handicapped-infants\n",
            "[1 0 2]\n",
            "Valores únicos na coluna  water-project-cost-sharing\n",
            "[2 1 0]\n",
            "Valores únicos na coluna  adoption-of-the-budget-resolution\n",
            "[1 2 0]\n",
            "Valores únicos na coluna  physician-fee-freeze\n",
            "[2 0 1]\n",
            "Valores únicos na coluna  el-salvador-aid\n",
            "[2 0 1]\n",
            "Valores únicos na coluna  religious-groups-in-schools\n",
            "[2 1 0]\n",
            "Valores únicos na coluna  anti-satellite-test-ban\n",
            "[1 2 0]\n",
            "Valores únicos na coluna  aid-to-nicaraguan-contras\n",
            "[1 2 0]\n",
            "Valores únicos na coluna  mx-missile\n",
            "[1 2 0]\n",
            "Valores únicos na coluna  immigration\n",
            "[2 1 0]\n",
            "Valores únicos na coluna  synfuels-corporation-cutback\n",
            "[0 1 2]\n",
            "Valores únicos na coluna  education-spending\n",
            "[2 1 0]\n",
            "Valores únicos na coluna  superfund-right-to-sue\n",
            "[2 0 1]\n",
            "Valores únicos na coluna  crime\n",
            "[2 1 0]\n",
            "Valores únicos na coluna  duty-free-exports\n",
            "[1 2 0]\n",
            "Valores únicos na coluna  export-administration-act-south-africa\n",
            "[2 0 1]\n"
          ],
          "name": "stdout"
        }
      ]
    },
    {
      "cell_type": "markdown",
      "metadata": {
        "id": "WELdP9Vit6ix"
      },
      "source": [
        "O Label Encoder generalizou os novos labels para todo o dataset:\n",
        "* \"?\" = 0;\n",
        "* \"n\" = 1;\n",
        "* \"y\" = 2."
      ]
    },
    {
      "cell_type": "markdown",
      "metadata": {
        "id": "y5LNQwiv8aPr"
      },
      "source": [
        "#####6.2 - Encoding do atributo *target*"
      ]
    },
    {
      "cell_type": "code",
      "metadata": {
        "id": "nZfuxiv1n2cQ",
        "colab": {
          "base_uri": "https://localhost:8080/"
        },
        "outputId": "aea095f6-23b4-4c5e-9c3a-ddcd65f7818c"
      },
      "source": [
        "label_encoder = LabelEncoder()\n",
        "y = label_encoder.fit_transform(df[target])\n",
        "#print(y)\n",
        "print(label_encoder.classes_)"
      ],
      "execution_count": null,
      "outputs": [
        {
          "output_type": "stream",
          "text": [
            "['democrat' 'republican']\n"
          ],
          "name": "stdout"
        }
      ]
    },
    {
      "cell_type": "markdown",
      "metadata": {
        "id": "9hxEhorUq3-4"
      },
      "source": [
        "####7 - Análise de Independência dos Atributos"
      ]
    },
    {
      "cell_type": "code",
      "metadata": {
        "id": "eRA41X9Zvb_r"
      },
      "source": [
        "X = df.loc[:,df.columns[1]:df.columns[len(df.columns)-1]].values"
      ],
      "execution_count": null,
      "outputs": []
    },
    {
      "cell_type": "code",
      "metadata": {
        "colab": {
          "base_uri": "https://localhost:8080/"
        },
        "id": "tStusWITvc_l",
        "outputId": "3f1b86a6-1889-4a4b-f860-b4f84ee35da6"
      },
      "source": [
        "X"
      ],
      "execution_count": null,
      "outputs": [
        {
          "output_type": "execute_result",
          "data": {
            "text/plain": [
              "array([[1, 2, 1, ..., 2, 1, 2],\n",
              "       [1, 2, 1, ..., 2, 1, 0],\n",
              "       [0, 2, 2, ..., 2, 1, 1],\n",
              "       ...,\n",
              "       [1, 0, 1, ..., 2, 1, 2],\n",
              "       [1, 1, 1, ..., 2, 1, 2],\n",
              "       [1, 2, 1, ..., 2, 0, 1]])"
            ]
          },
          "metadata": {
            "tags": []
          },
          "execution_count": 44
        }
      ]
    },
    {
      "cell_type": "code",
      "metadata": {
        "id": "-jtMTK9tq6rB"
      },
      "source": [
        "n = X.shape[1]\n",
        "\n",
        "for var1 in range(n):\n",
        "  for var2 in range(var1+1,n):\n",
        "    MI = mutual_info_score(X[:,var1], X[:,var2])\n",
        "    #print(MI)\n",
        "    if MI > 0.5:\n",
        "      print(MI)"
      ],
      "execution_count": null,
      "outputs": []
    },
    {
      "cell_type": "markdown",
      "metadata": {
        "id": "iVvE7agK9eD_"
      },
      "source": [
        "Todas as variáveis são independentes."
      ]
    },
    {
      "cell_type": "markdown",
      "metadata": {
        "id": "jAhugQSPrC3e"
      },
      "source": [
        "####8 - Separação das Amostras de Treino e Teste"
      ]
    },
    {
      "cell_type": "code",
      "metadata": {
        "colab": {
          "base_uri": "https://localhost:8080/",
          "height": 260
        },
        "id": "80L1jvY2rDKM",
        "outputId": "5b60c3bb-4453-4387-a33f-0489e754c0d3"
      },
      "source": [
        "X_train, X_test, y_train, y_test = train_test_split(X, y, test_size=0.3, random_state=143)\n",
        "\n",
        "# depois da separação podemos conferir a distribuição de classes nos dois novos conjuntos\n",
        "# a mesma distribuição de rótulos é garantida pelo sklearn\n",
        "plt.figure(figsize=(15,4))\n",
        "plt.subplot(1,2,1)\n",
        "plt.hist(y_train)\n",
        "plt.subplot(1,2,2)\n",
        "plt.hist(y_test)\n",
        "plt.show()"
      ],
      "execution_count": null,
      "outputs": [
        {
          "output_type": "display_data",
          "data": {
            "image/png": "[encoded data removed]",
            "text/plain": [
              "<Figure size 1080x288 with 2 Axes>"
            ]
          },
          "metadata": {
            "tags": [],
            "needs_background": "light"
          }
        }
      ]
    },
    {
      "cell_type": "markdown",
      "metadata": {
        "id": "yKfyGePdJn_R"
      },
      "source": [
        "Como pode ser visto acima, há uma desigualdade considerável entre as quantias de registros das classes do atributo target.\n",
        "\n",
        "Portanto, foi considerada a estratégia de diminuição aleatória de amostras (Random Undersample) da classe majoritária:"
      ]
    },
    {
      "cell_type": "code",
      "metadata": {
        "colab": {
          "base_uri": "https://localhost:8080/"
        },
        "id": "vkdBKvRhxNUn",
        "outputId": "de6892d9-7679-412e-8e27-3a2a3ef5fde6"
      },
      "source": [
        "#Definindo estratégia de underSample\n",
        "undersample = RandomUnderSampler(sampling_strategy='majority') \n",
        "#majority, pois o atributo target só tem duas classes\n",
        "\n",
        "X_samp, y_samp = undersample.fit_resample(X, y)"
      ],
      "execution_count": null,
      "outputs": [
        {
          "output_type": "stream",
          "text": [
            "/usr/local/lib/python3.7/dist-packages/sklearn/utils/deprecation.py:87: FutureWarning: Function safe_indexing is deprecated; safe_indexing is deprecated in version 0.22 and will be removed in version 0.24.\n",
            "  warnings.warn(msg, category=FutureWarning)\n"
          ],
          "name": "stderr"
        }
      ]
    },
    {
      "cell_type": "code",
      "metadata": {
        "id": "VF0EUZKrKFt3",
        "colab": {
          "base_uri": "https://localhost:8080/"
        },
        "outputId": "282579ca-5159-423c-c6a7-d66cbc265679"
      },
      "source": [
        "np.unique(y_samp, return_counts=True)"
      ],
      "execution_count": null,
      "outputs": [
        {
          "output_type": "execute_result",
          "data": {
            "text/plain": [
              "(array([0, 1]), array([168, 168]))"
            ]
          },
          "metadata": {
            "tags": []
          },
          "execution_count": 50
        }
      ]
    },
    {
      "cell_type": "markdown",
      "metadata": {
        "id": "s_LxrNLP-KHV"
      },
      "source": [
        "Na tupla acima, podemos verificar que as classes `0` e `1` possuem as mesmas quantias de registros: 168. Abaixo verifica-se graficamente a nova distribuição:"
      ]
    },
    {
      "cell_type": "code",
      "metadata": {
        "colab": {
          "base_uri": "https://localhost:8080/",
          "height": 259
        },
        "id": "8M8dlHugxm-1",
        "outputId": "3556c90b-d396-4d57-9967-640bc69c6621"
      },
      "source": [
        "X_train, X_test, y_train, y_test = train_test_split(X_samp, y_samp, test_size=0.3, random_state=143)\n",
        "\n",
        "plt.figure(figsize=(15,4))\n",
        "plt.subplot(1,2,1)\n",
        "plt.hist(y_train)\n",
        "plt.subplot(1,2,2)\n",
        "plt.hist(y_test)\n",
        "plt.show()"
      ],
      "execution_count": null,
      "outputs": [
        {
          "output_type": "display_data",
          "data": {
            "image/png": "[encoded data removed]",
            "text/plain": [
              "<Figure size 1080x288 with 2 Axes>"
            ]
          },
          "metadata": {
            "tags": [],
            "needs_background": "light"
          }
        }
      ]
    },
    {
      "cell_type": "markdown",
      "metadata": {
        "id": "D0bVOpmfrKc9"
      },
      "source": [
        "####9 - Treinamento do Modelo"
      ]
    },
    {
      "cell_type": "code",
      "metadata": {
        "colab": {
          "base_uri": "https://localhost:8080/"
        },
        "id": "OjKNJQ5rrKnM",
        "outputId": "d5629a55-e14c-425b-9201-35ac122c6e35"
      },
      "source": [
        "clf = CategoricalNB()\n",
        "clf.fit(X_train, y_train)"
      ],
      "execution_count": null,
      "outputs": [
        {
          "output_type": "execute_result",
          "data": {
            "text/plain": [
              "CategoricalNB(alpha=1.0, class_prior=None, fit_prior=True)"
            ]
          },
          "metadata": {
            "tags": []
          },
          "execution_count": 52
        }
      ]
    },
    {
      "cell_type": "markdown",
      "metadata": {
        "id": "9f2WrcQBrblT"
      },
      "source": [
        "####10 - Aplicação do Modelo"
      ]
    },
    {
      "cell_type": "code",
      "metadata": {
        "colab": {
          "base_uri": "https://localhost:8080/"
        },
        "id": "Wt3eb1yIrc8X",
        "outputId": "8441ff0d-cad2-4dd5-f1d3-e02c2c0f2fb9"
      },
      "source": [
        "y_pred_clf = clf.predict(X_test)\n",
        "y_prob_pred_clf = clf.predict_proba(X_test)\n",
        "\n",
        "count_misclassified = (y_test != y_pred_clf).sum()\n",
        "\n",
        "print('Amostras classificadas INCORRETAMENTE: {}'.format(count_misclassified))"
      ],
      "execution_count": null,
      "outputs": [
        {
          "output_type": "stream",
          "text": [
            "Amostras classificadas INCORRETAMENTE: 7\n"
          ],
          "name": "stdout"
        }
      ]
    },
    {
      "cell_type": "code",
      "metadata": {
        "colab": {
          "base_uri": "https://localhost:8080/"
        },
        "id": "7_rZqkk2rd7j",
        "outputId": "d637b94c-c058-47d2-a127-d1776395dea2"
      },
      "source": [
        "print(X_test[0,:])\n",
        "print(y_prob_pred_clf[0,:])\n",
        "y_prob_pred_clf[0]"
      ],
      "execution_count": null,
      "outputs": [
        {
          "output_type": "stream",
          "text": [
            "[2 2 2 0 1 1 1 2 1 1 2 0 1 1 2 2]\n",
            "[9.99999073e-01 9.26539617e-07]\n"
          ],
          "name": "stdout"
        },
        {
          "output_type": "execute_result",
          "data": {
            "text/plain": [
              "array([9.99999073e-01, 9.26539617e-07])"
            ]
          },
          "metadata": {
            "tags": []
          },
          "execution_count": 54
        }
      ]
    },
    {
      "cell_type": "code",
      "metadata": {
        "colab": {
          "base_uri": "https://localhost:8080/",
          "height": 453
        },
        "id": "BhkmWFUfrgPk",
        "outputId": "84237783-6a57-4ff2-dfc1-48a190115e01"
      },
      "source": [
        "print(classification_report(y_test, y_pred_clf, target_names=['republican', 'democrat']))\n",
        "\n",
        "plot_confusion_matrix(clf, X_test, y_test, display_labels=['republican', 'democrat'])"
      ],
      "execution_count": null,
      "outputs": [
        {
          "output_type": "stream",
          "text": [
            "              precision    recall  f1-score   support\n",
            "\n",
            "  republican       0.92      0.94      0.93        52\n",
            "    democrat       0.94      0.92      0.93        49\n",
            "\n",
            "    accuracy                           0.93       101\n",
            "   macro avg       0.93      0.93      0.93       101\n",
            "weighted avg       0.93      0.93      0.93       101\n",
            "\n"
          ],
          "name": "stdout"
        },
        {
          "output_type": "execute_result",
          "data": {
            "text/plain": [
              "<sklearn.metrics._plot.confusion_matrix.ConfusionMatrixDisplay at 0x7f81b0487cd0>"
            ]
          },
          "metadata": {
            "tags": []
          },
          "execution_count": 56
        },
        {
          "output_type": "display_data",
          "data": {
            "image/png": "[encoded data removed]",
            "text/plain": [
              "<Figure size 432x288 with 2 Axes>"
            ]
          },
          "metadata": {
            "tags": [],
            "needs_background": "light"
          }
        }
      ]
    }
  ]
}