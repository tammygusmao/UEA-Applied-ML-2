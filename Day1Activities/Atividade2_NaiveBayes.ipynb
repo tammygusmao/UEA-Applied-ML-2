{
  "nbformat": 4,
  "nbformat_minor": 0,
  "metadata": {
    "colab": {
      "name": "Atividade2_NaiveBayes.ipynb",
      "provenance": [],
      "collapsed_sections": [],
      "toc_visible": true
    },
    "kernelspec": {
      "name": "python3",
      "display_name": "Python 3"
    },
    "language_info": {
      "name": "python"
    }
  },
  "cells": [
    {
      "cell_type": "markdown",
      "metadata": {
        "id": "MAwXN89It-sj"
      },
      "source": [
        "###Atividade 2 - ML Aplicado 2"
      ]
    },
    {
      "cell_type": "markdown",
      "metadata": {
        "id": "i4znmbrmcqqm"
      },
      "source": [
        "Descrição da atividade: classificar o conjunto 20 newsgroup.\n",
        "* Usar codificação binária para as palavras (ao invés de contagem).\n",
        "* Utilizar as mesmas classes do exemplo para que os resultados sejam comparáveis.\n",
        "* Escolher a versão mais apropriada do Naive Bayes para lidar com atributos binários.\n",
        "* Testar diferentes configurações, por exemplo: com ou sem stop words, com ou sem o cabeçalho das notícias, etc."
      ]
    },
    {
      "cell_type": "markdown",
      "metadata": {
        "id": "-2Zxb02KcwTL"
      },
      "source": [
        "####Imports"
      ]
    },
    {
      "cell_type": "code",
      "metadata": {
        "id": "zLGyqo-i0Goi"
      },
      "source": [
        "import pandas as pd\n",
        "import numpy as np\n",
        "import matplotlib.pyplot as plt\n",
        "import seaborn as sns\n",
        "from sklearn.datasets import fetch_20newsgroups\n",
        "from sklearn.feature_extraction.text import CountVectorizer\n",
        "from sklearn.naive_bayes import MultinomialNB, GaussianNB, BernoulliNB\n",
        "from sklearn.metrics import plot_confusion_matrix, classification_report\n",
        "from sklearn.pipeline import make_pipeline\n",
        "from sklearn.feature_extraction.text import TfidfVectorizer\n",
        "from sklearn.preprocessing import MaxAbsScaler, StandardScaler"
      ],
      "execution_count": 1,
      "outputs": []
    },
    {
      "cell_type": "markdown",
      "metadata": {
        "id": "KXYuuFhqcyBM"
      },
      "source": [
        "####Carregando e Reduzindo o Dataset"
      ]
    },
    {
      "cell_type": "code",
      "metadata": {
        "id": "TN13xsUBh4H9"
      },
      "source": [
        "data = fetch_20newsgroups()"
      ],
      "execution_count": 2,
      "outputs": []
    },
    {
      "cell_type": "code",
      "metadata": {
        "colab": {
          "base_uri": "https://localhost:8080/"
        },
        "id": "b0OyuiyZ_thZ",
        "outputId": "3e5cb33d-a35a-4d02-800e-2e481e6b8fda"
      },
      "source": [
        "#Descrição do dataset\n",
        "print(data.DESCR)"
      ],
      "execution_count": 3,
      "outputs": [
        {
          "output_type": "stream",
          "text": [
            ".. _20newsgroups_dataset:\n",
            "\n",
            "The 20 newsgroups text dataset\n",
            "------------------------------\n",
            "\n",
            "The 20 newsgroups dataset comprises around 18000 newsgroups posts on\n",
            "20 topics split in two subsets: one for training (or development)\n",
            "and the other one for testing (or for performance evaluation). The split\n",
            "between the train and test set is based upon a messages posted before\n",
            "and after a specific date.\n",
            "\n",
            "This module contains two loaders. The first one,\n",
            ":func:`sklearn.datasets.fetch_20newsgroups`,\n",
            "returns a list of the raw texts that can be fed to text feature\n",
            "extractors such as :class:`sklearn.feature_extraction.text.CountVectorizer`\n",
            "with custom parameters so as to extract feature vectors.\n",
            "The second one, :func:`sklearn.datasets.fetch_20newsgroups_vectorized`,\n",
            "returns ready-to-use features, i.e., it is not necessary to use a feature\n",
            "extractor.\n",
            "\n",
            "**Data Set Characteristics:**\n",
            "\n",
            "    =================   ==========\n",
            "    Classes                     20\n",
            "    Samples total            18846\n",
            "    Dimensionality               1\n",
            "    Features                  text\n",
            "    =================   ==========\n",
            "\n",
            "Usage\n",
            "~~~~~\n",
            "\n",
            "The :func:`sklearn.datasets.fetch_20newsgroups` function is a data\n",
            "fetching / caching functions that downloads the data archive from\n",
            "the original `20 newsgroups website`_, extracts the archive contents\n",
            "in the ``~/scikit_learn_data/20news_home`` folder and calls the\n",
            ":func:`sklearn.datasets.load_files` on either the training or\n",
            "testing set folder, or both of them::\n",
            "\n",
            "  >>> from sklearn.datasets import fetch_20newsgroups\n",
            "  >>> newsgroups_train = fetch_20newsgroups(subset='train')\n",
            "\n",
            "  >>> from pprint import pprint\n",
            "  >>> pprint(list(newsgroups_train.target_names))\n",
            "  ['alt.atheism',\n",
            "   'comp.graphics',\n",
            "   'comp.os.ms-windows.misc',\n",
            "   'comp.sys.ibm.pc.hardware',\n",
            "   'comp.sys.mac.hardware',\n",
            "   'comp.windows.x',\n",
            "   'misc.forsale',\n",
            "   'rec.autos',\n",
            "   'rec.motorcycles',\n",
            "   'rec.sport.baseball',\n",
            "   'rec.sport.hockey',\n",
            "   'sci.crypt',\n",
            "   'sci.electronics',\n",
            "   'sci.med',\n",
            "   'sci.space',\n",
            "   'soc.religion.christian',\n",
            "   'talk.politics.guns',\n",
            "   'talk.politics.mideast',\n",
            "   'talk.politics.misc',\n",
            "   'talk.religion.misc']\n",
            "\n",
            "The real data lies in the ``filenames`` and ``target`` attributes. The target\n",
            "attribute is the integer index of the category::\n",
            "\n",
            "  >>> newsgroups_train.filenames.shape\n",
            "  (11314,)\n",
            "  >>> newsgroups_train.target.shape\n",
            "  (11314,)\n",
            "  >>> newsgroups_train.target[:10]\n",
            "  array([ 7,  4,  4,  1, 14, 16, 13,  3,  2,  4])\n",
            "\n",
            "It is possible to load only a sub-selection of the categories by passing the\n",
            "list of the categories to load to the\n",
            ":func:`sklearn.datasets.fetch_20newsgroups` function::\n",
            "\n",
            "  >>> cats = ['alt.atheism', 'sci.space']\n",
            "  >>> newsgroups_train = fetch_20newsgroups(subset='train', categories=cats)\n",
            "\n",
            "  >>> list(newsgroups_train.target_names)\n",
            "  ['alt.atheism', 'sci.space']\n",
            "  >>> newsgroups_train.filenames.shape\n",
            "  (1073,)\n",
            "  >>> newsgroups_train.target.shape\n",
            "  (1073,)\n",
            "  >>> newsgroups_train.target[:10]\n",
            "  array([0, 1, 1, 1, 0, 1, 1, 0, 0, 0])\n",
            "\n",
            "Converting text to vectors\n",
            "~~~~~~~~~~~~~~~~~~~~~~~~~~\n",
            "\n",
            "In order to feed predictive or clustering models with the text data,\n",
            "one first need to turn the text into vectors of numerical values suitable\n",
            "for statistical analysis. This can be achieved with the utilities of the\n",
            "``sklearn.feature_extraction.text`` as demonstrated in the following\n",
            "example that extract `TF-IDF`_ vectors of unigram tokens\n",
            "from a subset of 20news::\n",
            "\n",
            "  >>> from sklearn.feature_extraction.text import TfidfVectorizer\n",
            "  >>> categories = ['alt.atheism', 'talk.religion.misc',\n",
            "  ...               'comp.graphics', 'sci.space']\n",
            "  >>> newsgroups_train = fetch_20newsgroups(subset='train',\n",
            "  ...                                       categories=categories)\n",
            "  >>> vectorizer = TfidfVectorizer()\n",
            "  >>> vectors = vectorizer.fit_transform(newsgroups_train.data)\n",
            "  >>> vectors.shape\n",
            "  (2034, 34118)\n",
            "\n",
            "The extracted TF-IDF vectors are very sparse, with an average of 159 non-zero\n",
            "components by sample in a more than 30000-dimensional space\n",
            "(less than .5% non-zero features)::\n",
            "\n",
            "  >>> vectors.nnz / float(vectors.shape[0])\n",
            "  159.01327...\n",
            "\n",
            ":func:`sklearn.datasets.fetch_20newsgroups_vectorized` is a function which \n",
            "returns ready-to-use token counts features instead of file names.\n",
            "\n",
            ".. _`20 newsgroups website`: http://people.csail.mit.edu/jrennie/20Newsgroups/\n",
            ".. _`TF-IDF`: https://en.wikipedia.org/wiki/Tf-idf\n",
            "\n",
            "\n",
            "Filtering text for more realistic training\n",
            "~~~~~~~~~~~~~~~~~~~~~~~~~~~~~~~~~~~~~~~~~~\n",
            "\n",
            "It is easy for a classifier to overfit on particular things that appear in the\n",
            "20 Newsgroups data, such as newsgroup headers. Many classifiers achieve very\n",
            "high F-scores, but their results would not generalize to other documents that\n",
            "aren't from this window of time.\n",
            "\n",
            "For example, let's look at the results of a multinomial Naive Bayes classifier,\n",
            "which is fast to train and achieves a decent F-score::\n",
            "\n",
            "  >>> from sklearn.naive_bayes import MultinomialNB\n",
            "  >>> from sklearn import metrics\n",
            "  >>> newsgroups_test = fetch_20newsgroups(subset='test',\n",
            "  ...                                      categories=categories)\n",
            "  >>> vectors_test = vectorizer.transform(newsgroups_test.data)\n",
            "  >>> clf = MultinomialNB(alpha=.01)\n",
            "  >>> clf.fit(vectors, newsgroups_train.target)\n",
            "  MultinomialNB(alpha=0.01, class_prior=None, fit_prior=True)\n",
            "\n",
            "  >>> pred = clf.predict(vectors_test)\n",
            "  >>> metrics.f1_score(newsgroups_test.target, pred, average='macro')\n",
            "  0.88213...\n",
            "\n",
            "(The example :ref:`sphx_glr_auto_examples_text_plot_document_classification_20newsgroups.py` shuffles\n",
            "the training and test data, instead of segmenting by time, and in that case\n",
            "multinomial Naive Bayes gets a much higher F-score of 0.88. Are you suspicious\n",
            "yet of what's going on inside this classifier?)\n",
            "\n",
            "Let's take a look at what the most informative features are:\n",
            "\n",
            "  >>> import numpy as np\n",
            "  >>> def show_top10(classifier, vectorizer, categories):\n",
            "  ...     feature_names = np.asarray(vectorizer.get_feature_names())\n",
            "  ...     for i, category in enumerate(categories):\n",
            "  ...         top10 = np.argsort(classifier.coef_[i])[-10:]\n",
            "  ...         print(\"%s: %s\" % (category, \" \".join(feature_names[top10])))\n",
            "  ...\n",
            "  >>> show_top10(clf, vectorizer, newsgroups_train.target_names)\n",
            "  alt.atheism: edu it and in you that is of to the\n",
            "  comp.graphics: edu in graphics it is for and of to the\n",
            "  sci.space: edu it that is in and space to of the\n",
            "  talk.religion.misc: not it you in is that and to of the\n",
            "\n",
            "\n",
            "You can now see many things that these features have overfit to:\n",
            "\n",
            "- Almost every group is distinguished by whether headers such as\n",
            "  ``NNTP-Posting-Host:`` and ``Distribution:`` appear more or less often.\n",
            "- Another significant feature involves whether the sender is affiliated with\n",
            "  a university, as indicated either by their headers or their signature.\n",
            "- The word \"article\" is a significant feature, based on how often people quote\n",
            "  previous posts like this: \"In article [article ID], [name] <[e-mail address]>\n",
            "  wrote:\"\n",
            "- Other features match the names and e-mail addresses of particular people who\n",
            "  were posting at the time.\n",
            "\n",
            "With such an abundance of clues that distinguish newsgroups, the classifiers\n",
            "barely have to identify topics from text at all, and they all perform at the\n",
            "same high level.\n",
            "\n",
            "For this reason, the functions that load 20 Newsgroups data provide a\n",
            "parameter called **remove**, telling it what kinds of information to strip out\n",
            "of each file. **remove** should be a tuple containing any subset of\n",
            "``('headers', 'footers', 'quotes')``, telling it to remove headers, signature\n",
            "blocks, and quotation blocks respectively.\n",
            "\n",
            "  >>> newsgroups_test = fetch_20newsgroups(subset='test',\n",
            "  ...                                      remove=('headers', 'footers', 'quotes'),\n",
            "  ...                                      categories=categories)\n",
            "  >>> vectors_test = vectorizer.transform(newsgroups_test.data)\n",
            "  >>> pred = clf.predict(vectors_test)\n",
            "  >>> metrics.f1_score(pred, newsgroups_test.target, average='macro')\n",
            "  0.77310...\n",
            "\n",
            "This classifier lost over a lot of its F-score, just because we removed\n",
            "metadata that has little to do with topic classification.\n",
            "It loses even more if we also strip this metadata from the training data:\n",
            "\n",
            "  >>> newsgroups_train = fetch_20newsgroups(subset='train',\n",
            "  ...                                       remove=('headers', 'footers', 'quotes'),\n",
            "  ...                                       categories=categories)\n",
            "  >>> vectors = vectorizer.fit_transform(newsgroups_train.data)\n",
            "  >>> clf = MultinomialNB(alpha=.01)\n",
            "  >>> clf.fit(vectors, newsgroups_train.target)\n",
            "  MultinomialNB(alpha=0.01, class_prior=None, fit_prior=True)\n",
            "\n",
            "  >>> vectors_test = vectorizer.transform(newsgroups_test.data)\n",
            "  >>> pred = clf.predict(vectors_test)\n",
            "  >>> metrics.f1_score(newsgroups_test.target, pred, average='macro')\n",
            "  0.76995...\n",
            "\n",
            "Some other classifiers cope better with this harder version of the task. Try\n",
            "running :ref:`sphx_glr_auto_examples_model_selection_grid_search_text_feature_extraction.py` with and without\n",
            "the ``--filter`` option to compare the results.\n",
            "\n",
            ".. topic:: Recommendation\n",
            "\n",
            "  When evaluating text classifiers on the 20 Newsgroups data, you\n",
            "  should strip newsgroup-related metadata. In scikit-learn, you can do this by\n",
            "  setting ``remove=('headers', 'footers', 'quotes')``. The F-score will be\n",
            "  lower because it is more realistic.\n",
            "\n",
            ".. topic:: Examples\n",
            "\n",
            "   * :ref:`sphx_glr_auto_examples_model_selection_grid_search_text_feature_extraction.py`\n",
            "\n",
            "   * :ref:`sphx_glr_auto_examples_text_plot_document_classification_20newsgroups.py`\n",
            "\n"
          ],
          "name": "stdout"
        }
      ]
    },
    {
      "cell_type": "markdown",
      "metadata": {
        "id": "50PUIQrtJDMA"
      },
      "source": [
        "Para simplificar, um subset de categorias de categorias foi definido em aula."
      ]
    },
    {
      "cell_type": "code",
      "metadata": {
        "colab": {
          "base_uri": "https://localhost:8080/"
        },
        "id": "DrdZ98XqiIzQ",
        "outputId": "8838f09a-0bf6-457e-cf10-68cc4db2bb44"
      },
      "source": [
        "#Print das categorias\n",
        "print(data.target_names)"
      ],
      "execution_count": 4,
      "outputs": [
        {
          "output_type": "stream",
          "text": [
            "['alt.atheism', 'comp.graphics', 'comp.os.ms-windows.misc', 'comp.sys.ibm.pc.hardware', 'comp.sys.mac.hardware', 'comp.windows.x', 'misc.forsale', 'rec.autos', 'rec.motorcycles', 'rec.sport.baseball', 'rec.sport.hockey', 'sci.crypt', 'sci.electronics', 'sci.med', 'sci.space', 'soc.religion.christian', 'talk.politics.guns', 'talk.politics.mideast', 'talk.politics.misc', 'talk.religion.misc']\n"
          ],
          "name": "stdout"
        }
      ]
    },
    {
      "cell_type": "code",
      "metadata": {
        "id": "OToWgPOcJBCB"
      },
      "source": [
        "#Seleção de categorias específicas\n",
        "categories = ['talk.religion.misc', \n",
        "              'soc.religion.christian',\n",
        "              'sci.space', \n",
        "              'comp.graphics']"
      ],
      "execution_count": 5,
      "outputs": []
    },
    {
      "cell_type": "markdown",
      "metadata": {
        "id": "FXkuwvV6c_6o"
      },
      "source": [
        "####Definindo Amostras de Treino e Teste"
      ]
    },
    {
      "cell_type": "markdown",
      "metadata": {
        "id": "kF0B7Yw_VB9z"
      },
      "source": [
        "####Aplicando Vetorizador TF-IDF"
      ]
    },
    {
      "cell_type": "markdown",
      "metadata": {
        "id": "3C5XP2fbdorb"
      },
      "source": [
        "A versão de algoritmo Naive Bayes escolhida para esta aplicação foi o BernoulliNB (`sklearn.naive_bayes.BernoulliNB`). Assim como o MultinomialNB, BernoulliNB é um classificador adequado para dados discretos. Porém, ao contrário do MultinomialNB, que trabalha com contagens de ocorrências, o BernoulliNB é projetado para recursos binários/booleanos."
      ]
    },
    {
      "cell_type": "markdown",
      "metadata": {
        "id": "YEnH_CiqnleI"
      },
      "source": [
        "Inicialmente foram utilizadas amostras de registros pertencentes a somente as categorias especificadas em `categories`. Não houve remoção de `headers` e/ou `footers` e/ou `quotes` das notícias contidas em 20newsgroups. \n",
        "\n",
        "Para os demais casos, pode ocorrer uma nova geração de conjuntos de treino e teste."
      ]
    },
    {
      "cell_type": "code",
      "metadata": {
        "id": "uTHD42HeiR0Z"
      },
      "source": [
        "#Retorna os sets de treino e teste, respectivamente\n",
        "def define_train_test_sets(cat, remover):\n",
        "  return fetch_20newsgroups(subset='train', categories=cat, remove=remover), fetch_20newsgroups(subset='test', categories=cat, remove=remover)"
      ],
      "execution_count": 6,
      "outputs": []
    },
    {
      "cell_type": "code",
      "metadata": {
        "id": "TCFBv3qtisWn"
      },
      "source": [
        "#Definição dos conjuntos de treino e teste\n",
        "train, test = define_train_test_sets(categories, ())"
      ],
      "execution_count": 7,
      "outputs": []
    },
    {
      "cell_type": "code",
      "metadata": {
        "id": "FpQ6Ja-PrObz"
      },
      "source": [
        "#Definição dos modelos utilizados\n",
        "model1 = make_pipeline(TfidfVectorizer(), BernoulliNB()) #considerando stopwords\n",
        "model2 = make_pipeline(TfidfVectorizer(stop_words='english'), BernoulliNB()) #desconsiderando stopwords"
      ],
      "execution_count": 8,
      "outputs": []
    },
    {
      "cell_type": "markdown",
      "metadata": {
        "id": "OW3oq_7OoTw0"
      },
      "source": [
        "#####Caso 1"
      ]
    },
    {
      "cell_type": "markdown",
      "metadata": {
        "id": "ZWtyqnhNoYBw"
      },
      "source": [
        "Conjunto de dados de treino e teste simples, sem remoções de partes de notícias. \n",
        "\n",
        "Pipeline contendo os seguintes estimadores:\n",
        "* TfidfVectorizer(), \n",
        "* BernoulliNB()."
      ]
    },
    {
      "cell_type": "code",
      "metadata": {
        "id": "MoSy-QOUI-QP",
        "colab": {
          "base_uri": "https://localhost:8080/",
          "height": 470
        },
        "outputId": "dc380aea-d4fd-40d5-d019-9e6088973398"
      },
      "source": [
        "model1.fit(train.data, train.target)\n",
        "\n",
        "labels = model1.predict(test.data)\n",
        "\n",
        "print(classification_report(test.target, labels))\n",
        "plot_confusion_matrix(model1, test.data, test.target, normalize='true' );"
      ],
      "execution_count": 9,
      "outputs": [
        {
          "output_type": "stream",
          "text": [
            "              precision    recall  f1-score   support\n",
            "\n",
            "           0       0.63      0.96      0.76       389\n",
            "           1       0.93      0.76      0.84       394\n",
            "           2       0.81      0.84      0.82       398\n",
            "           3       0.99      0.41      0.58       251\n",
            "\n",
            "    accuracy                           0.78      1432\n",
            "   macro avg       0.84      0.74      0.75      1432\n",
            "weighted avg       0.83      0.78      0.77      1432\n",
            "\n"
          ],
          "name": "stdout"
        },
        {
          "output_type": "display_data",
          "data": {
            "image/png": "[encoded data removed]",
            "text/plain": [
              "<Figure size 432x288 with 2 Axes>"
            ]
          },
          "metadata": {
            "tags": [],
            "needs_background": "light"
          }
        }
      ]
    },
    {
      "cell_type": "markdown",
      "metadata": {
        "id": "X121H9VipcfU"
      },
      "source": [
        "#####Caso 2"
      ]
    },
    {
      "cell_type": "markdown",
      "metadata": {
        "id": "JKtmd7uCpduU"
      },
      "source": [
        "Conjunto de dados de treino e teste simples, sem remoções de partes de notícias. O mesmo conjunto de dados do Caso 1.\n",
        "\n",
        "Pipeline contendo os seguintes estimadores:\n",
        "* TfidfVectorizer(stop_words='english'), \n",
        "* BernoulliNB()."
      ]
    },
    {
      "cell_type": "code",
      "metadata": {
        "id": "fCJK4d-MaOcF",
        "colab": {
          "base_uri": "https://localhost:8080/",
          "height": 470
        },
        "outputId": "3ae2836e-9ecd-4b38-8043-25099b3ff5fa"
      },
      "source": [
        "model2.fit(train.data, train.target)\n",
        "\n",
        "labels = model2.predict(test.data)\n",
        "\n",
        "print(classification_report(test.target, labels))\n",
        "plot_confusion_matrix(model2, test.data, test.target, normalize='true' );"
      ],
      "execution_count": 10,
      "outputs": [
        {
          "output_type": "stream",
          "text": [
            "              precision    recall  f1-score   support\n",
            "\n",
            "           0       0.67      0.98      0.80       389\n",
            "           1       0.94      0.80      0.86       394\n",
            "           2       0.83      0.88      0.85       398\n",
            "           3       0.99      0.44      0.61       251\n",
            "\n",
            "    accuracy                           0.81      1432\n",
            "   macro avg       0.86      0.77      0.78      1432\n",
            "weighted avg       0.85      0.81      0.80      1432\n",
            "\n"
          ],
          "name": "stdout"
        },
        {
          "output_type": "display_data",
          "data": {
            "image/png": "[encoded data removed]",
            "text/plain": [
              "<Figure size 432x288 with 2 Axes>"
            ]
          },
          "metadata": {
            "tags": [],
            "needs_background": "light"
          }
        }
      ]
    },
    {
      "cell_type": "markdown",
      "metadata": {
        "id": "mwsIJ1ERpVch"
      },
      "source": [
        "#####Caso 3"
      ]
    },
    {
      "cell_type": "markdown",
      "metadata": {
        "id": "ZesApkYGpVci"
      },
      "source": [
        "Conjunto de dados de treino e teste desconsiderando cabeçalhos, rodapés e citações contidas nas notícias.\n",
        "\n",
        "Pipeline contendo os seguintes estimadores:\n",
        "* TfidfVectorizer(),\n",
        "* BernoulliNB()."
      ]
    },
    {
      "cell_type": "code",
      "metadata": {
        "id": "tL802h4hJawY",
        "colab": {
          "base_uri": "https://localhost:8080/",
          "height": 470
        },
        "outputId": "e5ceab66-f03d-4220-bd01-de8e6c817ada"
      },
      "source": [
        "train, test = define_train_test_sets(categories, ('headers', 'footers', 'quotes'))\n",
        "\n",
        "model1.fit(train.data, train.target)\n",
        "\n",
        "labels = model1.predict(test.data)\n",
        "\n",
        "print(classification_report(test.target, labels))\n",
        "plot_confusion_matrix(model1, test.data, test.target, normalize='true' );"
      ],
      "execution_count": 11,
      "outputs": [
        {
          "output_type": "stream",
          "text": [
            "              precision    recall  f1-score   support\n",
            "\n",
            "           0       0.45      0.94      0.61       389\n",
            "           1       0.90      0.51      0.65       394\n",
            "           2       0.67      0.66      0.66       398\n",
            "           3       1.00      0.02      0.03       251\n",
            "\n",
            "    accuracy                           0.58      1432\n",
            "   macro avg       0.76      0.53      0.49      1432\n",
            "weighted avg       0.73      0.58      0.54      1432\n",
            "\n"
          ],
          "name": "stdout"
        },
        {
          "output_type": "display_data",
          "data": {
            "image/png": "[encoded data removed]",
            "text/plain": [
              "<Figure size 432x288 with 2 Axes>"
            ]
          },
          "metadata": {
            "tags": [],
            "needs_background": "light"
          }
        }
      ]
    },
    {
      "cell_type": "markdown",
      "metadata": {
        "id": "sXbX4lBXrAnH"
      },
      "source": [
        "#####Caso 4"
      ]
    },
    {
      "cell_type": "markdown",
      "metadata": {
        "id": "BFf6LvzCrGMU"
      },
      "source": [
        "Conjunto de dados de treino e teste desconsiderando cabeçalhos, rodapés e citações contidas nas notícias. O mesmo conjunto de dados do Caso 3.\n",
        "\n",
        "Pipeline contendo os seguintes estimadores:\n",
        "* TfidfVectorizer(stop_words='english'),\n",
        "* BernoulliNB()."
      ]
    },
    {
      "cell_type": "code",
      "metadata": {
        "id": "uM45ivnJJEvd",
        "colab": {
          "base_uri": "https://localhost:8080/",
          "height": 470
        },
        "outputId": "df314583-5e2e-48c3-c63e-3283c33d1652"
      },
      "source": [
        "model2.fit(train.data, train.target)\n",
        "\n",
        "labels = model2.predict(test.data)\n",
        "\n",
        "print(classification_report(test.target, labels))\n",
        "plot_confusion_matrix(model2, test.data, test.target, normalize='true' );"
      ],
      "execution_count": 12,
      "outputs": [
        {
          "output_type": "stream",
          "text": [
            "              precision    recall  f1-score   support\n",
            "\n",
            "           0       0.48      0.96      0.64       389\n",
            "           1       0.92      0.53      0.68       394\n",
            "           2       0.70      0.74      0.72       398\n",
            "           3       1.00      0.02      0.05       251\n",
            "\n",
            "    accuracy                           0.62      1432\n",
            "   macro avg       0.78      0.56      0.52      1432\n",
            "weighted avg       0.75      0.62      0.57      1432\n",
            "\n"
          ],
          "name": "stdout"
        },
        {
          "output_type": "display_data",
          "data": {
            "image/png": "[encoded data removed]",
            "text/plain": [
              "<Figure size 432x288 with 2 Axes>"
            ]
          },
          "metadata": {
            "tags": [],
            "needs_background": "light"
          }
        }
      ]
    },
    {
      "cell_type": "markdown",
      "metadata": {
        "id": "WyTY2ckcs8OQ"
      },
      "source": [
        "#####Caso 5"
      ]
    },
    {
      "cell_type": "markdown",
      "metadata": {
        "id": "PTi4vHAus-h1"
      },
      "source": [
        "Conjunto de dados de treino e teste desconsiderando cabeçalhos e rodapés contidos nas notícias.\n",
        "\n",
        "Pipeline contendo os seguintes estimadores:\n",
        "* TfidfVectorizer(),\n",
        "* BernoulliNB()."
      ]
    },
    {
      "cell_type": "code",
      "metadata": {
        "id": "-zWPAgIuJ8eb",
        "colab": {
          "base_uri": "https://localhost:8080/",
          "height": 470
        },
        "outputId": "644e43fa-0fae-4185-a864-64336864c3c1"
      },
      "source": [
        "train, test = define_train_test_sets(categories, ('headers', 'footers'))\n",
        "\n",
        "model1.fit(train.data, train.target)\n",
        "\n",
        "labels = model1.predict(test.data)\n",
        "\n",
        "print(classification_report(test.target, labels))\n",
        "plot_confusion_matrix(model1, test.data, test.target, normalize='true' );"
      ],
      "execution_count": 13,
      "outputs": [
        {
          "output_type": "stream",
          "text": [
            "              precision    recall  f1-score   support\n",
            "\n",
            "           0       0.55      0.94      0.70       389\n",
            "           1       0.92      0.66      0.77       394\n",
            "           2       0.73      0.78      0.76       398\n",
            "           3       0.97      0.23      0.37       251\n",
            "\n",
            "    accuracy                           0.70      1432\n",
            "   macro avg       0.79      0.65      0.65      1432\n",
            "weighted avg       0.78      0.70      0.68      1432\n",
            "\n"
          ],
          "name": "stdout"
        },
        {
          "output_type": "display_data",
          "data": {
            "image/png": "[encoded data removed]",
            "text/plain": [
              "<Figure size 432x288 with 2 Axes>"
            ]
          },
          "metadata": {
            "tags": [],
            "needs_background": "light"
          }
        }
      ]
    },
    {
      "cell_type": "markdown",
      "metadata": {
        "id": "J_0r-_Oft7To"
      },
      "source": [
        "#####Caso 6"
      ]
    },
    {
      "cell_type": "markdown",
      "metadata": {
        "id": "0ZDwNWIit7Tp"
      },
      "source": [
        "Conjunto de dados de treino e teste desconsiderando cabeçalhos e rodapés contidos nas notícias. O mesmo conjunto de dados do Caso 5.\n",
        "\n",
        "Pipeline contendo os seguintes estimadores:\n",
        "* TfidfVectorizer(stop_words='english'),\n",
        "* BernoulliNB()."
      ]
    },
    {
      "cell_type": "code",
      "metadata": {
        "id": "7-t1GbMxJ10P",
        "colab": {
          "base_uri": "https://localhost:8080/",
          "height": 470
        },
        "outputId": "8a31ab1a-6688-456e-a90c-7ad99ae61b73"
      },
      "source": [
        "model2.fit(train.data, train.target)\n",
        "\n",
        "labels = model2.predict(test.data)\n",
        "\n",
        "print(classification_report(test.target, labels))\n",
        "plot_confusion_matrix(model2, test.data, test.target, normalize='true' );"
      ],
      "execution_count": 14,
      "outputs": [
        {
          "output_type": "stream",
          "text": [
            "              precision    recall  f1-score   support\n",
            "\n",
            "           0       0.57      0.97      0.72       389\n",
            "           1       0.94      0.66      0.78       394\n",
            "           2       0.75      0.82      0.78       398\n",
            "           3       0.97      0.25      0.39       251\n",
            "\n",
            "    accuracy                           0.72      1432\n",
            "   macro avg       0.81      0.67      0.67      1432\n",
            "weighted avg       0.79      0.72      0.70      1432\n",
            "\n"
          ],
          "name": "stdout"
        },
        {
          "output_type": "display_data",
          "data": {
            "image/png": "[encoded data removed]",
            "text/plain": [
              "<Figure size 432x288 with 2 Axes>"
            ]
          },
          "metadata": {
            "tags": [],
            "needs_background": "light"
          }
        }
      ]
    },
    {
      "cell_type": "markdown",
      "metadata": {
        "id": "4ZH80pGyuZn-"
      },
      "source": [
        "#####Caso 7"
      ]
    },
    {
      "cell_type": "markdown",
      "metadata": {
        "id": "RrM3yBLKubao"
      },
      "source": [
        "Conjunto de dados de treino e teste desconsiderando cabeçalhos e citações contidas nas notícias. \n",
        "\n",
        "Pipeline contendo os seguintes estimadores:\n",
        "* TfidfVectorizer(),\n",
        "* BernoulliNB()."
      ]
    },
    {
      "cell_type": "code",
      "metadata": {
        "id": "sNfS25gpKUTC",
        "colab": {
          "base_uri": "https://localhost:8080/",
          "height": 470
        },
        "outputId": "d0f45d04-561e-4f57-f7b2-9f0f25abbc3f"
      },
      "source": [
        "train, test = define_train_test_sets(categories, ('headers', 'footers'))\n",
        "\n",
        "model1.fit(train.data, train.target)\n",
        "\n",
        "labels = model1.predict(test.data)\n",
        "\n",
        "print(classification_report(test.target, labels))\n",
        "plot_confusion_matrix(model1, test.data, test.target, normalize='true' );"
      ],
      "execution_count": 15,
      "outputs": [
        {
          "output_type": "stream",
          "text": [
            "              precision    recall  f1-score   support\n",
            "\n",
            "           0       0.55      0.94      0.70       389\n",
            "           1       0.92      0.66      0.77       394\n",
            "           2       0.73      0.78      0.76       398\n",
            "           3       0.97      0.23      0.37       251\n",
            "\n",
            "    accuracy                           0.70      1432\n",
            "   macro avg       0.79      0.65      0.65      1432\n",
            "weighted avg       0.78      0.70      0.68      1432\n",
            "\n"
          ],
          "name": "stdout"
        },
        {
          "output_type": "display_data",
          "data": {
            "image/png": "[encoded data removed]",
            "text/plain": [
              "<Figure size 432x288 with 2 Axes>"
            ]
          },
          "metadata": {
            "tags": [],
            "needs_background": "light"
          }
        }
      ]
    },
    {
      "cell_type": "markdown",
      "metadata": {
        "id": "0JPWkPLwvDze"
      },
      "source": [
        "#####Caso 8"
      ]
    },
    {
      "cell_type": "markdown",
      "metadata": {
        "id": "koC7q_XNvDzf"
      },
      "source": [
        "Conjunto de dados de treino e teste desconsiderando cabeçalhos e citações contidas nas notícias. O mesmo conjunto de dados do Caso 7. \n",
        "\n",
        "Pipeline contendo os seguintes estimadores:\n",
        "* TfidfVectorizer(stop_words='english'),\n",
        "* BernoulliNB()."
      ]
    },
    {
      "cell_type": "code",
      "metadata": {
        "id": "XnqDRVkYKNBR",
        "colab": {
          "base_uri": "https://localhost:8080/",
          "height": 470
        },
        "outputId": "cb893146-179f-43fc-84e8-821f44a8d632"
      },
      "source": [
        "model2.fit(train.data, train.target)\n",
        "\n",
        "labels = model2.predict(test.data)\n",
        "\n",
        "print(classification_report(test.target, labels))\n",
        "plot_confusion_matrix(model2, test.data, test.target, normalize='true' );"
      ],
      "execution_count": 16,
      "outputs": [
        {
          "output_type": "stream",
          "text": [
            "              precision    recall  f1-score   support\n",
            "\n",
            "           0       0.57      0.97      0.72       389\n",
            "           1       0.94      0.66      0.78       394\n",
            "           2       0.75      0.82      0.78       398\n",
            "           3       0.97      0.25      0.39       251\n",
            "\n",
            "    accuracy                           0.72      1432\n",
            "   macro avg       0.81      0.67      0.67      1432\n",
            "weighted avg       0.79      0.72      0.70      1432\n",
            "\n"
          ],
          "name": "stdout"
        },
        {
          "output_type": "display_data",
          "data": {
            "image/png": "[encoded data removed]",
            "text/plain": [
              "<Figure size 432x288 with 2 Axes>"
            ]
          },
          "metadata": {
            "tags": [],
            "needs_background": "light"
          }
        }
      ]
    },
    {
      "cell_type": "markdown",
      "metadata": {
        "id": "vCtfOSM1vRuR"
      },
      "source": [
        "#####Caso 9"
      ]
    },
    {
      "cell_type": "markdown",
      "metadata": {
        "id": "Ck4l77f4vUSH"
      },
      "source": [
        "Conjunto de dados de treino e teste desconsiderando rodapés e citações contidas nas notícias. \n",
        "\n",
        "Pipeline contendo os seguintes estimadores:\n",
        "* TfidfVectorizer(),\n",
        "* BernoulliNB()."
      ]
    },
    {
      "cell_type": "code",
      "metadata": {
        "id": "GQbkNrdNKk9r",
        "colab": {
          "base_uri": "https://localhost:8080/",
          "height": 470
        },
        "outputId": "6be1e27a-f0fd-4058-b117-082e4cc48a80"
      },
      "source": [
        "train, test = define_train_test_sets(categories, ('quotes', 'footers'))\n",
        "\n",
        "model1.fit(train.data, train.target)\n",
        "\n",
        "labels = model1.predict(test.data)\n",
        "\n",
        "print(classification_report(test.target, labels))\n",
        "plot_confusion_matrix(model1, test.data, test.target, normalize='true' );"
      ],
      "execution_count": 17,
      "outputs": [
        {
          "output_type": "stream",
          "text": [
            "              precision    recall  f1-score   support\n",
            "\n",
            "           0       0.52      0.95      0.67       389\n",
            "           1       0.92      0.65      0.77       394\n",
            "           2       0.73      0.75      0.74       398\n",
            "           3       1.00      0.13      0.23       251\n",
            "\n",
            "    accuracy                           0.67      1432\n",
            "   macro avg       0.79      0.62      0.60      1432\n",
            "weighted avg       0.77      0.67      0.64      1432\n",
            "\n"
          ],
          "name": "stdout"
        },
        {
          "output_type": "display_data",
          "data": {
            "image/png": "[encoded data removed]",
            "text/plain": [
              "<Figure size 432x288 with 2 Axes>"
            ]
          },
          "metadata": {
            "tags": [],
            "needs_background": "light"
          }
        }
      ]
    },
    {
      "cell_type": "markdown",
      "metadata": {
        "id": "Ge4wMgyvvwIr"
      },
      "source": [
        "#####Caso 10"
      ]
    },
    {
      "cell_type": "markdown",
      "metadata": {
        "id": "BusAo-3Zvxuz"
      },
      "source": [
        "Conjunto de dados de treino e teste desconsiderando rodapés e citações contidas nas notícias. O mesmo conjunto de dados do Caso 9.\n",
        "\n",
        "Pipeline contendo os seguintes estimadores:\n",
        "* TfidfVectorizer(stop_words='english'),\n",
        "* BernoulliNB()."
      ]
    },
    {
      "cell_type": "code",
      "metadata": {
        "id": "sHIGRzvzKeUD",
        "colab": {
          "base_uri": "https://localhost:8080/",
          "height": 470
        },
        "outputId": "af378049-d68a-4f49-81d1-cb930b415797"
      },
      "source": [
        "model2.fit(train.data, train.target)\n",
        "\n",
        "labels = model2.predict(test.data)\n",
        "\n",
        "print(classification_report(test.target, labels))\n",
        "plot_confusion_matrix(model2, test.data, test.target, normalize='true' );"
      ],
      "execution_count": 18,
      "outputs": [
        {
          "output_type": "stream",
          "text": [
            "              precision    recall  f1-score   support\n",
            "\n",
            "           0       0.56      0.97      0.71       389\n",
            "           1       0.95      0.70      0.81       394\n",
            "           2       0.77      0.82      0.79       398\n",
            "           3       0.95      0.16      0.27       251\n",
            "\n",
            "    accuracy                           0.71      1432\n",
            "   macro avg       0.81      0.66      0.64      1432\n",
            "weighted avg       0.79      0.71      0.68      1432\n",
            "\n"
          ],
          "name": "stdout"
        },
        {
          "output_type": "display_data",
          "data": {
            "image/png": "[encoded data removed]",
            "text/plain": [
              "<Figure size 432x288 with 2 Axes>"
            ]
          },
          "metadata": {
            "tags": [],
            "needs_background": "light"
          }
        }
      ]
    },
    {
      "cell_type": "markdown",
      "metadata": {
        "id": "RSOhdtt8wQ0F"
      },
      "source": [
        "#####Caso 11"
      ]
    },
    {
      "cell_type": "markdown",
      "metadata": {
        "id": "IOnFNzu07UtP"
      },
      "source": [
        "Conjunto de dados de treino e teste desconsiderando somente os rodapés contidos nas notícias. \n",
        "\n",
        "Pipeline contendo os seguintes estimadores:\n",
        "* TfidfVectorizer(),\n",
        "* BernoulliNB()."
      ]
    },
    {
      "cell_type": "code",
      "metadata": {
        "colab": {
          "base_uri": "https://localhost:8080/",
          "height": 470
        },
        "id": "QkEl3Hn8K9u2",
        "outputId": "f077dc2a-b4fc-4120-a5cd-1b08498a9ab8"
      },
      "source": [
        "train, test = define_train_test_sets(categories, ('footers'))\n",
        "\n",
        "model1.fit(train.data, train.target)\n",
        "\n",
        "labels = model1.predict(test.data)\n",
        "\n",
        "print(classification_report(test.target, labels))\n",
        "plot_confusion_matrix(model1, test.data, test.target, normalize='true' );"
      ],
      "execution_count": 19,
      "outputs": [
        {
          "output_type": "stream",
          "text": [
            "              precision    recall  f1-score   support\n",
            "\n",
            "           0       0.59      0.95      0.73       389\n",
            "           1       0.94      0.73      0.82       394\n",
            "           2       0.81      0.81      0.81       398\n",
            "           3       0.98      0.41      0.58       251\n",
            "\n",
            "    accuracy                           0.76      1432\n",
            "   macro avg       0.83      0.73      0.74      1432\n",
            "weighted avg       0.82      0.76      0.75      1432\n",
            "\n"
          ],
          "name": "stdout"
        },
        {
          "output_type": "display_data",
          "data": {
            "image/png": "[encoded data removed]",
            "text/plain": [
              "<Figure size 432x288 with 2 Axes>"
            ]
          },
          "metadata": {
            "tags": [],
            "needs_background": "light"
          }
        }
      ]
    },
    {
      "cell_type": "markdown",
      "metadata": {
        "id": "EkXDGjj87usw"
      },
      "source": [
        "#####Caso 12"
      ]
    },
    {
      "cell_type": "markdown",
      "metadata": {
        "id": "WRIMyDCT7usy"
      },
      "source": [
        "Conjunto de dados de treino e teste desconsiderando somente os rodapés contidos nas notícias. O mesmo conjunto de dados do Caso 11.\n",
        "\n",
        "Pipeline contendo os seguintes estimadores:\n",
        "* TfidfVectorizer(stop_words='english'),\n",
        "* BernoulliNB()."
      ]
    },
    {
      "cell_type": "code",
      "metadata": {
        "colab": {
          "base_uri": "https://localhost:8080/",
          "height": 470
        },
        "id": "G31AQ9JZLGmo",
        "outputId": "c05e6b05-165c-4220-bc48-c5edeef06836"
      },
      "source": [
        "model2.fit(train.data, train.target)\n",
        "\n",
        "labels = model2.predict(test.data)\n",
        "\n",
        "print(classification_report(test.target, labels))\n",
        "plot_confusion_matrix(model2, test.data, test.target, normalize='true' );"
      ],
      "execution_count": 20,
      "outputs": [
        {
          "output_type": "stream",
          "text": [
            "              precision    recall  f1-score   support\n",
            "\n",
            "           0       0.64      0.97      0.77       389\n",
            "           1       0.95      0.78      0.86       394\n",
            "           2       0.81      0.85      0.83       398\n",
            "           3       0.98      0.40      0.57       251\n",
            "\n",
            "    accuracy                           0.78      1432\n",
            "   macro avg       0.85      0.75      0.76      1432\n",
            "weighted avg       0.83      0.78      0.78      1432\n",
            "\n"
          ],
          "name": "stdout"
        },
        {
          "output_type": "display_data",
          "data": {
            "image/png": "[encoded data removed]",
            "text/plain": [
              "<Figure size 432x288 with 2 Axes>"
            ]
          },
          "metadata": {
            "tags": [],
            "needs_background": "light"
          }
        }
      ]
    },
    {
      "cell_type": "markdown",
      "metadata": {
        "id": "5wuEkERD7-sE"
      },
      "source": [
        "#####Caso 13"
      ]
    },
    {
      "cell_type": "markdown",
      "metadata": {
        "id": "fyW8EBVK7-sG"
      },
      "source": [
        "Conjunto de dados de treino e teste desconsiderando somente as citações contidas nas notícias. \n",
        "\n",
        "Pipeline contendo os seguintes estimadores:\n",
        "* TfidfVectorizer(),\n",
        "* BernoulliNB()."
      ]
    },
    {
      "cell_type": "code",
      "metadata": {
        "colab": {
          "base_uri": "https://localhost:8080/",
          "height": 470
        },
        "id": "HIpobyUZLa_a",
        "outputId": "5803722a-2d07-4cc5-d969-10b5ac587ebf"
      },
      "source": [
        "train, test = define_train_test_sets(categories, ('quotes'))\n",
        "\n",
        "model1.fit(train.data, train.target)\n",
        "\n",
        "labels = model1.predict(test.data)\n",
        "\n",
        "print(classification_report(test.target, labels))\n",
        "plot_confusion_matrix(model1, test.data, test.target, normalize='true' );"
      ],
      "execution_count": 21,
      "outputs": [
        {
          "output_type": "stream",
          "text": [
            "              precision    recall  f1-score   support\n",
            "\n",
            "           0       0.54      0.95      0.69       389\n",
            "           1       0.93      0.69      0.79       394\n",
            "           2       0.75      0.77      0.76       398\n",
            "           3       0.98      0.16      0.28       251\n",
            "\n",
            "    accuracy                           0.69      1432\n",
            "   macro avg       0.80      0.65      0.63      1432\n",
            "weighted avg       0.78      0.69      0.67      1432\n",
            "\n"
          ],
          "name": "stdout"
        },
        {
          "output_type": "display_data",
          "data": {
            "image/png": "[encoded data removed]",
            "text/plain": [
              "<Figure size 432x288 with 2 Axes>"
            ]
          },
          "metadata": {
            "tags": [],
            "needs_background": "light"
          }
        }
      ]
    },
    {
      "cell_type": "markdown",
      "metadata": {
        "id": "mosarQSj8aMB"
      },
      "source": [
        "#####Caso 14"
      ]
    },
    {
      "cell_type": "markdown",
      "metadata": {
        "id": "qQvlkF9r8aMJ"
      },
      "source": [
        "Conjunto de dados de treino e teste desconsiderando somente as citações contidas nas notícias. O mesmo conjunto de dados do Caso 13.\n",
        "\n",
        "Pipeline contendo os seguintes estimadores:\n",
        "* TfidfVectorizer(stop_words='english'),\n",
        "* BernoulliNB()."
      ]
    },
    {
      "cell_type": "code",
      "metadata": {
        "colab": {
          "base_uri": "https://localhost:8080/",
          "height": 470
        },
        "id": "zhZ9kXxTLP_D",
        "outputId": "e069ea55-2af1-4d41-88af-d51917092b32"
      },
      "source": [
        "model2.fit(train.data, train.target)\n",
        "\n",
        "labels = model2.predict(test.data)\n",
        "\n",
        "print(classification_report(test.target, labels))\n",
        "plot_confusion_matrix(model2, test.data, test.target, normalize='true' );"
      ],
      "execution_count": 22,
      "outputs": [
        {
          "output_type": "stream",
          "text": [
            "              precision    recall  f1-score   support\n",
            "\n",
            "           0       0.61      0.97      0.75       389\n",
            "           1       0.93      0.73      0.82       394\n",
            "           2       0.78      0.89      0.83       398\n",
            "           3       0.96      0.21      0.34       251\n",
            "\n",
            "    accuracy                           0.75      1432\n",
            "   macro avg       0.82      0.70      0.68      1432\n",
            "weighted avg       0.81      0.75      0.72      1432\n",
            "\n"
          ],
          "name": "stdout"
        },
        {
          "output_type": "display_data",
          "data": {
            "image/png": "[encoded data removed]",
            "text/plain": [
              "<Figure size 432x288 with 2 Axes>"
            ]
          },
          "metadata": {
            "tags": [],
            "needs_background": "light"
          }
        }
      ]
    },
    {
      "cell_type": "markdown",
      "metadata": {
        "id": "WiAIgAP98z33"
      },
      "source": [
        "#####Caso 15"
      ]
    },
    {
      "cell_type": "markdown",
      "metadata": {
        "id": "1UwVjpuL8z34"
      },
      "source": [
        "Conjunto de dados de treino e teste desconsiderando somente os cabeçalhos contidos nas notícias.\n",
        "\n",
        "Pipeline contendo os seguintes estimadores:\n",
        "* TfidfVectorizer(),\n",
        "* BernoulliNB()."
      ]
    },
    {
      "cell_type": "code",
      "metadata": {
        "colab": {
          "base_uri": "https://localhost:8080/",
          "height": 470
        },
        "id": "lev6Q9YILgVY",
        "outputId": "69486658-b6bc-46e7-c180-4f931c86d38b"
      },
      "source": [
        "train, test = define_train_test_sets(categories, ('headers'))\n",
        "\n",
        "model1.fit(train.data, train.target)\n",
        "\n",
        "labels = model1.predict(test.data)\n",
        "\n",
        "print(classification_report(test.target, labels))\n",
        "plot_confusion_matrix(model1, test.data, test.target, normalize='true' );"
      ],
      "execution_count": 23,
      "outputs": [
        {
          "output_type": "stream",
          "text": [
            "              precision    recall  f1-score   support\n",
            "\n",
            "           0       0.59      0.95      0.73       389\n",
            "           1       0.94      0.73      0.82       394\n",
            "           2       0.75      0.81      0.78       398\n",
            "           3       1.00      0.28      0.44       251\n",
            "\n",
            "    accuracy                           0.73      1432\n",
            "   macro avg       0.82      0.69      0.69      1432\n",
            "weighted avg       0.80      0.73      0.72      1432\n",
            "\n"
          ],
          "name": "stdout"
        },
        {
          "output_type": "display_data",
          "data": {
            "image/png": "[encoded data removed]",
            "text/plain": [
              "<Figure size 432x288 with 2 Axes>"
            ]
          },
          "metadata": {
            "tags": [],
            "needs_background": "light"
          }
        }
      ]
    },
    {
      "cell_type": "markdown",
      "metadata": {
        "id": "guLHNj-i9P23"
      },
      "source": [
        "#####Caso 16"
      ]
    },
    {
      "cell_type": "markdown",
      "metadata": {
        "id": "3eNhrwAV9P23"
      },
      "source": [
        "Conjunto de dados de treino e teste desconsiderando somente os cabeçalhos contidos nas notícias. O mesmo conjunto de dados do Caso 15.\n",
        "\n",
        "Pipeline contendo os seguintes estimadores:\n",
        "* TfidfVectorizer(stop_words='english'),\n",
        "* BernoulliNB()."
      ]
    },
    {
      "cell_type": "code",
      "metadata": {
        "colab": {
          "base_uri": "https://localhost:8080/",
          "height": 470
        },
        "id": "Xe55sbnTLq3Y",
        "outputId": "48253fb2-9157-42b1-d340-e9779ad8fd27"
      },
      "source": [
        "model2.fit(train.data, train.target)\n",
        "\n",
        "labels = model2.predict(test.data)\n",
        "\n",
        "print(classification_report(test.target, labels))\n",
        "plot_confusion_matrix(model2, test.data, test.target, normalize='true' );"
      ],
      "execution_count": 24,
      "outputs": [
        {
          "output_type": "stream",
          "text": [
            "              precision    recall  f1-score   support\n",
            "\n",
            "           0       0.62      0.97      0.75       389\n",
            "           1       0.95      0.74      0.83       394\n",
            "           2       0.77      0.84      0.80       398\n",
            "           3       0.97      0.30      0.46       251\n",
            "\n",
            "    accuracy                           0.75      1432\n",
            "   macro avg       0.83      0.71      0.71      1432\n",
            "weighted avg       0.81      0.75      0.74      1432\n",
            "\n"
          ],
          "name": "stdout"
        },
        {
          "output_type": "display_data",
          "data": {
            "image/png": "[encoded data removed]",
            "text/plain": [
              "<Figure size 432x288 with 2 Axes>"
            ]
          },
          "metadata": {
            "tags": [],
            "needs_background": "light"
          }
        }
      ]
    },
    {
      "cell_type": "markdown",
      "metadata": {
        "id": "ii-qoiUb9ipK"
      },
      "source": [
        "####Considerações Finais"
      ]
    },
    {
      "cell_type": "markdown",
      "metadata": {
        "id": "viuQe3e-9ldV"
      },
      "source": [
        "Do modelo que não exclui stopwords, o Caso 1 é o que possui maior acurácia e melhores scores em sensibilidade (*recall*). Este caso não removeu cabeçalhos, rodapés e citações. \n",
        "\n",
        "Do modelo que exclui stopwords, o Caso 2 é o que teve melhor performance em acurácia e em sensibilidade (*recall*). Este caso também não removeu cabeçalhos, rodapés e citações. \n",
        "\n",
        "Em geral, o Caso 2 se saiu melhor que o Caso 1."
      ]
    }
  ]
}